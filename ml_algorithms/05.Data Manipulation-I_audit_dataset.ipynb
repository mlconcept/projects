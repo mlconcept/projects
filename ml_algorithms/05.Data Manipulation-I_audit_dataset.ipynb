{
 "cells": [
  {
   "cell_type": "code",
   "execution_count": 1,
   "metadata": {},
   "outputs": [
    {
     "name": "stdout",
     "output_type": "stream",
     "text": [
      "        ID  Age Employment  Education    Marital Occupation     Income  \\\n",
      "0  1004641   38    Private    College  Unmarried    Service   81838.00   \n",
      "1  1010229   35    Private  Associate     Absent  Transport   72099.00   \n",
      "2  1024587   32    Private     HSgrad   Divorced   Clerical  154676.74   \n",
      "3  1038288   45    Private   Bachelor    Married     Repair   27743.82   \n",
      "4  1044221   60    Private    College    Married  Executive    7568.23   \n",
      "\n",
      "   Gender  Deductions  Hours  RISK_Adjustment  TARGET_Adjusted  \n",
      "0  Female         0.0     72                0                0  \n",
      "1    Male         0.0     30                0                0  \n",
      "2    Male         0.0     40                0                0  \n",
      "3    Male         0.0     55             7298                1  \n",
      "4    Male         0.0     40            15024                1  \n"
     ]
    }
   ],
   "source": [
    "# Read the audit dataset into Python\n",
    "import os\n",
    "import pandas as pd\n",
    "from pandas import Series, DataFrame\n",
    "import numpy as np\n",
    "os.getcwd()\n",
    "os.chdir('E:\\Jaishree\\Data Science with R\\Datasets')\n",
    "audit = pd.read_csv('audit.csv',sep =',',header=0)\n",
    "print(audit.head())"
   ]
  },
  {
   "cell_type": "code",
   "execution_count": 2,
   "metadata": {},
   "outputs": [
    {
     "data": {
      "text/html": [
       "<div>\n",
       "<style scoped>\n",
       "    .dataframe tbody tr th:only-of-type {\n",
       "        vertical-align: middle;\n",
       "    }\n",
       "\n",
       "    .dataframe tbody tr th {\n",
       "        vertical-align: top;\n",
       "    }\n",
       "\n",
       "    .dataframe thead th {\n",
       "        text-align: right;\n",
       "    }\n",
       "</style>\n",
       "<table border=\"1\" class=\"dataframe\">\n",
       "  <thead>\n",
       "    <tr style=\"text-align: right;\">\n",
       "      <th></th>\n",
       "      <th>ID</th>\n",
       "      <th>Age</th>\n",
       "      <th>Employment</th>\n",
       "      <th>Education</th>\n",
       "      <th>Marital</th>\n",
       "      <th>Occupation</th>\n",
       "      <th>Income</th>\n",
       "      <th>Gender</th>\n",
       "      <th>Deductions</th>\n",
       "      <th>Hours</th>\n",
       "      <th>RISK_Adjustment</th>\n",
       "      <th>TARGET_Adjusted</th>\n",
       "    </tr>\n",
       "  </thead>\n",
       "  <tbody>\n",
       "    <tr>\n",
       "      <th>1</th>\n",
       "      <td>1010229</td>\n",
       "      <td>35</td>\n",
       "      <td>Private</td>\n",
       "      <td>Associate</td>\n",
       "      <td>Absent</td>\n",
       "      <td>Transport</td>\n",
       "      <td>72099.00</td>\n",
       "      <td>Male</td>\n",
       "      <td>0.0</td>\n",
       "      <td>30</td>\n",
       "      <td>0</td>\n",
       "      <td>0</td>\n",
       "    </tr>\n",
       "    <tr>\n",
       "      <th>2</th>\n",
       "      <td>1024587</td>\n",
       "      <td>32</td>\n",
       "      <td>Private</td>\n",
       "      <td>HSgrad</td>\n",
       "      <td>Divorced</td>\n",
       "      <td>Clerical</td>\n",
       "      <td>154676.74</td>\n",
       "      <td>Male</td>\n",
       "      <td>0.0</td>\n",
       "      <td>40</td>\n",
       "      <td>0</td>\n",
       "      <td>0</td>\n",
       "    </tr>\n",
       "    <tr>\n",
       "      <th>8</th>\n",
       "      <td>1061323</td>\n",
       "      <td>25</td>\n",
       "      <td>Private</td>\n",
       "      <td>Associate</td>\n",
       "      <td>Divorced</td>\n",
       "      <td>Clerical</td>\n",
       "      <td>126888.91</td>\n",
       "      <td>Female</td>\n",
       "      <td>0.0</td>\n",
       "      <td>40</td>\n",
       "      <td>0</td>\n",
       "      <td>0</td>\n",
       "    </tr>\n",
       "    <tr>\n",
       "      <th>456</th>\n",
       "      <td>3274547</td>\n",
       "      <td>40</td>\n",
       "      <td>Private</td>\n",
       "      <td>Vocational</td>\n",
       "      <td>Absent</td>\n",
       "      <td>Clerical</td>\n",
       "      <td>82953.38</td>\n",
       "      <td>Female</td>\n",
       "      <td>0.0</td>\n",
       "      <td>40</td>\n",
       "      <td>0</td>\n",
       "      <td>0</td>\n",
       "    </tr>\n",
       "  </tbody>\n",
       "</table>\n",
       "</div>"
      ],
      "text/plain": [
       "          ID  Age Employment   Education   Marital Occupation     Income  \\\n",
       "1    1010229   35    Private   Associate    Absent  Transport   72099.00   \n",
       "2    1024587   32    Private      HSgrad  Divorced   Clerical  154676.74   \n",
       "8    1061323   25    Private   Associate  Divorced   Clerical  126888.91   \n",
       "456  3274547   40    Private  Vocational    Absent   Clerical   82953.38   \n",
       "\n",
       "     Gender  Deductions  Hours  RISK_Adjustment  TARGET_Adjusted  \n",
       "1      Male         0.0     30                0                0  \n",
       "2      Male         0.0     40                0                0  \n",
       "8    Female         0.0     40                0                0  \n",
       "456  Female         0.0     40                0                0  "
      ]
     },
     "execution_count": 2,
     "metadata": {},
     "output_type": "execute_result"
    }
   ],
   "source": [
    "#Filtering\n",
    "#Subsetting rows\n",
    "#Displaying Row numbers 1,2,8,456 \n",
    "audit.iloc[[1,2,8,456],:]"
   ]
  },
  {
   "cell_type": "code",
   "execution_count": null,
   "metadata": {},
   "outputs": [],
   "source": [
    "# Subsetting columns\n",
    "# Display Education and Marital Status\n",
    "audit.loc[:,['Education','Marital']]"
   ]
  },
  {
   "cell_type": "code",
   "execution_count": null,
   "metadata": {},
   "outputs": [],
   "source": [
    "# Subsetting rows and columns\n",
    "#  Display 2nd row and 4th column\n",
    "audit.iloc[1,3]"
   ]
  },
  {
   "cell_type": "code",
   "execution_count": null,
   "metadata": {},
   "outputs": [],
   "source": [
    "# Displaying Row numbers 1,2,8,456 and Column numbers 1,3,6\n",
    "audit.iloc[[1,2,8,456],[1,3,6]]"
   ]
  },
  {
   "cell_type": "code",
   "execution_count": null,
   "metadata": {},
   "outputs": [],
   "source": [
    "# We can simply extract columns from a dataframe\n",
    "# Displaying first 5 rows of column \"Education\"\n",
    "audit['Education'].head()"
   ]
  },
  {
   "cell_type": "code",
   "execution_count": null,
   "metadata": {},
   "outputs": [],
   "source": [
    "# Display all rows and columns for male private employed employees\n",
    "audit[(audit['Gender'] == 'Male') & (audit['Employment'] == 'Private')]"
   ]
  },
  {
   "cell_type": "code",
   "execution_count": null,
   "metadata": {},
   "outputs": [],
   "source": [
    "# Get only the columns Age and Marital status of male private employees\n",
    "audit.query(\"Gender== 'Male' & Employment == 'Private'\")[['Age','Marital']]"
   ]
  },
  {
   "cell_type": "code",
   "execution_count": null,
   "metadata": {},
   "outputs": [],
   "source": [
    "# Get all the columns except Age and Marital status of male private employees\n",
    "audit.query(\"Gender== 'Male' & Employment == 'Private'\").drop(['Age','Marital'],axis = 1)"
   ]
  },
  {
   "cell_type": "code",
   "execution_count": null,
   "metadata": {},
   "outputs": [],
   "source": [
    "# Adding new columns\n",
    "# Create a new column LogIncome\n",
    "audit['LogIncome'] = np.log(audit['Income'])\n",
    "audit.head()"
   ]
  },
  {
   "cell_type": "code",
   "execution_count": null,
   "metadata": {},
   "outputs": [],
   "source": [
    "# Sorting data\n",
    "# Sort the data in ascending order of income\n",
    "audit.sort_values('Income')"
   ]
  },
  {
   "cell_type": "code",
   "execution_count": null,
   "metadata": {},
   "outputs": [],
   "source": [
    "# Sort the data in descending order of income\n",
    "audit.sort_values('Income', ascending=False)"
   ]
  },
  {
   "cell_type": "code",
   "execution_count": null,
   "metadata": {},
   "outputs": [],
   "source": [
    "# Group by and Summarize Operations\n",
    "# What is the average income by Gender and Marital Status?\n",
    "audit.groupby(['Gender','Marital'],as_index=False).agg({'Income':np.mean})\n"
   ]
  },
  {
   "cell_type": "code",
   "execution_count": null,
   "metadata": {},
   "outputs": [],
   "source": [
    "#What are the minimum, maximum of the average income by Gender and Marita l Status?\n",
    "audit.groupby(['Gender','Marital'], as_index=False)['Income'].agg([np.min,np.max])"
   ]
  },
  {
   "cell_type": "code",
   "execution_count": 3,
   "metadata": {},
   "outputs": [
    {
     "data": {
      "text/html": [
       "<div>\n",
       "<style scoped>\n",
       "    .dataframe tbody tr th:only-of-type {\n",
       "        vertical-align: middle;\n",
       "    }\n",
       "\n",
       "    .dataframe tbody tr th {\n",
       "        vertical-align: top;\n",
       "    }\n",
       "\n",
       "    .dataframe thead th {\n",
       "        text-align: right;\n",
       "    }\n",
       "</style>\n",
       "<table border=\"1\" class=\"dataframe\">\n",
       "  <thead>\n",
       "    <tr style=\"text-align: right;\">\n",
       "      <th></th>\n",
       "      <th>ID</th>\n",
       "      <th>Age</th>\n",
       "      <th>Income</th>\n",
       "      <th>Deductions</th>\n",
       "      <th>Hours</th>\n",
       "      <th>RISK_Adjustment</th>\n",
       "      <th>TARGET_Adjusted</th>\n",
       "    </tr>\n",
       "    <tr>\n",
       "      <th>Gender</th>\n",
       "      <th></th>\n",
       "      <th></th>\n",
       "      <th></th>\n",
       "      <th></th>\n",
       "      <th></th>\n",
       "      <th></th>\n",
       "      <th></th>\n",
       "    </tr>\n",
       "  </thead>\n",
       "  <tbody>\n",
       "    <tr>\n",
       "      <th>Female</th>\n",
       "      <td>5.535744e+06</td>\n",
       "      <td>37.305380</td>\n",
       "      <td>127697.729320</td>\n",
       "      <td>29.62500</td>\n",
       "      <td>35.802215</td>\n",
       "      <td>1158.194620</td>\n",
       "      <td>0.107595</td>\n",
       "    </tr>\n",
       "    <tr>\n",
       "      <th>Male</th>\n",
       "      <td>5.665282e+06</td>\n",
       "      <td>39.230263</td>\n",
       "      <td>64818.680673</td>\n",
       "      <td>85.09771</td>\n",
       "      <td>42.048246</td>\n",
       "      <td>2419.550439</td>\n",
       "      <td>0.288743</td>\n",
       "    </tr>\n",
       "  </tbody>\n",
       "</table>\n",
       "</div>"
      ],
      "text/plain": [
       "                  ID        Age         Income  Deductions      Hours  \\\n",
       "Gender                                                                  \n",
       "Female  5.535744e+06  37.305380  127697.729320    29.62500  35.802215   \n",
       "Male    5.665282e+06  39.230263   64818.680673    85.09771  42.048246   \n",
       "\n",
       "        RISK_Adjustment  TARGET_Adjusted  \n",
       "Gender                                    \n",
       "Female      1158.194620         0.107595  \n",
       "Male        2419.550439         0.288743  "
      ]
     },
     "execution_count": 3,
     "metadata": {},
     "output_type": "execute_result"
    }
   ],
   "source": [
    "audit.groupby('Gender').mean() # finds mean of all numeric variables for each category of Gender"
   ]
  },
  {
   "cell_type": "code",
   "execution_count": null,
   "metadata": {},
   "outputs": [],
   "source": [
    "# Contingency Table between Gender and Marital Status\n",
    "pd.crosstab(audit['Gender'],audit['Marital'])"
   ]
  }
 ],
 "metadata": {
  "kernelspec": {
   "display_name": "Python 3",
   "language": "python",
   "name": "python3"
  },
  "language_info": {
   "codemirror_mode": {
    "name": "ipython",
    "version": 3
   },
   "file_extension": ".py",
   "mimetype": "text/x-python",
   "name": "python",
   "nbconvert_exporter": "python",
   "pygments_lexer": "ipython3",
   "version": "3.7.4"
  }
 },
 "nbformat": 4,
 "nbformat_minor": 2
}

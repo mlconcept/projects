{
 "cells": [
  {
   "cell_type": "code",
   "execution_count": 9,
   "metadata": {},
   "outputs": [],
   "source": [
    "# joins\n",
    "import os\n",
    "import pandas as pd\n",
    "from pandas import Series, DataFrame\n",
    "import numpy as np\n",
    "os.getcwd()\n",
    "os.chdir('E:\\\\Jaishree\\\\Data Science with Python\\\\Datasets')"
   ]
  },
  {
   "cell_type": "code",
   "execution_count": 10,
   "metadata": {},
   "outputs": [
    {
     "name": "stdout",
     "output_type": "stream",
     "text": [
      "  SalesId First Name Last Name Sales Date  Total Sales Amt Region\n",
      "0   XN458      Harry     White  18-Dec-10             6000  North\n",
      "1   XN209     Nathan   Masters   4-Apr-10            21000  North\n",
      "2   XN209     Nathan   Masters  21-Mar-10             5900  North\n",
      "3   XN865    Charlie       May   5-Dec-10            12000  North\n",
      "4   XN458      Harry     White  16-Oct-10            17000  North\n",
      "  SalesId First Name Last Name Sales Date  Total Sales Amt Region\n",
      "0   XE908       Alan     Hyman  20-Jun-10            19000   East\n",
      "1   XE856      Miles  Lassiter  15-May-10            43000   East\n",
      "2   XE435    Richard   Darlene  12-Sep-10            21000   East\n",
      "3   XE908       Alan     Hyman   3-Nov-10             5600   East\n",
      "4   XE346      Manny     Lines   1-Apr-10            21000   East\n",
      "  SalesId First Name Last Name Sales Date  Total Sales Amt Region\n",
      "0   XW567       Mike   Kinsley  12-Aug-10            19000   West\n",
      "1   XW345        Sid      Hale  12-Jul-10            21000   West\n",
      "2   XW785         Ed    Berndt   1-Mar-10            31000   West\n",
      "3   XW345        Sid      Hale  19-Sep-10            15000   West\n",
      "4   XW346        Ben     Britt  31-Jan-10             9000   West\n",
      "(14, 6)\n",
      "(14, 6)\n",
      "(14, 6)\n"
     ]
    }
   ],
   "source": [
    "North = pd.read_csv('North.csv',sep =',', header =0)\n",
    "East = pd.read_csv('East.csv',sep =',', header =0)\n",
    "West = pd.read_csv('West.csv',sep =',', header =0)\n",
    "print(North.head())\n",
    "print(East.head())\n",
    "print(West.head())\n",
    "print(North.shape)\n",
    "print(East.shape)\n",
    "print(West.shape)"
   ]
  },
  {
   "cell_type": "code",
   "execution_count": 11,
   "metadata": {},
   "outputs": [
    {
     "name": "stdout",
     "output_type": "stream",
     "text": [
      "  SalesId First Name Last Name Sales Date  Total Sales Amt Region\n",
      "0   XN458      Harry     White  18-Dec-10             6000  North\n",
      "1   XN209     Nathan   Masters   4-Apr-10            21000  North\n",
      "2   XN209     Nathan   Masters  21-Mar-10             5900  North\n",
      "3   XN865    Charlie       May   5-Dec-10            12000  North\n",
      "4   XN458      Harry     White  16-Oct-10            17000  North\n",
      "(42, 6)\n"
     ]
    }
   ],
   "source": [
    "# Concatenating \n",
    "# Concatenating is nothing but stacking the data. \n",
    "# To stack dataframes, we use the concat method in the pandas module.\n",
    "# We simply append the rows from the second dataset to the rows of the first dataset.\n",
    "NorthEastWest = pd.concat([North,East,West])\n",
    "print(NorthEastWest.head())\n",
    "print(NorthEastWest.shape)"
   ]
  },
  {
   "cell_type": "code",
   "execution_count": 20,
   "metadata": {},
   "outputs": [
    {
     "name": "stdout",
     "output_type": "stream",
     "text": [
      "   Customer_ID  Product\n",
      "0            1  Toaster\n",
      "1            2  Toaster\n",
      "2            3  Toaster\n",
      "3            4    Radio\n",
      "4            5    Radio\n",
      "(6, 2)\n",
      "   Customer_ID    State\n",
      "0            2  Alabama\n",
      "1            4  Alabama\n",
      "2            6     Ohio\n",
      "(3, 2)\n"
     ]
    }
   ],
   "source": [
    "# Merging\n",
    "dj1 = pd.read_csv('dj1.csv',sep =',', header =0)\n",
    "dj2 = pd.read_csv('dj2.csv',sep =',', header =0)\n",
    "print(dj1.head())\n",
    "print(dj1.shape)\n",
    "print(dj2.head())\n",
    "print(dj2.shape)"
   ]
  },
  {
   "cell_type": "code",
   "execution_count": null,
   "metadata": {},
   "outputs": [],
   "source": [
    "# Outer Join\n",
    "pd.merge(dj1,dj2, how=\"outer\", on='Customer_ID')"
   ]
  },
  {
   "cell_type": "code",
   "execution_count": null,
   "metadata": {},
   "outputs": [],
   "source": [
    "# Inner Join\n",
    "pd.merge(dj1,dj2, how=\"inner\", on='Customer_ID')\n",
    "# Sometimes, the common column may not be the same.\n",
    "# One way to merge the two data frames now is to probably rename this customer ID to a common name or \n",
    "# we can use the left_on and right_on options to specify the columns\n",
    "# that are to be treated as common column in the merge method. "
   ]
  },
  {
   "cell_type": "code",
   "execution_count": 21,
   "metadata": {},
   "outputs": [
    {
     "name": "stdout",
     "output_type": "stream",
     "text": [
      "  FlightDate UniqueCarrier  AirlineID Carrier TailNum  FlightNum  \\\n",
      "0  01-Jan-14            DL      19790      DL  N948DN        335   \n",
      "1  01-Jan-14            DL      19790      DL  N925DN       1095   \n",
      "2  01-Jan-14            DL      19790      DL  N921DN       2422   \n",
      "3  01-Jan-14            DL      19790      DL  N937DN       1607   \n",
      "4  01-Jan-14            US      20355      US  N668AW        657   \n",
      "\n",
      "   OriginAirportID  OriginAirportSeqID  OriginCityMarketID Origin    ...      \\\n",
      "0            11057             1105703               31057    CLT    ...       \n",
      "1            11057             1105703               31057    CLT    ...       \n",
      "2            11057             1105703               31057    CLT    ...       \n",
      "3            11057             1105703               31057    CLT    ...       \n",
      "4            11057             1105703               31057    CLT    ...       \n",
      "\n",
      "  DestAirportID DestAirportSeqID  DestCityMarketID Dest  DestCityName  \\\n",
      "0         10397          1039705             30397  ATL   Atlanta, GA   \n",
      "1         10397          1039705             30397  ATL   Atlanta, GA   \n",
      "2         10397          1039705             30397  ATL   Atlanta, GA   \n",
      "3         10397          1039705             30397  ATL   Atlanta, GA   \n",
      "4         10397          1039705             30397  ATL   Atlanta, GA   \n",
      "\n",
      "   DestState  DestStateFips  DestStateName DestWac CRSDepTime  \n",
      "0         GA             13        Georgia      34       1700  \n",
      "1         GA             13        Georgia      34       1315  \n",
      "2         GA             13        Georgia      34        945  \n",
      "3         GA             13        Georgia      34        710  \n",
      "4         GA             13        Georgia      34       1310  \n",
      "\n",
      "[5 rows x 25 columns]\n",
      "(30443, 25)\n",
      "<class 'pandas.core.frame.DataFrame'>\n",
      "RangeIndex: 30443 entries, 0 to 30442\n",
      "Data columns (total 25 columns):\n",
      "FlightDate            30443 non-null object\n",
      "UniqueCarrier         30443 non-null object\n",
      "AirlineID             30443 non-null int64\n",
      "Carrier               30443 non-null object\n",
      "TailNum               30017 non-null object\n",
      "FlightNum             30443 non-null int64\n",
      "OriginAirportID       30443 non-null int64\n",
      "OriginAirportSeqID    30443 non-null int64\n",
      "OriginCityMarketID    30443 non-null int64\n",
      "Origin                30443 non-null object\n",
      "OriginCityName        30443 non-null object\n",
      "OriginState           30443 non-null object\n",
      "OriginStateFips       30443 non-null int64\n",
      "OriginStateName       30443 non-null object\n",
      "OriginWac             30443 non-null int64\n",
      "DestAirportID         30443 non-null int64\n",
      "DestAirportSeqID      30443 non-null int64\n",
      "DestCityMarketID      30443 non-null int64\n",
      "Dest                  30443 non-null object\n",
      "DestCityName          30443 non-null object\n",
      "DestState             30443 non-null object\n",
      "DestStateFips         30443 non-null int64\n",
      "DestStateName         30443 non-null object\n",
      "DestWac               30443 non-null int64\n",
      "CRSDepTime            30443 non-null int64\n",
      "dtypes: int64(13), object(12)\n",
      "memory usage: 5.8+ MB\n",
      "None\n"
     ]
    }
   ],
   "source": [
    "# handling dates\n",
    "Fd = pd.read_csv('Fd.csv',sep =',', header =0)\n",
    "print(Fd.head())\n",
    "print(Fd.shape)\n",
    "print(Fd.info())"
   ]
  },
  {
   "cell_type": "code",
   "execution_count": 22,
   "metadata": {},
   "outputs": [],
   "source": [
    "# To do any manipulations on date we will first have to convert the date\n",
    "# into a uniform date time format, \n",
    "# using the to_datetime method from Pandas library.\n",
    "# The to_datetime method returns a pandas series that can be manipulated over.\n",
    "Fd['FlightDate']= pd.to_datetime(Fd['FlightDate'],format=\"%d-%b-%y\")"
   ]
  },
  {
   "cell_type": "code",
   "execution_count": null,
   "metadata": {},
   "outputs": [],
   "source": [
    "Fd.info()"
   ]
  },
  {
   "cell_type": "code",
   "execution_count": 25,
   "metadata": {},
   "outputs": [],
   "source": [
    "Fd['Month']=pd.DatetimeIndex(Fd['FlightDate']).month\n",
    "# The month as January=1, December=12"
   ]
  },
  {
   "cell_type": "code",
   "execution_count": 26,
   "metadata": {},
   "outputs": [
    {
     "data": {
      "text/html": [
       "<div>\n",
       "<style scoped>\n",
       "    .dataframe tbody tr th:only-of-type {\n",
       "        vertical-align: middle;\n",
       "    }\n",
       "\n",
       "    .dataframe tbody tr th {\n",
       "        vertical-align: top;\n",
       "    }\n",
       "\n",
       "    .dataframe thead th {\n",
       "        text-align: right;\n",
       "    }\n",
       "</style>\n",
       "<table border=\"1\" class=\"dataframe\">\n",
       "  <thead>\n",
       "    <tr style=\"text-align: right;\">\n",
       "      <th></th>\n",
       "      <th>FlightDate</th>\n",
       "      <th>UniqueCarrier</th>\n",
       "      <th>AirlineID</th>\n",
       "      <th>Carrier</th>\n",
       "      <th>TailNum</th>\n",
       "      <th>FlightNum</th>\n",
       "      <th>OriginAirportID</th>\n",
       "      <th>OriginAirportSeqID</th>\n",
       "      <th>OriginCityMarketID</th>\n",
       "      <th>Origin</th>\n",
       "      <th>...</th>\n",
       "      <th>DestAirportSeqID</th>\n",
       "      <th>DestCityMarketID</th>\n",
       "      <th>Dest</th>\n",
       "      <th>DestCityName</th>\n",
       "      <th>DestState</th>\n",
       "      <th>DestStateFips</th>\n",
       "      <th>DestStateName</th>\n",
       "      <th>DestWac</th>\n",
       "      <th>CRSDepTime</th>\n",
       "      <th>Month</th>\n",
       "    </tr>\n",
       "  </thead>\n",
       "  <tbody>\n",
       "    <tr>\n",
       "      <th>0</th>\n",
       "      <td>2014-01-01</td>\n",
       "      <td>DL</td>\n",
       "      <td>19790</td>\n",
       "      <td>DL</td>\n",
       "      <td>N948DN</td>\n",
       "      <td>335</td>\n",
       "      <td>11057</td>\n",
       "      <td>1105703</td>\n",
       "      <td>31057</td>\n",
       "      <td>CLT</td>\n",
       "      <td>...</td>\n",
       "      <td>1039705</td>\n",
       "      <td>30397</td>\n",
       "      <td>ATL</td>\n",
       "      <td>Atlanta, GA</td>\n",
       "      <td>GA</td>\n",
       "      <td>13</td>\n",
       "      <td>Georgia</td>\n",
       "      <td>34</td>\n",
       "      <td>1700</td>\n",
       "      <td>1</td>\n",
       "    </tr>\n",
       "    <tr>\n",
       "      <th>1</th>\n",
       "      <td>2014-01-01</td>\n",
       "      <td>DL</td>\n",
       "      <td>19790</td>\n",
       "      <td>DL</td>\n",
       "      <td>N925DN</td>\n",
       "      <td>1095</td>\n",
       "      <td>11057</td>\n",
       "      <td>1105703</td>\n",
       "      <td>31057</td>\n",
       "      <td>CLT</td>\n",
       "      <td>...</td>\n",
       "      <td>1039705</td>\n",
       "      <td>30397</td>\n",
       "      <td>ATL</td>\n",
       "      <td>Atlanta, GA</td>\n",
       "      <td>GA</td>\n",
       "      <td>13</td>\n",
       "      <td>Georgia</td>\n",
       "      <td>34</td>\n",
       "      <td>1315</td>\n",
       "      <td>1</td>\n",
       "    </tr>\n",
       "    <tr>\n",
       "      <th>2</th>\n",
       "      <td>2014-01-01</td>\n",
       "      <td>DL</td>\n",
       "      <td>19790</td>\n",
       "      <td>DL</td>\n",
       "      <td>N921DN</td>\n",
       "      <td>2422</td>\n",
       "      <td>11057</td>\n",
       "      <td>1105703</td>\n",
       "      <td>31057</td>\n",
       "      <td>CLT</td>\n",
       "      <td>...</td>\n",
       "      <td>1039705</td>\n",
       "      <td>30397</td>\n",
       "      <td>ATL</td>\n",
       "      <td>Atlanta, GA</td>\n",
       "      <td>GA</td>\n",
       "      <td>13</td>\n",
       "      <td>Georgia</td>\n",
       "      <td>34</td>\n",
       "      <td>945</td>\n",
       "      <td>1</td>\n",
       "    </tr>\n",
       "    <tr>\n",
       "      <th>3</th>\n",
       "      <td>2014-01-01</td>\n",
       "      <td>DL</td>\n",
       "      <td>19790</td>\n",
       "      <td>DL</td>\n",
       "      <td>N937DN</td>\n",
       "      <td>1607</td>\n",
       "      <td>11057</td>\n",
       "      <td>1105703</td>\n",
       "      <td>31057</td>\n",
       "      <td>CLT</td>\n",
       "      <td>...</td>\n",
       "      <td>1039705</td>\n",
       "      <td>30397</td>\n",
       "      <td>ATL</td>\n",
       "      <td>Atlanta, GA</td>\n",
       "      <td>GA</td>\n",
       "      <td>13</td>\n",
       "      <td>Georgia</td>\n",
       "      <td>34</td>\n",
       "      <td>710</td>\n",
       "      <td>1</td>\n",
       "    </tr>\n",
       "    <tr>\n",
       "      <th>4</th>\n",
       "      <td>2014-01-01</td>\n",
       "      <td>US</td>\n",
       "      <td>20355</td>\n",
       "      <td>US</td>\n",
       "      <td>N668AW</td>\n",
       "      <td>657</td>\n",
       "      <td>11057</td>\n",
       "      <td>1105703</td>\n",
       "      <td>31057</td>\n",
       "      <td>CLT</td>\n",
       "      <td>...</td>\n",
       "      <td>1039705</td>\n",
       "      <td>30397</td>\n",
       "      <td>ATL</td>\n",
       "      <td>Atlanta, GA</td>\n",
       "      <td>GA</td>\n",
       "      <td>13</td>\n",
       "      <td>Georgia</td>\n",
       "      <td>34</td>\n",
       "      <td>1310</td>\n",
       "      <td>1</td>\n",
       "    </tr>\n",
       "  </tbody>\n",
       "</table>\n",
       "<p>5 rows × 26 columns</p>\n",
       "</div>"
      ],
      "text/plain": [
       "  FlightDate UniqueCarrier  AirlineID Carrier TailNum  FlightNum  \\\n",
       "0 2014-01-01            DL      19790      DL  N948DN        335   \n",
       "1 2014-01-01            DL      19790      DL  N925DN       1095   \n",
       "2 2014-01-01            DL      19790      DL  N921DN       2422   \n",
       "3 2014-01-01            DL      19790      DL  N937DN       1607   \n",
       "4 2014-01-01            US      20355      US  N668AW        657   \n",
       "\n",
       "   OriginAirportID  OriginAirportSeqID  OriginCityMarketID Origin  ...   \\\n",
       "0            11057             1105703               31057    CLT  ...    \n",
       "1            11057             1105703               31057    CLT  ...    \n",
       "2            11057             1105703               31057    CLT  ...    \n",
       "3            11057             1105703               31057    CLT  ...    \n",
       "4            11057             1105703               31057    CLT  ...    \n",
       "\n",
       "  DestAirportSeqID DestCityMarketID  Dest DestCityName  DestState  \\\n",
       "0          1039705            30397   ATL  Atlanta, GA         GA   \n",
       "1          1039705            30397   ATL  Atlanta, GA         GA   \n",
       "2          1039705            30397   ATL  Atlanta, GA         GA   \n",
       "3          1039705            30397   ATL  Atlanta, GA         GA   \n",
       "4          1039705            30397   ATL  Atlanta, GA         GA   \n",
       "\n",
       "   DestStateFips  DestStateName  DestWac CRSDepTime Month  \n",
       "0             13        Georgia       34       1700     1  \n",
       "1             13        Georgia       34       1315     1  \n",
       "2             13        Georgia       34        945     1  \n",
       "3             13        Georgia       34        710     1  \n",
       "4             13        Georgia       34       1310     1  \n",
       "\n",
       "[5 rows x 26 columns]"
      ]
     },
     "execution_count": 26,
     "metadata": {},
     "output_type": "execute_result"
    }
   ],
   "source": [
    "Fd.head()"
   ]
  },
  {
   "cell_type": "code",
   "execution_count": 27,
   "metadata": {},
   "outputs": [
    {
     "name": "stdout",
     "output_type": "stream",
     "text": [
      "Int64Index([2, 2, 2, 2, 2, 2, 2, 2, 2, 2,\n",
      "            ...\n",
      "            5, 5, 5, 5, 5, 5, 5, 5, 5, 5],\n",
      "           dtype='int64', name='FlightDate', length=30443)\n",
      "Index(['Wednesday', 'Wednesday', 'Wednesday', 'Wednesday', 'Wednesday',\n",
      "       'Wednesday', 'Wednesday', 'Wednesday', 'Wednesday', 'Wednesday',\n",
      "       ...\n",
      "       'Saturday', 'Saturday', 'Saturday', 'Saturday', 'Saturday', 'Saturday',\n",
      "       'Saturday', 'Saturday', 'Saturday', 'Saturday'],\n",
      "      dtype='object', name='FlightDate', length=30443)\n"
     ]
    }
   ],
   "source": [
    "print(pd.DatetimeIndex(Fd['FlightDate']).dayofweek)\n",
    "# The day of the week with Monday=0, Sunday=6\n",
    "print(pd.DatetimeIndex(Fd['FlightDate']).weekday_name)"
   ]
  },
  {
   "cell_type": "code",
   "execution_count": 28,
   "metadata": {},
   "outputs": [
    {
     "data": {
      "text/plain": [
       "0       2015-01-01\n",
       "1       2015-01-01\n",
       "2       2015-01-01\n",
       "3       2015-01-01\n",
       "4       2015-01-01\n",
       "5       2015-01-01\n",
       "6       2015-01-01\n",
       "7       2015-01-01\n",
       "8       2015-01-01\n",
       "9       2015-01-01\n",
       "10      2015-01-01\n",
       "11      2015-01-01\n",
       "12      2015-01-01\n",
       "13      2015-01-01\n",
       "14      2015-01-01\n",
       "15      2015-01-01\n",
       "16      2015-01-01\n",
       "17      2015-01-01\n",
       "18      2015-01-01\n",
       "19      2015-01-01\n",
       "20      2015-01-01\n",
       "21      2015-01-01\n",
       "22      2015-01-01\n",
       "23      2015-01-01\n",
       "24      2015-01-01\n",
       "25      2015-01-01\n",
       "26      2015-01-01\n",
       "27      2015-01-01\n",
       "28      2015-01-01\n",
       "29      2015-01-01\n",
       "           ...    \n",
       "30413   2015-03-15\n",
       "30414   2015-03-15\n",
       "30415   2015-03-15\n",
       "30416   2015-03-15\n",
       "30417   2015-03-15\n",
       "30418   2015-03-15\n",
       "30419   2015-03-15\n",
       "30420   2015-03-15\n",
       "30421   2015-03-15\n",
       "30422   2015-03-15\n",
       "30423   2015-03-15\n",
       "30424   2015-03-15\n",
       "30425   2015-03-15\n",
       "30426   2015-03-15\n",
       "30427   2015-03-15\n",
       "30428   2015-03-15\n",
       "30429   2015-03-15\n",
       "30430   2015-03-15\n",
       "30431   2015-03-15\n",
       "30432   2015-03-15\n",
       "30433   2015-03-15\n",
       "30434   2015-03-15\n",
       "30435   2015-03-15\n",
       "30436   2015-03-15\n",
       "30437   2015-03-15\n",
       "30438   2015-03-15\n",
       "30439   2015-03-15\n",
       "30440   2015-03-15\n",
       "30441   2015-03-15\n",
       "30442   2015-03-15\n",
       "Name: FlightDate, Length: 30443, dtype: datetime64[ns]"
      ]
     },
     "execution_count": 28,
     "metadata": {},
     "output_type": "execute_result"
    }
   ],
   "source": [
    "# Add a duration\n",
    "Fd['FlightDate']+pd.to_timedelta(365,unit='D')"
   ]
  },
  {
   "cell_type": "code",
   "execution_count": null,
   "metadata": {},
   "outputs": [],
   "source": [
    "Sunday = Fd[(pd.DatetimeIndex(Fd['FlightDate']).dayofweek) == 6]\n",
    "Sunday.groupby('DestCityName').agg({'DestCityName':np.size})"
   ]
  },
  {
   "cell_type": "code",
   "execution_count": 31,
   "metadata": {},
   "outputs": [
    {
     "name": "stdout",
     "output_type": "stream",
     "text": [
      "2018-10-07\n",
      "0       1740 days\n",
      "1       1740 days\n",
      "2       1740 days\n",
      "3       1740 days\n",
      "4       1740 days\n",
      "5       1740 days\n",
      "6       1740 days\n",
      "7       1740 days\n",
      "8       1740 days\n",
      "9       1740 days\n",
      "10      1740 days\n",
      "11      1740 days\n",
      "12      1740 days\n",
      "13      1740 days\n",
      "14      1740 days\n",
      "15      1740 days\n",
      "16      1740 days\n",
      "17      1740 days\n",
      "18      1740 days\n",
      "19      1740 days\n",
      "20      1740 days\n",
      "21      1740 days\n",
      "22      1740 days\n",
      "23      1740 days\n",
      "24      1740 days\n",
      "25      1740 days\n",
      "26      1740 days\n",
      "27      1740 days\n",
      "28      1740 days\n",
      "29      1740 days\n",
      "           ...   \n",
      "30413   1667 days\n",
      "30414   1667 days\n",
      "30415   1667 days\n",
      "30416   1667 days\n",
      "30417   1667 days\n",
      "30418   1667 days\n",
      "30419   1667 days\n",
      "30420   1667 days\n",
      "30421   1667 days\n",
      "30422   1667 days\n",
      "30423   1667 days\n",
      "30424   1667 days\n",
      "30425   1667 days\n",
      "30426   1667 days\n",
      "30427   1667 days\n",
      "30428   1667 days\n",
      "30429   1667 days\n",
      "30430   1667 days\n",
      "30431   1667 days\n",
      "30432   1667 days\n",
      "30433   1667 days\n",
      "30434   1667 days\n",
      "30435   1667 days\n",
      "30436   1667 days\n",
      "30437   1667 days\n",
      "30438   1667 days\n",
      "30439   1667 days\n",
      "30440   1667 days\n",
      "30441   1667 days\n",
      "30442   1667 days\n",
      "Name: FlightDate, Length: 30443, dtype: timedelta64[ns]\n"
     ]
    }
   ],
   "source": [
    "# Date Arithmatic\n",
    "# The datetime module supplies classes for \n",
    "# manipulating dates and times in both simple and complex ways. \n",
    "import datetime as dt\n",
    "from datetime import date\n",
    "now = date.today()\n",
    "print(now)\n",
    "now = pd.to_datetime(now,format=\"%Y-%m-%d\")\n",
    "print(now-Fd['FlightDate'])"
   ]
  },
  {
   "cell_type": "code",
   "execution_count": null,
   "metadata": {},
   "outputs": [],
   "source": [
    "# Working with Strings\n",
    "# Change to Upper Case\n",
    "Fd['DestCityName'].str.upper()"
   ]
  },
  {
   "cell_type": "code",
   "execution_count": null,
   "metadata": {},
   "outputs": [],
   "source": [
    "# Change to proper case\n",
    "Fd['DestCityName'].str.capitalize()"
   ]
  },
  {
   "cell_type": "code",
   "execution_count": null,
   "metadata": {},
   "outputs": [],
   "source": [
    "Fd['DestCityName'].str.count('GA')"
   ]
  },
  {
   "cell_type": "code",
   "execution_count": null,
   "metadata": {},
   "outputs": [],
   "source": [
    "Fd['DestCityName'].str.replace('GA','AG')"
   ]
  },
  {
   "cell_type": "code",
   "execution_count": null,
   "metadata": {},
   "outputs": [],
   "source": [
    "# Handling missing values \n",
    "# Finding the number of missing values\n",
    "Expenses = pd.read_csv('expenses.csv',sep =',', header =0)\n",
    "Expenses.head()"
   ]
  },
  {
   "cell_type": "code",
   "execution_count": 36,
   "metadata": {},
   "outputs": [
    {
     "data": {
      "text/plain": [
       "age         0\n",
       "sex         0\n",
       "bmi         2\n",
       "children    0\n",
       "smoker      0\n",
       "region      0\n",
       "charges     0\n",
       "dtype: int64"
      ]
     },
     "execution_count": 36,
     "metadata": {},
     "output_type": "execute_result"
    }
   ],
   "source": [
    "Expenses.isnull().sum()"
   ]
  },
  {
   "cell_type": "code",
   "execution_count": null,
   "metadata": {},
   "outputs": [],
   "source": [
    "Expenses.describe()"
   ]
  },
  {
   "cell_type": "code",
   "execution_count": null,
   "metadata": {},
   "outputs": [],
   "source": [
    "# To remove missing values\n",
    "Expmiss = Expenses.copy()\n",
    "print(Expmiss[Expmiss['bmi'].isnull() == True])\n",
    "missing = Expmiss[Expmiss['bmi'].isnull() == True].index\n",
    "print(missing)"
   ]
  },
  {
   "cell_type": "code",
   "execution_count": null,
   "metadata": {},
   "outputs": [],
   "source": [
    "Expmiss.drop(missing, inplace=True)"
   ]
  },
  {
   "cell_type": "code",
   "execution_count": null,
   "metadata": {},
   "outputs": [],
   "source": [
    "Expmiss.describe()"
   ]
  },
  {
   "cell_type": "code",
   "execution_count": null,
   "metadata": {},
   "outputs": [],
   "source": [
    "# Alternate way to drop rows where there is at least one NA.\n",
    "# Expmiss.dropna(axis=0,inplace=True)\n",
    "# axis=0 for rows, 1 for columns, default 0"
   ]
  },
  {
   "cell_type": "code",
   "execution_count": null,
   "metadata": {},
   "outputs": [],
   "source": [
    "# Imputing individual column missing values with mean\n",
    "Expimpute = Expenses.copy()\n",
    "Expimpute['bmi'] = Expimpute['bmi'].fillna(np.mean(Expimpute['bmi']))\n",
    "print(Expimpute.iloc[[16,17],:])\n",
    "Expimpute.describe()"
   ]
  },
  {
   "cell_type": "code",
   "execution_count": 37,
   "metadata": {},
   "outputs": [
    {
     "data": {
      "text/html": [
       "<div>\n",
       "<style scoped>\n",
       "    .dataframe tbody tr th:only-of-type {\n",
       "        vertical-align: middle;\n",
       "    }\n",
       "\n",
       "    .dataframe tbody tr th {\n",
       "        vertical-align: top;\n",
       "    }\n",
       "\n",
       "    .dataframe thead th {\n",
       "        text-align: right;\n",
       "    }\n",
       "</style>\n",
       "<table border=\"1\" class=\"dataframe\">\n",
       "  <thead>\n",
       "    <tr style=\"text-align: right;\">\n",
       "      <th></th>\n",
       "      <th>age</th>\n",
       "      <th>bmi</th>\n",
       "      <th>children</th>\n",
       "      <th>charges</th>\n",
       "    </tr>\n",
       "  </thead>\n",
       "  <tbody>\n",
       "    <tr>\n",
       "      <th>count</th>\n",
       "      <td>1338.000000</td>\n",
       "      <td>1336.000000</td>\n",
       "      <td>1338.000000</td>\n",
       "      <td>1338.000000</td>\n",
       "    </tr>\n",
       "    <tr>\n",
       "      <th>mean</th>\n",
       "      <td>39.310912</td>\n",
       "      <td>30.668413</td>\n",
       "      <td>1.094918</td>\n",
       "      <td>13270.422265</td>\n",
       "    </tr>\n",
       "    <tr>\n",
       "      <th>std</th>\n",
       "      <td>14.185613</td>\n",
       "      <td>6.099896</td>\n",
       "      <td>1.205493</td>\n",
       "      <td>12110.011237</td>\n",
       "    </tr>\n",
       "    <tr>\n",
       "      <th>min</th>\n",
       "      <td>18.000000</td>\n",
       "      <td>15.960000</td>\n",
       "      <td>0.000000</td>\n",
       "      <td>1121.873900</td>\n",
       "    </tr>\n",
       "    <tr>\n",
       "      <th>25%</th>\n",
       "      <td>27.000000</td>\n",
       "      <td>26.308750</td>\n",
       "      <td>0.000000</td>\n",
       "      <td>4740.287150</td>\n",
       "    </tr>\n",
       "    <tr>\n",
       "      <th>50%</th>\n",
       "      <td>39.000000</td>\n",
       "      <td>30.400000</td>\n",
       "      <td>1.000000</td>\n",
       "      <td>9382.033000</td>\n",
       "    </tr>\n",
       "    <tr>\n",
       "      <th>75%</th>\n",
       "      <td>51.000000</td>\n",
       "      <td>34.700000</td>\n",
       "      <td>2.000000</td>\n",
       "      <td>16639.912515</td>\n",
       "    </tr>\n",
       "    <tr>\n",
       "      <th>max</th>\n",
       "      <td>95.000000</td>\n",
       "      <td>53.130000</td>\n",
       "      <td>5.000000</td>\n",
       "      <td>63770.428010</td>\n",
       "    </tr>\n",
       "  </tbody>\n",
       "</table>\n",
       "</div>"
      ],
      "text/plain": [
       "               age          bmi     children       charges\n",
       "count  1338.000000  1336.000000  1338.000000   1338.000000\n",
       "mean     39.310912    30.668413     1.094918  13270.422265\n",
       "std      14.185613     6.099896     1.205493  12110.011237\n",
       "min      18.000000    15.960000     0.000000   1121.873900\n",
       "25%      27.000000    26.308750     0.000000   4740.287150\n",
       "50%      39.000000    30.400000     1.000000   9382.033000\n",
       "75%      51.000000    34.700000     2.000000  16639.912515\n",
       "max      95.000000    53.130000     5.000000  63770.428010"
      ]
     },
     "execution_count": 37,
     "metadata": {},
     "output_type": "execute_result"
    }
   ],
   "source": [
    "# Handling Outliers\n",
    "Expenses.describe()"
   ]
  },
  {
   "cell_type": "code",
   "execution_count": null,
   "metadata": {},
   "outputs": [],
   "source": [
    "print(np.percentile(Expenses['age'],90))\n",
    "print(np.percentile(Expenses['age'],95))\n",
    "print(np.percentile(Expenses['age'],99))\n",
    "Expenses[Expenses['age']> 64]"
   ]
  },
  {
   "cell_type": "code",
   "execution_count": null,
   "metadata": {},
   "outputs": [],
   "source": [
    "# Replacing Outliers with 99th percentile\n",
    "rownum = Expenses[Expenses['age']> 64].index\n",
    "Expenses.loc[rownum,'age'] = 64\n",
    "Expenses.describe()"
   ]
  }
 ],
 "metadata": {
  "kernelspec": {
   "display_name": "Python 3",
   "language": "python",
   "name": "python3"
  },
  "language_info": {
   "codemirror_mode": {
    "name": "ipython",
    "version": 3
   },
   "file_extension": ".py",
   "mimetype": "text/x-python",
   "name": "python",
   "nbconvert_exporter": "python",
   "pygments_lexer": "ipython3",
   "version": "3.7.4"
  }
 },
 "nbformat": 4,
 "nbformat_minor": 2
}

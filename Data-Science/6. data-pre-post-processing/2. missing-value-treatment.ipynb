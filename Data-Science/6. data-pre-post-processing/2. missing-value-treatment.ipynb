{
 "cells": [
  {
   "cell_type": "code",
   "execution_count": 1,
   "metadata": {},
   "outputs": [
    {
     "data": {
      "text/plain": [
       "PassengerId      0\n",
       "Survived         0\n",
       "Pclass           0\n",
       "Name             0\n",
       "Sex              0\n",
       "Age            177\n",
       "SibSp            0\n",
       "Parch            0\n",
       "Ticket           0\n",
       "Fare             0\n",
       "Cabin          687\n",
       "Embarked         2\n",
       "dtype: int64"
      ]
     },
     "execution_count": 1,
     "metadata": {},
     "output_type": "execute_result"
    }
   ],
   "source": [
    "# Importing Library\n",
    "import pandas as pd\n",
    "from pathlib import Path\n",
    "\n",
    "df = pd.read_csv(str(Path().resolve().parent) + \"\\\\4. DataFrame\\\\sample-data\\\\titanic-dataset.csv\")\n",
    "df.isna().sum()"
   ]
  },
  {
   "cell_type": "markdown",
   "metadata": {},
   "source": [
    "###### Treatment of missing values is an important step in data science, as missing values can affect the accuracy of statistical analyses and machine learning models. There are several methods for treating missing values, including:\n",
    "\n",
    "###### 1. **Deletion:** This involves removing rows or columns with missing values from the dataset. This method is simple but can result in loss of information and bias in the remaining data."
   ]
  },
  {
   "cell_type": "markdown",
   "metadata": {},
   "source": [
    "![Alt text](image.png)"
   ]
  },
  {
   "cell_type": "code",
   "execution_count": null,
   "metadata": {},
   "outputs": [],
   "source": [
    "data_without_missing_values = df.dropna(axis=1)"
   ]
  },
  {
   "cell_type": "markdown",
   "metadata": {},
   "source": [
    "##### 2. **Imputation:** This involves replacing missing values with estimated values based on the available data. There are several methods for imputing missing values, including mean imputation, median imputation, mode imputation, and regression imputation.\n",
    "##### Univariate imputer for completing missing values with simple strategies.\n",
    "##### Replace missing values using a descriptive statistic (e.g. mean, median, or most frequent) along each column, or using a constant value."
   ]
  },
  {
   "cell_type": "code",
   "execution_count": null,
   "metadata": {},
   "outputs": [],
   "source": [
    "from sklearn.impute import SimpleImputer\n",
    "my_imputer = SimpleImputer()\n",
    "data_with_imputed_values = my_imputer.fit_transform(df[[\"Age\"]])"
   ]
  },
  {
   "cell_type": "markdown",
   "metadata": {},
   "source": [
    "##### 3. **Prediction:** This involves using machine learning models to predict missing values based on the available data. This method can be more accurate than imputation but requires more computational resources and may be more complex to implement.\n"
   ]
  },
  {
   "cell_type": "code",
   "execution_count": null,
   "metadata": {},
   "outputs": [],
   "source": [
    "\n",
    "# The choice of missing value treatment method depends on the nature of the data and the research question. It is important to carefully consider the implications of each method and to evaluate the impact of missing value treatment on the results of the analysis.\n",
    "\n",
    "# In Python, the `pandas` library provides several functions for handling missing values, including `dropna()` for deleting rows or columns with missing values, `fillna()` for imputing missing values, and `interpolate()` for interpolating missing values based on the available data."
   ]
  },
  {
   "cell_type": "code",
   "execution_count": null,
   "metadata": {},
   "outputs": [],
   "source": [
    "# Drops all rows that have any NaN values\n",
    "df.dropna()\n",
    "# Drop only if ALL columns are NaN   \n",
    "df.dropna(how='all')\n",
    "# Drops row if it does not have at least two \n",
    "df.dropna(thresh=2)\n",
    "# Drops only if NaN in specific column (as asked in the question)\n",
    "df.dropna(subset=[1])\n",
    "\n",
    "# Let's learn how to fill NA values\n",
    "# Fill NA values with 0\n",
    "df.fillna(0)\n",
    "# fill value just above from cell\n",
    "df.fillna(method='ffill') \n",
    "\n",
    "# fill value with column df given in dictionary\n",
    "values = {'A': 0, 'B': 1, 'C': 2, 'D': 3}\n",
    "df.fillna(value=values)\n",
    "df.fillna(value=values, limit=1)\n",
    "# fill value with mean of column\n",
    "df.fillna(df.mean())\n",
    "# fill value with median of column\n",
    "df.fillna(df.median())\n",
    "# fill value with mode of column\n",
    "df.fillna(df.mode())"
   ]
  }
 ],
 "metadata": {
  "kernelspec": {
   "display_name": "base",
   "language": "python",
   "name": "python3"
  },
  "language_info": {
   "codemirror_mode": {
    "name": "ipython",
    "version": 3
   },
   "file_extension": ".py",
   "mimetype": "text/x-python",
   "name": "python",
   "nbconvert_exporter": "python",
   "pygments_lexer": "ipython3",
   "version": "3.8.18"
  },
  "orig_nbformat": 4
 },
 "nbformat": 4,
 "nbformat_minor": 2
}

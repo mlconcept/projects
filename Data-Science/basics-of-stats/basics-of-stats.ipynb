{
 "cells": [
  {
   "cell_type": "markdown",
   "metadata": {},
   "source": [
    "## Introduction to Statistics\n",
    "Statistics is the science of collecting, analyzing, and interpreting data. \n",
    "It involves designing experiments and surveys to gather data, summarizing and describing the datausing numerical and graphical methods, and making inferences and predictions based on the data."
   ]
  }
 ],
 "metadata": {
  "language_info": {
   "name": "python"
  },
  "orig_nbformat": 4
 },
 "nbformat": 4,
 "nbformat_minor": 2
}

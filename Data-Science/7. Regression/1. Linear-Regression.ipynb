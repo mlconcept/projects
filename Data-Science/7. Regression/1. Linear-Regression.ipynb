{
 "cells": [
  {
   "cell_type": "markdown",
   "metadata": {},
   "source": [
    "Linear regression makes several assumptions about the data:\n",
    "\n",
    "1. **Linearity:** The relationship between the independent and dependent variables is linear.\n",
    "2. **Independence:** The observations are independent of each other.\n",
    "3. **Homoscedasticity:** The variance of the errors is constant across all levels of the independent variables.\n",
    "4. **Normality:** The errors are normally distributed with a mean of zero.\n",
    "5. **No multicollinearity:** The independent variables are not highly correlated with each other."
   ]
  },
  {
   "cell_type": "code",
   "execution_count": 1,
   "metadata": {},
   "outputs": [],
   "source": [
    "# Importing Library\n",
    "import pandas as pd\n",
    "from pathlib import Path\n",
    "\n",
    "df = pd.read_csv(str(Path().resolve().parent) + \"\\\\4. DataFrame\\\\sample-data\\\\kc_housingdata.csv\")"
   ]
  },
  {
   "cell_type": "code",
   "execution_count": null,
   "metadata": {},
   "outputs": [],
   "source": [
    "\n",
    "from sklearn.linear_model import LinearRegression\n",
    "from sklearn.model_selection import train_test_split\n",
    "\n",
    "# Importing Library\n",
    "import pandas as pd\n",
    "from pathlib import Path\n",
    "\n",
    "df = pd.read_csv(str(Path().resolve().parent) +\n",
    "                 \"\\\\4. DataFrame\\\\sample-data\\\\kc_housingdata.csv\")\n",
    "\n",
    "df1 = df.drop('date', axis=1)\n",
    "df1 = pd.get_dummies(df1)\n",
    "\n",
    "x = df1\n",
    "y = df1['price']\n",
    "\n",
    "x_train, x_test, y_train, y_test = train_test_split(\n",
    "    x, y, test_size=0.20, random_state=400)\n",
    "\n",
    "reg = LinearRegression()\n",
    "reg.fit(x_train.drop(['id', 'zipcode', 'price'], axis=1), y_train)\n",
    "reg.score(x_test.drop(['id', 'zipcode', 'price'], axis=1), y_test)\n",
    "\n",
    "reg.coef_\n",
    "reg.intercept_\n",
    "reg.singular_\n",
    "\n",
    "x_data = x_test.drop(['id', 'zipcode'], axis=1)\n",
    "x_predicted_data = pd.DataFrame(reg.predict(\n",
    "    x_test.drop(['id', 'zipcode', 'price'], axis=1)), index=None)\n",
    "x_data = x_data.reset_index()\n",
    "x_test['price'].reset_index()\n",
    "\n",
    "pd.concat([x_data, x_predicted_data, x_test['price'].reset_index()], axis=1)\n",
    "a1 = x_test.drop(['id', 'zipcode', 'price'], axis=1).iloc[[0, 1], :]\n",
    "reg.predict(a1)\n",
    "\n",
    "df3 = pd.read_csv(\"C:\\\\Users\\\\Raushan Kumar\\\\Downloads\\IRIS.csv\", header=None)\n",
    "\n",
    "df3['result'] = np.where(df3[8] == 'setosa', 1, 0)"
   ]
  }
 ],
 "metadata": {
  "kernelspec": {
   "display_name": "base",
   "language": "python",
   "name": "python3"
  },
  "language_info": {
   "codemirror_mode": {
    "name": "ipython",
    "version": 3
   },
   "file_extension": ".py",
   "mimetype": "text/x-python",
   "name": "python",
   "nbconvert_exporter": "python",
   "pygments_lexer": "ipython3",
   "version": "3.8.8"
  },
  "orig_nbformat": 4
 },
 "nbformat": 4,
 "nbformat_minor": 2
}

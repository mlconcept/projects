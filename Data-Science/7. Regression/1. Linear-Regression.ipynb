{
 "cells": [
  {
   "cell_type": "markdown",
   "metadata": {},
   "source": [
    "Linear regression makes several assumptions about the data:\n",
    "\n",
    "1. **Linearity:** The relationship between the independent and dependent variables is linear.\n",
    "2. **Independence:** The observations are independent of each other.\n",
    "3. **Homoscedasticity:** The variance of the errors is constant across all levels of the independent variables.\n",
    "4. **Normality:** The errors are normally distributed with a mean of zero.\n",
    "5. **No multicollinearity:** The independent variables are not highly correlated with each other."
   ]
  },
  {
   "cell_type": "code",
   "execution_count": 10,
   "metadata": {},
   "outputs": [],
   "source": [
    "# Import necessary libraries\n",
    "from sklearn.linear_model import LinearRegression\n",
    "from sklearn.model_selection import train_test_split\n",
    "import pandas as pd\n",
    "from pathlib import Path\n",
    "\n",
    "# Read the dataset from a CSV file\n",
    "df = pd.read_csv(str(Path().resolve().parent) + \"\\\\4. DataFrame\\\\sample-data\\\\kc_housingdata.csv\")"
   ]
  },
  {
   "cell_type": "code",
   "execution_count": 11,
   "metadata": {},
   "outputs": [],
   "source": [
    "# Drop the 'date' column from the DataFrame\n",
    "df1 = df.drop(['date', 'id', 'zipcode'], axis=1)"
   ]
  },
  {
   "cell_type": "code",
   "execution_count": 12,
   "metadata": {},
   "outputs": [],
   "source": [
    "# Convert categorical variable into dummy/indicator variables\n",
    "df1 = pd.get_dummies(df1)\n",
    "\n",
    "# Define the independent variables (x) and the dependent variable (y)\n",
    "x = df1.drop(['price'], axis=1)\n",
    "y = df1['price']\n",
    "\n",
    "# Split the dataset into a training set and a test set\n",
    "x_train, x_test, y_train, y_test = train_test_split(x, y, test_size=0.20, random_state=400)"
   ]
  },
  {
   "cell_type": "code",
   "execution_count": 13,
   "metadata": {},
   "outputs": [
    {
     "data": {
      "text/plain": [
       "0.699131159635666"
      ]
     },
     "execution_count": 13,
     "metadata": {},
     "output_type": "execute_result"
    }
   ],
   "source": [
    "# Create a Linear Regression model\n",
    "reg = LinearRegression()\n",
    "# Train the model using the training set\n",
    "reg.fit(x_train, y_train)\n",
    "# Evaluate the model using the test set\n",
    "reg.score(x_test, y_test)"
   ]
  },
  {
   "cell_type": "code",
   "execution_count": 14,
   "metadata": {},
   "outputs": [
    {
     "data": {
      "text/plain": [
       "array([6.15022001e+06, 2.20190910e+06, 1.70495966e+05, 6.96478823e+04,\n",
       "       5.40880768e+04, 5.07143858e+04, 3.35447897e+03, 1.06762120e+02,\n",
       "       9.12800925e+01, 8.61443165e+01, 7.78519903e+01, 6.12090162e+01,\n",
       "       4.67294949e+01, 1.71650134e+01, 1.50288076e+01, 1.03604809e+01,\n",
       "       4.03326499e-11])"
      ]
     },
     "execution_count": 14,
     "metadata": {},
     "output_type": "execute_result"
    }
   ],
   "source": [
    "# Print the coefficients of the model\n",
    "reg.coef_\n",
    "\n",
    "# Print the intercept of the model\n",
    "reg.intercept_\n",
    "\n",
    "# Print the singular values of the model\n",
    "reg.singular_"
   ]
  },
  {
   "cell_type": "code",
   "execution_count": 17,
   "metadata": {},
   "outputs": [
    {
     "data": {
      "text/html": [
       "<div>\n",
       "<style scoped>\n",
       "    .dataframe tbody tr th:only-of-type {\n",
       "        vertical-align: middle;\n",
       "    }\n",
       "\n",
       "    .dataframe tbody tr th {\n",
       "        vertical-align: top;\n",
       "    }\n",
       "\n",
       "    .dataframe thead th {\n",
       "        text-align: right;\n",
       "    }\n",
       "</style>\n",
       "<table border=\"1\" class=\"dataframe\">\n",
       "  <thead>\n",
       "    <tr style=\"text-align: right;\">\n",
       "      <th></th>\n",
       "      <th>0</th>\n",
       "    </tr>\n",
       "  </thead>\n",
       "  <tbody>\n",
       "    <tr>\n",
       "      <th>0</th>\n",
       "      <td>426955.818751</td>\n",
       "    </tr>\n",
       "    <tr>\n",
       "      <th>1</th>\n",
       "      <td>357916.962132</td>\n",
       "    </tr>\n",
       "    <tr>\n",
       "      <th>2</th>\n",
       "      <td>576195.325171</td>\n",
       "    </tr>\n",
       "    <tr>\n",
       "      <th>3</th>\n",
       "      <td>513480.278815</td>\n",
       "    </tr>\n",
       "    <tr>\n",
       "      <th>4</th>\n",
       "      <td>387855.156609</td>\n",
       "    </tr>\n",
       "    <tr>\n",
       "      <th>...</th>\n",
       "      <td>...</td>\n",
       "    </tr>\n",
       "    <tr>\n",
       "      <th>4318</th>\n",
       "      <td>837905.317280</td>\n",
       "    </tr>\n",
       "    <tr>\n",
       "      <th>4319</th>\n",
       "      <td>901186.172316</td>\n",
       "    </tr>\n",
       "    <tr>\n",
       "      <th>4320</th>\n",
       "      <td>275405.903983</td>\n",
       "    </tr>\n",
       "    <tr>\n",
       "      <th>4321</th>\n",
       "      <td>740276.647227</td>\n",
       "    </tr>\n",
       "    <tr>\n",
       "      <th>4322</th>\n",
       "      <td>515214.037308</td>\n",
       "    </tr>\n",
       "  </tbody>\n",
       "</table>\n",
       "<p>4323 rows × 1 columns</p>\n",
       "</div>"
      ],
      "text/plain": [
       "                  0\n",
       "0     426955.818751\n",
       "1     357916.962132\n",
       "2     576195.325171\n",
       "3     513480.278815\n",
       "4     387855.156609\n",
       "...             ...\n",
       "4318  837905.317280\n",
       "4319  901186.172316\n",
       "4320  275405.903983\n",
       "4321  740276.647227\n",
       "4322  515214.037308\n",
       "\n",
       "[4323 rows x 1 columns]"
      ]
     },
     "execution_count": 17,
     "metadata": {},
     "output_type": "execute_result"
    }
   ],
   "source": [
    "# Predict the dependent variable using the test data\n",
    "x_predicted_data = pd.DataFrame(reg.predict(x_test))\n",
    "x_predicted_data"
   ]
  },
  {
   "cell_type": "code",
   "execution_count": null,
   "metadata": {},
   "outputs": [],
   "source": []
  }
 ],
 "metadata": {
  "kernelspec": {
   "display_name": "base",
   "language": "python",
   "name": "python3"
  },
  "language_info": {
   "codemirror_mode": {
    "name": "ipython",
    "version": 3
   },
   "file_extension": ".py",
   "mimetype": "text/x-python",
   "name": "python",
   "nbconvert_exporter": "python",
   "pygments_lexer": "ipython3",
   "version": "3.8.18"
  },
  "orig_nbformat": 4
 },
 "nbformat": 4,
 "nbformat_minor": 2
}

{
 "cells": [
  {
   "cell_type": "code",
   "execution_count": null,
   "metadata": {},
   "outputs": [],
   "source": []
  },
  {
   "cell_type": "markdown",
   "metadata": {},
   "source": [
    "Python has several built-in data types, including:\n",
    "\n",
    "- Numeric types: `int`, `float`, `complex`\n",
    "- Sequence types: `list`, `tuple`, `range`\n",
    "- Text type: `str`\n",
    "- Mapping type: `dict`\n",
    "- Set types: `set`, `frozenset`\n",
    "- Boolean type: `bool`\n",
    "- Binary types: `bytes`, `bytearray`, `memoryview`\n",
    "\n",
    "Each data type has its own set of operations and methods that can be used to manipulate and work with the data."
   ]
  },
  {
   "cell_type": "markdown",
   "metadata": {},
   "source": [
    "In Python, variables can be classified into different types based on the scope and lifetime of the variable. Here are the main types of variables in Python:\n",
    "\n",
    "- Local variables: These are variables that are defined inside a function and have a local scope. They are created when the function is called and destroyed when the function returns.\n",
    "- Global variables: These are variables that are defined outside of any function and have a global scope. They can be accessed from any part of the program.\n",
    "- Instance variables: These are variables that are defined inside a class and belong to an instance of the class. They are created when an object is created and destroyed when the object is destroyed.\n",
    "- Class variables: These are variables that are defined inside a class and belong to the class itself. They are shared by all instances of the class.\n",
    "\n",
    "Each type of variable has its own rules and best practices for usage."
   ]
  },
  {
   "cell_type": "markdown",
   "metadata": {},
   "source": [
    "In Python, there are certain reserved words that have special meanings and cannot be used as variable names. These reserved words are also known as keywords. Here is a list of all the keywords in Python:\n",
    "\n",
    "You should avoid using these keywords as variable names in your code, as doing so can cause syntax errors or unexpected behavior.\n",
    "\n",
    "**False, None, True, and, as, assert, async, await, break, class, continue, def, del, elif, else, except, finally, for, from, global, if, import, in, is, lambda, nonlocal, not, or, pass, raise, return, try, while, with, yield**"
   ]
  },
  {
   "cell_type": "markdown",
   "metadata": {},
   "source": [
    "In Python, indentation is used to define the scope and hierarchy of code blocks. Indentation refers to the number of spaces or tabs at the beginning of a line of code. \n",
    "\n",
    "Here's an example of how indentation is used in Python:\n",
    "\n"
   ]
  },
  {
   "cell_type": "code",
   "execution_count": null,
   "metadata": {},
   "outputs": [],
   "source": [
    "if x > 0:\n",
    "    print(\"x is positive\")\n",
    "else:\n",
    "    print(\"x is zero or negative\")"
   ]
  },
  {
   "cell_type": "markdown",
   "metadata": {},
   "source": [
    "In Python, data types can be classified as either mutable or immutable. \n",
    "\n",
    "Immutable data types are those that cannot be changed once they are created. Examples of immutable data types in Python include `int`, `float`, `bool`, `str`, and `tuple`. If you try to modify an immutable object, Python will create a new object instead of modifying the existing one.\n",
    "\n",
    "Mutable data types are those that can be changed after they are created. Examples of mutable data types in Python include `list`, `dict`, and `set`. If you modify a mutable object, Python will modify the existing object instead of creating a new one.\n",
    "\n",
    "Here's an example to illustrate the difference between mutable and immutable data types:\n",
    "\n"
   ]
  },
  {
   "cell_type": "code",
   "execution_count": null,
   "metadata": {
    "vscode": {
     "languageId": ""
    }
   },
   "outputs": [],
   "source": [
    "# Immutable data type (int)\n",
    "x = 5\n",
    "y = x\n",
    "x = x + 1\n",
    "print(x)  # Output: 6\n",
    "print(y)  # Output: 5\n",
    "\n",
    "# Mutable data type (list)\n",
    "a = [1, 2, 3]\n",
    "b = a\n",
    "a.append(4)\n",
    "print(a)  # Output: [1, 2, 3, 4]\n",
    "print(b)  # Output: [1, 2, 3, 4]"
   ]
  },
  {
   "cell_type": "markdown",
   "metadata": {},
   "source": [
    "### Lists\n",
    "Lists are ordered, mutable collections of objects. They are defined using square brackets `[]` and elements are separated by commas.\n",
    "\n"
   ]
  },
  {
   "cell_type": "code",
   "execution_count": null,
   "metadata": {},
   "outputs": [],
   "source": [
    "# Define a list of integers\n",
    "my_list = [1, 2, 3, 4, 5]\n",
    "\n",
    "# Define a list of strings\n",
    "fruits = [\"apple\", \"banana\", \"cherry\", \"date\"]\n",
    "\n",
    "# Add an element to the end of the list\n",
    "fruits.append(\"elderberry\")\n",
    "\n",
    "# Access an element by index\n",
    "print(fruits[0])  # Output: \"apple\"\n",
    "\n",
    "# Modify an element by index\n",
    "fruits[1] = \"blueberry\"\n",
    "\n",
    "# Remove an element by value\n",
    "fruits.remove(\"cherry\")"
   ]
  },
  {
   "cell_type": "markdown",
   "metadata": {},
   "source": [
    "\n",
    "\n",
    "### Tuples\n",
    "Tuples are ordered, immutable collections of objects. They are defined using parentheses `()` and elements are separated by commas.\n",
    "\n"
   ]
  },
  {
   "cell_type": "code",
   "execution_count": null,
   "metadata": {},
   "outputs": [],
   "source": [
    "# Define a tuple of integers\n",
    "my_tuple = (1, 2, 3, 4, 5)\n",
    "\n",
    "# Define a tuple of strings\n",
    "fruits = (\"apple\", \"banana\", \"cherry\", \"date\")\n",
    "\n",
    "# Access an element by index\n",
    "print(fruits[0])  # Output: \"apple\""
   ]
  },
  {
   "cell_type": "markdown",
   "metadata": {},
   "source": [
    "\n",
    "\n",
    "### Sets\n",
    "Sets are unordered, mutable collections of unique objects. They are defined using curly braces `{}` or the `set()` function.\n",
    "\n"
   ]
  },
  {
   "cell_type": "code",
   "execution_count": null,
   "metadata": {},
   "outputs": [],
   "source": [
    "# Define a set of integers\n",
    "my_set = {1, 2, 3, 4, 5}\n",
    "\n",
    "# Define a set of strings\n",
    "fruits = {\"apple\", \"banana\", \"cherry\", \"date\"}\n",
    "\n",
    "# Add an element to the set\n",
    "fruits.add(\"elderberry\")\n",
    "\n",
    "# Remove an element from the set\n",
    "fruits.remove(\"cherry\")"
   ]
  },
  {
   "cell_type": "markdown",
   "metadata": {},
   "source": [
    "To install a package using pip, you can use the following command in your terminal or command prompt:\n",
    "\n"
   ]
  },
  {
   "cell_type": "code",
   "execution_count": null,
   "metadata": {
    "vscode": {
     "languageId": ""
    }
   },
   "outputs": [],
   "source": [
    "pip install package_name"
   ]
  },
  {
   "cell_type": "markdown",
   "metadata": {},
   "source": [
    "\n",
    "\n",
    "Replace `package_name` with the name of the package you want to install. For example, to install the `numpy` package, you would run:\n",
    "\n"
   ]
  },
  {
   "cell_type": "code",
   "execution_count": null,
   "metadata": {
    "vscode": {
     "languageId": ""
    }
   },
   "outputs": [],
   "source": [
    "pip install numpy"
   ]
  },
  {
   "cell_type": "markdown",
   "metadata": {},
   "source": [
    "\n",
    "\n",
    "Make sure you have a working internet connection and that you have administrative privileges on your computer to install packages."
   ]
  }
 ],
 "metadata": {
  "kernelspec": {
   "display_name": "base",
   "language": "python",
   "name": "python3"
  },
  "language_info": {
   "name": "python",
   "version": "3.8.8"
  },
  "orig_nbformat": 4
 },
 "nbformat": 4,
 "nbformat_minor": 2
}

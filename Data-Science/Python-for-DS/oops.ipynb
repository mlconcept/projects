{
 "cells": [
  {
   "cell_type": "code",
   "execution_count": null,
   "metadata": {},
   "outputs": [],
   "source": []
  },
  {
   "cell_type": "markdown",
   "metadata": {},
   "source": [
    "- Object-oriented programming (OOP) is a programming paradigm that uses objects to represent and manipulate data. In Python, everything is an object, and you can define your own objects using classes. \n",
    "- A class is a blueprint for creating objects that defines the attributes and methods of the objects.\n",
    "- An attribute is a variable that stores data for an object, while a method is a function that defines the behavior of an object. "
   ]
  },
  {
   "cell_type": "markdown",
   "metadata": {},
   "source": [
    "Here are topics for Python object-oriented programming:\n",
    "\n",
    "1. Classes and objects\n",
    "2. Attributes and methods\n",
    "3. Inheritance and polymorphism\n",
    "4. Encapsulation and abstraction\n",
    "5. Magic methods and operator overloading\n",
    "6. Class methods and static methods\n",
    "7. Abstract base classes and interfaces\n",
    "8. Multiple inheritance and method resolution order\n",
    "9. Mixins and composition\n",
    "10. Design patterns in object-oriented programming"
   ]
  },
  {
   "cell_type": "markdown",
   "metadata": {},
   "source": [
    "\n",
    "1. Classes and objects:\n",
    "\n",
    "Classes are templates for creating objects that define the attributes and methods of the objects. Objects are instances of a class that have their own unique state and behavior. In this example, we define a `Car` class that has attributes for the make, model, and year of the car, and a method `start()` that prints a message when the car is started.\n",
    "\n"
   ]
  },
  {
   "cell_type": "code",
   "execution_count": null,
   "metadata": {},
   "outputs": [],
   "source": [
    "class Car:\n",
    "    def __init__(self, make, model, year):\n",
    "        self.make = make\n",
    "        self.model = model\n",
    "        self.year = year\n",
    "\n",
    "    def start(self):\n",
    "        print(f\"{self.make} {self.model} ({self.year}) started.\")\n",
    "\n",
    "car = Car(\"Toyota\", \"Corolla\", 2021)\n",
    "car.start()  # Output: Toyota Corolla (2021) started."
   ]
  },
  {
   "cell_type": "markdown",
   "metadata": {},
   "source": [
    "\n",
    "\n",
    "2. Attributes and methods:\n",
    "\n",
    "Attributes are variables that store data for an object, while methods are functions that define the behavior of an object. In this example, we define a `Rectangle` class that has attributes for the width and height of the rectangle, and methods for calculating the area and perimeter of the rectangle.\n",
    "\n"
   ]
  },
  {
   "cell_type": "code",
   "execution_count": null,
   "metadata": {},
   "outputs": [],
   "source": [
    "class Rectangle:\n",
    "    def __init__(self, width, height):\n",
    "        self.width = width\n",
    "        self.height = height\n",
    "\n",
    "    def area(self):\n",
    "        return self.width * self.height\n",
    "\n",
    "    def perimeter(self):\n",
    "        return 2 * (self.width + self.height)\n",
    "\n",
    "rect = Rectangle(5, 10)\n",
    "print(rect.area())  # Output: 50\n",
    "print(rect.perimeter())  # Output: 30"
   ]
  },
  {
   "cell_type": "markdown",
   "metadata": {},
   "source": [
    "\n",
    "\n",
    "3. Inheritance and polymorphism:\n",
    "\n",
    "Inheritance allows you to create a new class that is a modified version of an existing class, while polymorphism allows you to use objects of different classes in the same way. In this example, we define an `Animal` class with a `speak()` method that raises a `NotImplementedError` to indicate that it is an abstract method. We then define `Dog` and `Cat` subclasses that override the `speak()` method to provide their own implementation. Finally, we create a list of `Animal` objects that includes both `Dog` and `Cat` objects, and call the `speak()` method on each object.\n",
    "\n"
   ]
  },
  {
   "cell_type": "code",
   "execution_count": null,
   "metadata": {},
   "outputs": [],
   "source": [
    "class Animal:\n",
    "    def __init__(self, name):\n",
    "        self.name = name\n",
    "\n",
    "    def speak(self):\n",
    "        raise NotImplementedError(\"Subclass must implement abstract method\")\n",
    "\n",
    "class Dog(Animal):\n",
    "    def speak(self):\n",
    "        return \"Woof!\"\n",
    "\n",
    "class Cat(Animal):\n",
    "    def speak(self):\n",
    "        return \"Meow!\"\n",
    "\n",
    "animals = [Dog(\"Rufus\"), Cat(\"Whiskers\"), Dog(\"Buddy\")]\n",
    "\n",
    "for animal in animals:\n",
    "    print(animal.name + \": \" + animal.speak())"
   ]
  },
  {
   "cell_type": "markdown",
   "metadata": {},
   "source": [
    "\n",
    "\n",
    "4. Encapsulation and abstraction:\n",
    "\n",
    "Encapsulation is the practice of hiding the implementation details of a class from the outside world, while abstraction is the practice of exposing only the essential features of a class to the outside world. In this example, we define a `BankAccount` class that has a private `_balance` attribute and methods for depositing, withdrawing, and getting the balance of the account. The `_balance` attribute is marked as private by convention, which means that it should not be accessed directly from outside the class.\n",
    "\n"
   ]
  },
  {
   "cell_type": "code",
   "execution_count": null,
   "metadata": {},
   "outputs": [],
   "source": [
    "class BankAccount:\n",
    "    def __init__(self, balance):\n",
    "        self._balance = balance\n",
    "\n",
    "    def deposit(self, amount):\n",
    "        self._balance += amount\n",
    "\n",
    "    def withdraw(self, amount):\n",
    "        if amount > self._balance:\n",
    "            raise ValueError(\"Insufficient balance\")\n",
    "        self._balance -= amount\n",
    "\n",
    "    def get_balance(self):\n",
    "        return self._balance\n",
    "\n",
    "account = BankAccount(1000)\n",
    "account.deposit(500)\n",
    "account.withdraw(200)\n",
    "print(account.get_balance())  # Output: 1300"
   ]
  },
  {
   "cell_type": "markdown",
   "metadata": {},
   "source": [
    "\n",
    "\n",
    "5. Magic methods and operator overloading:\n",
    "\n",
    "Magic methods are special methods that allow you to customize the behavior of a class, while operator overloading allows you to define how operators like `+` and `-` work with objects of your class. In this example, we define a `Vector` class that has attributes for the `x` and `y` components of a vector, and magic methods for adding and subtracting vectors and for converting the vector to a string.\n",
    "\n"
   ]
  },
  {
   "cell_type": "code",
   "execution_count": null,
   "metadata": {},
   "outputs": [],
   "source": [
    "class Vector:\n",
    "    def __init__(self, x, y):\n",
    "        self.x = x\n",
    "        self.y = y\n",
    "\n",
    "    def __add__(self, other):\n",
    "        return Vector(self.x + other.x, self.y + other.y)\n",
    "\n",
    "    def __sub__(self, other):\n",
    "        return Vector(self.x - other.x, self.y - other.y)\n",
    "\n",
    "    def __str__(self):\n",
    "        return f\"({self.x}, {self.y})\"\n",
    "\n",
    "v1 = Vector(1, 2)\n",
    "v2 = Vector(3, 4)\n",
    "print(v1 + v2)  # Output: (4, 6)\n",
    "print(v1 - v2)  # Output: (-2, -2)"
   ]
  },
  {
   "cell_type": "markdown",
   "metadata": {},
   "source": [
    "\n",
    "\n",
    "6. Class methods and static methods:\n",
    "\n",
    "Class methods are methods that operate on the class itself, while static methods are methods that do not depend on the state of the class or its instances. In this example, we define a `Math` class that has class methods for adding and multiplying numbers and a static method for computing the factorial of a number.\n",
    "\n"
   ]
  },
  {
   "cell_type": "code",
   "execution_count": null,
   "metadata": {},
   "outputs": [],
   "source": [
    "class Math:\n",
    "    @staticmethod\n",
    "    def add(x, y):\n",
    "        return x + y\n",
    "\n",
    "    @classmethod\n",
    "    def multiply(cls, x, y):\n",
    "        return x * y\n",
    "\n",
    "print(Math.add(2, 3))  # Output: 5\n",
    "print(Math.multiply(2, 3))  # Output: 6"
   ]
  },
  {
   "cell_type": "markdown",
   "metadata": {},
   "source": [
    "\n",
    "\n",
    "7. Abstract base classes and interfaces:\n",
    "\n",
    "Abstract base classes are classes that define abstract methods that must be implemented by subclasses, while interfaces are similar to abstract base classes but do not have any implementation. In this example, we define a `Shape` abstract base class with an abstract `area()` method, and `Rectangle` and `Circle` subclasses that implement the `area()` method. We then create a list of `Shape` objects that includes both `Rectangle` and `Circle` objects, and call the `area()` method on each object.\n",
    "\n"
   ]
  },
  {
   "cell_type": "code",
   "execution_count": null,
   "metadata": {},
   "outputs": [],
   "source": [
    "from abc import ABC, abstractmethod\n",
    "\n",
    "class Shape(ABC):\n",
    "    @abstractmethod\n",
    "    def area(self):\n",
    "        pass\n",
    "\n",
    "class Rectangle(Shape):\n",
    "    def __init__(self, width, height):\n",
    "        self.width = width\n",
    "        self.height = height\n",
    "\n",
    "    def area(self):\n",
    "        return self.width * self.height\n",
    "\n",
    "class Circle(Shape):\n",
    "    def __init__(self, radius):\n",
    "        self.radius = radius\n",
    "\n",
    "    def area(self):\n",
    "        return 3.14 * self.radius ** 2\n",
    "\n",
    "shapes = [Rectangle(5, 10), Circle(3)]\n",
    "\n",
    "for shape in shapes:\n",
    "    print(shape.area())"
   ]
  },
  {
   "cell_type": "markdown",
   "metadata": {},
   "source": [
    "\n",
    "\n",
    "8. Multiple inheritance and method resolution order:\n",
    "\n",
    "Multiple inheritance allows you to create a new class that inherits from multiple base classes, while method resolution order determines the order in which methods are searched for in the class hierarchy. In this example, we define classes `A`, `B`, `C`, and `D` with conflicting `foo()` methods, and create instances of `C` and `D` to demonstrate the method resolution order.\n",
    "\n"
   ]
  },
  {
   "cell_type": "code",
   "execution_count": null,
   "metadata": {},
   "outputs": [],
   "source": [
    "class A:\n",
    "    def foo(self):\n",
    "        print(\"A\")\n",
    "\n",
    "class B:\n",
    "    def foo(self):\n",
    "        print(\"B\")\n",
    "\n",
    "class C(A, B):\n",
    "    pass\n",
    "\n",
    "class D(B, A):\n",
    "    pass\n",
    "\n",
    "c = C()\n",
    "c.foo()  # Output: A\n",
    "\n",
    "d = D()\n",
    "d.foo()  # Output: B"
   ]
  },
  {
   "cell_type": "markdown",
   "metadata": {},
   "source": [
    "\n",
    "\n",
    "9. Mixins and composition:\n",
    "\n",
    "Mixins are classes that provide additional functionality to other classes through multiple inheritance, while composition is the practice of creating objects that contain other objects as attributes. In this example, we define a `PrintableMixin` class that provides a `__str__()` method for printing the attributes of an object, and a `Person` class that inherits from `PrintableMixin` and has attributes for the name and age of a person.\n",
    "\n"
   ]
  },
  {
   "cell_type": "code",
   "execution_count": null,
   "metadata": {},
   "outputs": [],
   "source": [
    "class PrintableMixin:\n",
    "    def __str__(self):\n",
    "        return str(self.__dict__)\n",
    "\n",
    "class Person(PrintableMixin):\n",
    "    def __init__(self, name, age):\n",
    "        self.name = name\n",
    "        self.age = age\n",
    "\n",
    "person = Person(\"Alice\", 30)\n",
    "print(person)  # Output: {'name': 'Alice', 'age': 30}"
   ]
  },
  {
   "cell_type": "markdown",
   "metadata": {},
   "source": [
    "\n",
    "\n",
    "10. Design patterns in object-oriented programming:\n",
    "\n",
    "Design patterns are reusable solutions to common programming problems that can help you write more maintainable and scalable code. In this example, we define a `Singleton` class that ensures that only one instance of a class is created, and a `Database` class that inherits from `Singleton` and has a list of data that can be modified by multiple instances of the class.\n",
    "\n"
   ]
  },
  {
   "cell_type": "code",
   "execution_count": null,
   "metadata": {},
   "outputs": [],
   "source": [
    "class Singleton:\n",
    "    _instance = None\n",
    "\n",
    "    def __new__(cls):\n",
    "        if cls._instance is None:\n",
    "            cls._instance = super().__new__(cls)\n",
    "        return cls._instance\n",
    "\n",
    "class Database(Singleton):\n",
    "    def __init__(self):\n",
    "        self.data = []\n",
    "\n",
    "    def insert(self, item):\n",
    "        self.data.append(item)\n",
    "\n",
    "db1 = Database()\n",
    "db1.insert(\"apple\")\n",
    "db2 = Database()\n",
    "print(db2.data)  # Output: ['apple']"
   ]
  }
 ],
 "metadata": {
  "language_info": {
   "name": "python"
  },
  "orig_nbformat": 4
 },
 "nbformat": 4,
 "nbformat_minor": 2
}

{
 "cells": [
  {
   "cell_type": "markdown",
   "metadata": {},
   "source": [
    "In Python, a lambda function is a small anonymous function that can have any number of arguments, but can only have one expression. Lambda functions are often used as a shortcut for simple functions that are only used once. Here are some examples of the different topics related to lambda functions in Python:\n",
    "\n",
    "1. Basic syntax:\n",
    "\n"
   ]
  },
  {
   "cell_type": "code",
   "execution_count": null,
   "metadata": {},
   "outputs": [],
   "source": [
    "add = lambda x, y: x + y\n",
    "print(add(2, 3))  # Output: 5"
   ]
  },
  {
   "cell_type": "markdown",
   "metadata": {},
   "source": [
    "\n",
    "\n",
    "In this example, we define a lambda function `add()` that takes two arguments `x` and `y` and returns their sum. We then call the function with the arguments `2` and `3`, and print the result, which is `5`.\n",
    "\n",
    "2. Using lambda functions as arguments:\n",
    "\n"
   ]
  },
  {
   "cell_type": "code",
   "execution_count": null,
   "metadata": {},
   "outputs": [],
   "source": [
    "numbers = [1, 2, 3, 4, 5]\n",
    "squares = list(map(lambda x: x**2, numbers))\n",
    "print(squares)  # Output: [1, 4, 9, 16, 25]"
   ]
  },
  {
   "cell_type": "markdown",
   "metadata": {},
   "source": [
    "\n",
    "\n",
    "In this example, we define a list of numbers `numbers` and use the `map()` function to apply a lambda function that squares each number in the list. We then convert the result to a list using the `list()` function and print the result, which is `[1, 4, 9, 16, 25]`.\n",
    "\n",
    "3. Using lambda functions with filter():\n",
    "\n"
   ]
  },
  {
   "cell_type": "code",
   "execution_count": null,
   "metadata": {},
   "outputs": [],
   "source": [
    "numbers = [1, 2, 3, 4, 5]\n",
    "even_numbers = list(filter(lambda x: x % 2 == 0, numbers))\n",
    "print(even_numbers)  # Output: [2, 4]"
   ]
  },
  {
   "cell_type": "markdown",
   "metadata": {},
   "source": [
    "\n",
    "\n",
    "In this example, we define a list of numbers `numbers` and use the `filter()` function to apply a lambda function that filters out the odd numbers in the list. We then convert the result to a list using the `list()` function and print the result, which is `[2, 4]`.\n",
    "\n",
    "4. Using lambda functions with reduce():\n",
    "\n"
   ]
  },
  {
   "cell_type": "code",
   "execution_count": null,
   "metadata": {},
   "outputs": [],
   "source": [
    "from functools import reduce\n",
    "\n",
    "numbers = [1, 2, 3, 4, 5]\n",
    "product = reduce(lambda x, y: x * y, numbers)\n",
    "print(product)  # Output: 120"
   ]
  },
  {
   "cell_type": "markdown",
   "metadata": {},
   "source": [
    "\n",
    "\n",
    "In this example, we define a list of numbers `numbers` and use the `reduce()` function to apply a lambda function that multiplies all the numbers in the list together. We then print the result, which is `120`.\n",
    "\n",
    "5. Using lambda functions with sorted():\n",
    "\n"
   ]
  },
  {
   "cell_type": "code",
   "execution_count": null,
   "metadata": {},
   "outputs": [],
   "source": [
    "words = [\"apple\", \"banana\", \"cherry\", \"date\"]\n",
    "sorted_words = sorted(words, key=lambda x: len(x))\n",
    "print(sorted_words)  # Output: ['date', 'apple', 'banana', 'cherry']"
   ]
  },
  {
   "cell_type": "markdown",
   "metadata": {},
   "source": [
    "\n",
    "\n",
    "In this example, we define a list of words `words` and use the `sorted()` function to sort the words by their length, using a lambda function as the key. We then print the result, which is `['date', 'apple', 'banana', 'cherry']`.\n",
    "\n",
    "Lambda functions are a powerful tool for writing concise and expressive code in Python. They are commonly used in functional programming and are an essential part of many Python libraries and frameworks."
   ]
  },
  {
   "cell_type": "markdown",
   "metadata": {},
   "source": [
    "1. Sorting a list of dictionaries by a specific key:"
   ]
  },
  {
   "cell_type": "code",
   "execution_count": null,
   "metadata": {},
   "outputs": [],
   "source": [
    "people = [\n",
    "    {\"name\": \"Alice\", \"age\": 30},\n",
    "    {\"name\": \"Bob\", \"age\": 25},\n",
    "    {\"name\": \"Charlie\", \"age\": 35}\n",
    "]\n",
    "\n",
    "sorted_people = sorted(people, key=lambda x: x[\"age\"])\n",
    "print(sorted_people)  # Output: [{'name': 'Bob', 'age': 25}, {'name': 'Alice', 'age': 30}, {'name': 'Charlie', 'age': 35}]"
   ]
  },
  {
   "cell_type": "markdown",
   "metadata": {},
   "source": [
    "\n",
    "\n",
    "In this example, we define a list of dictionaries `people` and use the `sorted()` function to sort the list by the `\"age\"` key, using a lambda function as the key. We then print the result, which is `[{'name': 'Bob', 'age': 25}, {'name': 'Alice', 'age': 30}, {'name': 'Charlie', 'age': 35}]`.\n",
    "\n",
    "2. Filtering a list of strings by a specific condition:\n",
    "\n"
   ]
  },
  {
   "cell_type": "code",
   "execution_count": null,
   "metadata": {},
   "outputs": [],
   "source": [
    "words = [\"apple\", \"banana\", \"cherry\", \"date\"]\n",
    "filtered_words = list(filter(lambda x: len(x) > 5, words))\n",
    "print(filtered_words)  # Output: ['banana', 'cherry']"
   ]
  },
  {
   "cell_type": "markdown",
   "metadata": {},
   "source": [
    "\n",
    "\n",
    "In this example, we define a list of words `words` and use the `filter()` function to filter out the words that have a length less than or equal to 5, using a lambda function as the condition. We then convert the result to a list using the `list()` function and print the result, which is `['banana', 'cherry']`.\n",
    "\n",
    "3. Applying a function to a list of values:\n",
    "\n"
   ]
  },
  {
   "cell_type": "code",
   "execution_count": null,
   "metadata": {},
   "outputs": [],
   "source": [
    "numbers = [1, 2, 3, 4, 5]\n",
    "squared_numbers = list(map(lambda x: x**2, numbers))\n",
    "print(squared_numbers)  # Output: [1, 4, 9, 16, 25]"
   ]
  },
  {
   "cell_type": "markdown",
   "metadata": {},
   "source": [
    "\n",
    "\n",
    "In this example, we define a list of numbers `numbers` and use the `map()` function to apply a lambda function that squares each number in the list. We then convert the result to a list using the `list()` function and print the result, which is `[1, 4, 9, 16, 25]`.\n",
    "\n",
    "4. Grouping a list of values by a specific condition:\n",
    "\n"
   ]
  },
  {
   "cell_type": "code",
   "execution_count": null,
   "metadata": {},
   "outputs": [],
   "source": [
    "numbers = [1, 2, 3, 4, 5]\n",
    "grouped_numbers = {}\n",
    "for number in numbers:\n",
    "    key = \"even\" if number % 2 == 0 else \"odd\"\n",
    "    grouped_numbers.setdefault(key, []).append(number)\n",
    "print(grouped_numbers)  # Output: {'odd': [1, 3, 5], 'even': [2, 4]}"
   ]
  },
  {
   "cell_type": "markdown",
   "metadata": {},
   "source": [
    "\n",
    "\n",
    "In this example, we define a list of numbers `numbers` and use a loop to group the numbers into two categories: `\"even\"` and `\"odd\"`, using a lambda function as the condition. We then print the result, which is `{'odd': [1, 3, 5], 'even': [2, 4]}`.\n",
    "\n",
    "Lambda functions are a versatile tool that can be used in many different scenarios in Python. They allow you to write concise and expressive code that is easy to read and understand."
   ]
  }
 ],
 "metadata": {
  "language_info": {
   "name": "python"
  },
  "orig_nbformat": 4
 },
 "nbformat": 4,
 "nbformat_minor": 2
}

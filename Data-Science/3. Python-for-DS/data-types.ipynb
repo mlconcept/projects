{
 "cells": [
  {
   "cell_type": "code",
   "execution_count": null,
   "metadata": {},
   "outputs": [],
   "source": []
  },
  {
   "cell_type": "markdown",
   "metadata": {},
   "source": [
    "Python has several built-in data types, including:\n",
    "\n",
    "- Numeric types: `int`, `float`, `complex`\n",
    "- Sequence types: `list`, `tuple`, `range`\n",
    "- Text type: `str`\n",
    "- Mapping type: `dict`\n",
    "- Set types: `set`, `frozenset`\n",
    "- Boolean type: `bool`\n",
    "- Binary types: `bytes`, `bytearray`, `memoryview`\n",
    "\n",
    "Each data type has its own set of operations and methods that can be used to manipulate and work with the data."
   ]
  },
  {
   "cell_type": "markdown",
   "metadata": {},
   "source": [
    "In Python, variables can be classified into different types based on the scope and lifetime of the variable. Here are the main types of variables in Python:\n",
    "\n",
    "- Local variables: These are variables that are defined inside a function and have a local scope. They are created when the function is called and destroyed when the function returns.\n",
    "- Global variables: These are variables that are defined outside of any function and have a global scope. They can be accessed from any part of the program.\n",
    "- Instance variables: These are variables that are defined inside a class and belong to an instance of the class. They are created when an object is created and destroyed when the object is destroyed.\n",
    "- Class variables: These are variables that are defined inside a class and belong to the class itself. They are shared by all instances of the class.\n",
    "\n",
    "Each type of variable has its own rules and best practices for usage."
   ]
  },
  {
   "cell_type": "markdown",
   "metadata": {},
   "source": [
    "In Python, there are certain reserved words that have special meanings and cannot be used as variable names. These reserved words are also known as keywords. Here is a list of all the keywords in Python:\n",
    "\n",
    "You should avoid using these keywords as variable names in your code, as doing so can cause syntax errors or unexpected behavior.\n",
    "\n",
    "**False, None, True, and, as, assert, async, await, break, class, continue, def, del, elif, else, except, finally, for, from, global, if, import, in, is, lambda, nonlocal, not, or, pass, raise, return, try, while, with, yield**"
   ]
  },
  {
   "cell_type": "markdown",
   "metadata": {},
   "source": [
    "In Python, indentation is used to define the scope and hierarchy of code blocks. Indentation refers to the number of spaces or tabs at the beginning of a line of code. \n",
    "\n",
    "Here's an example of how indentation is used in Python:\n",
    "\n"
   ]
  },
  {
   "cell_type": "code",
   "execution_count": null,
   "metadata": {},
   "outputs": [],
   "source": [
    "if x > 0:\n",
    "    print(\"x is positive\")\n",
    "else:\n",
    "    print(\"x is zero or negative\")"
   ]
  },
  {
   "cell_type": "markdown",
   "metadata": {},
   "source": [
    "In Python, data types can be classified as either mutable or immutable. \n",
    "\n",
    "Immutable data types are those that cannot be changed once they are created. Examples of immutable data types in Python include `int`, `float`, `bool`, `str`, and `tuple`. If you try to modify an immutable object, Python will create a new object instead of modifying the existing one.\n",
    "\n",
    "Mutable data types are those that can be changed after they are created. Examples of mutable data types in Python include `list`, `dict`, and `set`. If you modify a mutable object, Python will modify the existing object instead of creating a new one.\n",
    "\n",
    "Here's an example to illustrate the difference between mutable and immutable data types:\n",
    "\n"
   ]
  },
  {
   "cell_type": "code",
   "execution_count": null,
   "metadata": {},
   "outputs": [],
   "source": [
    "# Immutable data type (int)\n",
    "x = 5\n",
    "y = x\n",
    "x = x + 1\n",
    "print(x)  # Output: 6\n",
    "print(y)  # Output: 5\n",
    "\n",
    "# Mutable data type (list)\n",
    "a = [1, 2, 3]\n",
    "b = a\n",
    "a.append(4)\n",
    "print(a)  # Output: [1, 2, 3, 4]\n",
    "print(b)  # Output: [1, 2, 3, 4]"
   ]
  },
  {
   "cell_type": "markdown",
   "metadata": {},
   "source": [
    "# String"
   ]
  },
  {
   "cell_type": "markdown",
   "metadata": {},
   "source": [
    "In Python, strings are a sequence of characters enclosed in quotes. They are a fundamental data type and are used extensively in Python programs. Here are some examples of string operations in Python:\n",
    "\n",
    "1. Concatenation:\n",
    "\n"
   ]
  },
  {
   "cell_type": "code",
   "execution_count": null,
   "metadata": {},
   "outputs": [],
   "source": [
    "first_name = \"Alice\"\n",
    "last_name = \"Smith\"\n",
    "full_name = first_name + \" \" + last_name\n",
    "print(full_name)  # Output: Alice Smith"
   ]
  },
  {
   "cell_type": "markdown",
   "metadata": {},
   "source": [
    "\n",
    "\n",
    "In this example, we define two strings `first_name` and `last_name` and concatenate them using the `+` operator. We then assign the result to a new string `full_name` and print the result, which is `\"Alice Smith\"`.\n",
    "\n",
    "2. String formatting:\n",
    "\n"
   ]
  },
  {
   "cell_type": "code",
   "execution_count": null,
   "metadata": {},
   "outputs": [],
   "source": [
    "name = \"Alice\"\n",
    "age = 30\n",
    "message = \"My name is {} and I am {} years old\".format(name, age)\n",
    "print(message)  # Output: My name is Alice and I am 30 years old"
   ]
  },
  {
   "cell_type": "markdown",
   "metadata": {},
   "source": [
    "\n",
    "\n",
    "In this example, we define two variables `name` and `age` and use the `format()` method to insert their values into a string `message`. We then print the result, which is `\"My name is Alice and I am 30 years old\"`.\n",
    "\n",
    "3. String slicing:\n",
    "\n"
   ]
  },
  {
   "cell_type": "code",
   "execution_count": null,
   "metadata": {},
   "outputs": [],
   "source": [
    "word = \"Python\"\n",
    "first_letter = word[0]\n",
    "last_letter = word[-1]\n",
    "middle_letters = word[1:-1]\n",
    "print(first_letter)  # Output: P\n",
    "print(last_letter)  # Output: n\n",
    "print(middle_letters)  # Output: ytho"
   ]
  },
  {
   "cell_type": "markdown",
   "metadata": {},
   "source": [
    "\n",
    "\n",
    "In this example, we define a string `word` and use indexing to extract its first letter, last letter, and middle letters. We then print the results, which are `\"P\"`, `\"n\"`, and `\"ytho\"`, respectively.\n",
    "\n",
    "4. String methods:\n",
    "\n"
   ]
  },
  {
   "cell_type": "code",
   "execution_count": null,
   "metadata": {},
   "outputs": [],
   "source": [
    "sentence = \"the quick brown fox jumps over the lazy dog\"\n",
    "capitalized_sentence = sentence.capitalize()\n",
    "upper_case_sentence = sentence.upper()\n",
    "lower_case_sentence = sentence.lower()\n",
    "words = sentence.split()\n",
    "print(capitalized_sentence)  # Output: The quick brown fox jumps over the lazy dog\n",
    "print(upper_case_sentence)  # Output: THE QUICK BROWN FOX JUMPS OVER THE LAZY DOG\n",
    "print(lower_case_sentence)  # Output: the quick brown fox jumps over the lazy dog\n",
    "print(words)  # Output: ['the', 'quick', 'brown', 'fox', 'jumps', 'over', 'the', 'lazy', 'dog']"
   ]
  },
  {
   "cell_type": "markdown",
   "metadata": {},
   "source": [
    "\n",
    "\n",
    "In this example, we define a string `sentence` and use various string methods to manipulate it. We use the `capitalize()` method to capitalize the first letter of the sentence, the `upper()` method to convert the sentence to uppercase, the `lower()` method to convert the sentence to lowercase, and the `split()` method to split the sentence into a list of words. We then print the results, which are `\"The quick brown fox jumps over the lazy dog\"`, `\"THE QUICK BROWN FOX JUMPS OVER THE LAZY DOG\"`, `\"the quick brown fox jumps over the lazy dog\"`, and `['the', 'quick', 'brown', 'fox', 'jumps', 'over', 'the', 'lazy', 'dog']`, respectively.\n",
    "\n",
    "These are just a few examples of the many ways that strings can be used in Python. Strings are a versatile and powerful data type that are essential to many Python programs."
   ]
  },
  {
   "cell_type": "markdown",
   "metadata": {},
   "source": [
    "### Lists\n",
    "Lists are ordered, mutable collections of objects. They are defined using square brackets `[]` and elements are separated by commas.\n",
    "\n"
   ]
  },
  {
   "cell_type": "code",
   "execution_count": null,
   "metadata": {},
   "outputs": [],
   "source": [
    "# Creating a list\n",
    "my_list = [1, 2, 3, 4, 5]\n",
    "\n",
    "# Accessing elements of a list\n",
    "print(my_list[0])  # Output: 1\n",
    "print(my_list[-1])  # Output: 5\n",
    "\n",
    "# Slicing a list\n",
    "print(my_list[1:3])  # Output: [2, 3]\n",
    "\n",
    "# Modifying elements of a list\n",
    "my_list[0] = 0\n",
    "print(my_list)  # Output: [0, 2, 3, 4, 5]\n",
    "\n",
    "# Appending an element to a list\n",
    "my_list.append(6)\n",
    "print(my_list)  # Output: [0, 2, 3, 4, 5, 6]\n",
    "\n",
    "# Extending a list with another list\n",
    "my_list.extend([7, 8, 9])\n",
    "print(my_list)  # Output: [0, 2, 3, 4, 5, 6, 7, 8, 9]\n",
    "\n",
    "# Inserting an element at a specific index\n",
    "my_list.insert(1, 1)\n",
    "print(my_list)  # Output: [0, 1, 2, 3, 4, 5, 6, 7, 8, 9]\n",
    "\n",
    "# Removing an element from a list\n",
    "my_list.remove(0)\n",
    "print(my_list)  # Output: [1, 2, 3, 4, 5, 6, 7, 8, 9]\n",
    "\n",
    "# Popping an element from a list\n",
    "popped_element = my_list.pop()\n",
    "print(popped_element)  # Output: 9\n",
    "print(my_list)  # Output: [1, 2, 3, 4, 5, 6, 7, 8]\n",
    "\n",
    "# Checking if an element is in a list\n",
    "if 5 in my_list:\n",
    "    print(\"5 is in the list\")\n",
    "\n",
    "# Sorting a list\n",
    "my_list.sort()\n",
    "print(my_list)  # Output: [1, 2, 3, 4, 5, 6, 7, 8]\n",
    "\n",
    "# Reversing a list\n",
    "my_list.reverse()\n",
    "print(my_list)  # Output: [8, 7, 6, 5, 4, 3, 2, 1]"
   ]
  },
  {
   "cell_type": "markdown",
   "metadata": {},
   "source": [
    "In Python, you can use slicing to extract a portion of a list. Slicing allows you to create a new list that contains only a subset of the elements in the original list.\n",
    "\n",
    "Here's the basic syntax for slicing a list:\n",
    "\n"
   ]
  },
  {
   "cell_type": "code",
   "execution_count": null,
   "metadata": {},
   "outputs": [],
   "source": [
    "my_list[start:end:step]"
   ]
  },
  {
   "cell_type": "markdown",
   "metadata": {},
   "source": [
    "\n",
    "\n",
    "- `start`: The index of the first element to include in the slice (inclusive).\n",
    "- `end`: The index of the last element to include in the slice (exclusive).\n",
    "- `step`: The step size to use when selecting elements (optional).\n",
    "\n",
    "Here's an example of slicing a list:\n",
    "\n"
   ]
  },
  {
   "cell_type": "code",
   "execution_count": null,
   "metadata": {},
   "outputs": [],
   "source": [
    "my_list = [0, 1, 2, 3, 4, 5, 6, 7, 8, 9]\n",
    "\n",
    "# Get the first three elements\n",
    "print(my_list[0:3])  # Output: [0, 1, 2]\n",
    "\n",
    "# Get the last three elements\n",
    "print(my_list[-3:])  # Output: [7, 8, 9]\n",
    "\n",
    "# Get every other element\n",
    "print(my_list[::2])  # Output: [0, 2, 4, 6, 8]\n",
    "\n",
    "# Reverse the list\n",
    "print(my_list[::-1])  # Output: [9, 8, 7, 6, 5, 4, 3, 2, 1, 0]"
   ]
  },
  {
   "cell_type": "markdown",
   "metadata": {},
   "source": [
    "\n",
    "\n",
    "In this example, we have a list `my_list` with 10 elements. We use slicing to extract different subsets of the list:\n",
    "\n",
    "- `my_list[0:3]` selects the first three elements of the list.\n",
    "- `my_list[-3:]` selects the last three elements of the list.\n",
    "- `my_list[::2]` selects every other element of the list.\n",
    "- `my_list[::-1]` reverses the order of the list.\n",
    "\n",
    "You can also use slicing to modify a portion of a list:\n",
    "\n"
   ]
  },
  {
   "cell_type": "code",
   "execution_count": null,
   "metadata": {},
   "outputs": [],
   "source": [
    "my_list = [0, 1, 2, 3, 4, 5, 6, 7, 8, 9]\n",
    "\n",
    "# Replace the first three elements\n",
    "my_list[0:3] = [10, 11, 12]\n",
    "print(my_list)  # Output: [10, 11, 12, 3, 4, 5, 6, 7, 8, 9]\n",
    "\n",
    "# Delete the last three elements\n",
    "my_list[-3:] = []\n",
    "print(my_list)  # Output: [10, 11, 12, 3, 4, 5, 6]"
   ]
  },
  {
   "cell_type": "markdown",
   "metadata": {},
   "source": [
    "\n",
    "\n",
    "In this example, we use slicing to modify a portion of the list:\n",
    "\n",
    "- `my_list[0:3] = [10, 11, 12]` replaces the first three elements of the list with the values 10, 11, and 12.\n",
    "- `my_list[-3:] = []` deletes the last three elements of the list."
   ]
  },
  {
   "cell_type": "markdown",
   "metadata": {},
   "source": [
    "\n",
    "\n",
    "### Tuples\n",
    "Tuples are ordered, immutable collections of objects. They are defined using parentheses `()` and elements are separated by commas.\n",
    "\n"
   ]
  },
  {
   "cell_type": "code",
   "execution_count": null,
   "metadata": {},
   "outputs": [],
   "source": [
    "# Creating a tuple\n",
    "my_tuple = (1, 2, 3, 4, 5)\n",
    "\n",
    "# Accessing elements of a tuple\n",
    "print(my_tuple[0])  # Output: 1\n",
    "print(my_tuple[-1])  # Output: 5\n",
    "\n",
    "# Slicing a tuple\n",
    "print(my_tuple[1:3])  # Output: (2, 3)\n",
    "\n",
    "# Concatenating tuples\n",
    "my_tuple2 = (6, 7, 8)\n",
    "concatenated_tuple = my_tuple + my_tuple2\n",
    "print(concatenated_tuple)  # Output: (1, 2, 3, 4, 5, 6, 7, 8)\n",
    "\n",
    "# Repeating a tuple\n",
    "repeated_tuple = my_tuple * 2\n",
    "print(repeated_tuple)  # Output: (1, 2, 3, 4, 5, 1, 2, 3, 4, 5)\n",
    "\n",
    "# Converting a tuple to a list\n",
    "my_list = list(my_tuple)\n",
    "print(my_list)  # Output: [1, 2, 3, 4, 5]\n",
    "\n",
    "# Checking if an element is in a tuple\n",
    "if 5 in my_tuple:\n",
    "    print(\"5 is in the tuple\")\n",
    "    \n",
    "# Getting the length of a tuple\n",
    "print(len(my_tuple))  # Output: 5"
   ]
  },
  {
   "cell_type": "markdown",
   "metadata": {},
   "source": [
    "You can merge two dictionaries in Python using the `update()` method. Here's an example:\n",
    "\n"
   ]
  },
  {
   "cell_type": "code",
   "execution_count": 2,
   "metadata": {},
   "outputs": [
    {
     "name": "stdout",
     "output_type": "stream",
     "text": [
      "{'name': 'Alice', 'age': 30, 'city': 'New York', 'country': 'USA'}\n",
      "{'name': 'Alice', 'age': 30, 'city': 'New York', 'country': 'USA'}\n"
     ]
    }
   ],
   "source": [
    "dict1 = {\"name\": \"Alice\", \"age\": 30}\n",
    "dict2 = {\"city\": \"New York\", \"country\": \"USA\"}\n",
    "\n",
    "dict1.update(dict2)\n",
    "print(dict1)  # Output: {\"name\": \"Alice\", \"age\": 30, \"city\": \"New York\", \"country\": \"USA\"}\n",
    "\n",
    "# Or\n",
    "\n",
    "print({**dict1, **dict2})\n"
   ]
  },
  {
   "cell_type": "markdown",
   "metadata": {},
   "source": [
    "\n",
    "\n",
    "### Sets\n",
    "Sets are unordered, mutable collections of unique objects. They are defined using curly braces `{}` or the `set()` function.\n",
    "\n"
   ]
  },
  {
   "cell_type": "code",
   "execution_count": null,
   "metadata": {},
   "outputs": [],
   "source": [
    "# Define a set of integers\n",
    "my_set = {1, 2, 3, 4, 5}\n",
    "\n",
    "# Define a set of strings\n",
    "fruits = {\"apple\", \"banana\", \"cherry\", \"date\"}\n",
    "\n",
    "# Add an element to the set\n",
    "fruits.add(\"elderberry\")\n",
    "\n",
    "# Remove an element from the set\n",
    "fruits.remove(\"cherry\")"
   ]
  },
  {
   "cell_type": "markdown",
   "metadata": {},
   "source": [
    "To install a package using pip, you can use the following command in your terminal or command prompt:\n",
    "\n"
   ]
  },
  {
   "cell_type": "code",
   "execution_count": null,
   "metadata": {},
   "outputs": [],
   "source": [
    "pip install package_name"
   ]
  },
  {
   "cell_type": "markdown",
   "metadata": {},
   "source": [
    "\n",
    "\n",
    "Replace `package_name` with the name of the package you want to install. For example, to install the `numpy` package, you would run:\n",
    "\n"
   ]
  },
  {
   "cell_type": "code",
   "execution_count": null,
   "metadata": {},
   "outputs": [],
   "source": [
    "pip install numpy"
   ]
  },
  {
   "cell_type": "markdown",
   "metadata": {},
   "source": [
    "# Set in Python"
   ]
  },
  {
   "cell_type": "code",
   "execution_count": 2,
   "metadata": {},
   "outputs": [
    {
     "name": "stdout",
     "output_type": "stream",
     "text": [
      "Union of set1 and set2: {1, 2, 3, 4, 5, 6, 7, 8}\n",
      "Intersection of set1 and set2: {4, 5}\n",
      "Difference of set1 and set2: {1, 2, 3}\n",
      "Symmetric difference of set1 and set2: {1, 2, 3, 6, 7, 8}\n",
      "Is set1 a subset of set2? False\n",
      "Is set1 a superset of set2? False\n"
     ]
    }
   ],
   "source": [
    "# Let's take an example to understand\n",
    "set1 = {1, 2, 3, 4, 5}\n",
    "set2 = {4, 5, 6, 7, 8}\n",
    "\n",
    "# Union of two sets\n",
    "union_set = set1.union(set2)\n",
    "print(\"Union of set1 and set2:\", union_set)\n",
    "\n",
    "# Intersection of two sets\n",
    "intersection_set = set1.intersection(set2)\n",
    "print(\"Intersection of set1 and set2:\", intersection_set)\n",
    "\n",
    "# Difference of two sets\n",
    "difference_set = set1.difference(set2)\n",
    "print(\"Difference of set1 and set2:\", difference_set)\n",
    "\n",
    "# Symmetric difference of two sets\n",
    "symmetric_difference_set = set1.symmetric_difference(set2)\n",
    "print(\"Symmetric difference of set1 and set2:\", symmetric_difference_set)\n",
    "\n",
    "# Subset check\n",
    "subset_check = set1.issubset(set2)\n",
    "print(\"Is set1 a subset of set2?\", subset_check)\n",
    "\n",
    "# Superset check\n",
    "superset_check = set1.issuperset(set2)\n",
    "print(\"Is set1 a superset of set2?\", superset_check)"
   ]
  },
  {
   "cell_type": "markdown",
   "metadata": {},
   "source": [
    "# Dictionary"
   ]
  },
  {
   "cell_type": "markdown",
   "metadata": {},
   "source": [
    "A dictionary is a collection of key-value pairs. Each key is associated with a value, and you can use the key to look up the value. Dictionaries are similar to lists, but instead of using an index to access a value, you use a key.\n",
    "\n",
    "Here's an example of a dictionary:"
   ]
  },
  {
   "cell_type": "code",
   "execution_count": null,
   "metadata": {},
   "outputs": [],
   "source": [
    "person = {\"name\": \"Alice\", \"age\": 30, \"city\": \"New York\"}"
   ]
  },
  {
   "cell_type": "markdown",
   "metadata": {},
   "source": [
    "\n",
    "\n",
    "In this dictionary, the keys are \"name\", \"age\", and \"city\", and the values are \"Alice\", 30, and \"New York\", respectively.\n",
    "\n",
    "Creating Dictionaries\n",
    "\n",
    "You can create a dictionary in Python by enclosing a comma-separated list of key-value pairs in curly braces `{}`. Here's an example:\n",
    "\n"
   ]
  },
  {
   "cell_type": "code",
   "execution_count": null,
   "metadata": {},
   "outputs": [],
   "source": [
    "person = {\"name\": \"Alice\", \"age\": 30, \"city\": \"New York\"}"
   ]
  },
  {
   "cell_type": "markdown",
   "metadata": {},
   "source": [
    "\n",
    "\n",
    "You can also create an empty dictionary and add key-value pairs later:\n",
    "\n"
   ]
  },
  {
   "cell_type": "code",
   "execution_count": null,
   "metadata": {},
   "outputs": [],
   "source": [
    "person = {}\n",
    "person[\"name\"] = \"Alice\"\n",
    "person[\"age\"] = 30\n",
    "person[\"city\"] = \"New York\""
   ]
  },
  {
   "cell_type": "markdown",
   "metadata": {},
   "source": [
    "\n",
    "\n",
    "You can also create a dictionary from two lists using the `zip()` function:\n",
    "\n"
   ]
  },
  {
   "cell_type": "code",
   "execution_count": null,
   "metadata": {},
   "outputs": [],
   "source": [
    "keys = [\"name\", \"age\", \"city\"]\n",
    "values = [\"Alice\", 30, \"New York\"]\n",
    "person = dict(zip(keys, values))"
   ]
  },
  {
   "cell_type": "markdown",
   "metadata": {},
   "source": [
    "\n",
    "\n",
    "## Accessing Dictionary Values\n",
    "\n",
    "You can access the value associated with a key in a dictionary using square brackets `[]`. Here's an example:\n",
    "\n"
   ]
  },
  {
   "cell_type": "code",
   "execution_count": null,
   "metadata": {},
   "outputs": [],
   "source": [
    "person = {\"name\": \"Alice\", \"age\": 30, \"city\": \"New York\"}\n",
    "print(person[\"name\"])  # Output: Alice"
   ]
  },
  {
   "cell_type": "markdown",
   "metadata": {},
   "source": [
    "\n",
    "\n",
    "If the key doesn't exist in the dictionary, you'll get a `KeyError`. To avoid this, you can use the `get()` method, which returns `None` if the key doesn't exist:\n",
    "\n"
   ]
  },
  {
   "cell_type": "code",
   "execution_count": null,
   "metadata": {},
   "outputs": [],
   "source": [
    "person = {\"name\": \"Alice\", \"age\": 30, \"city\": \"New York\"}\n",
    "print(person.get(\"name\"))  # Output: Alice\n",
    "print(person.get(\"gender\"))  # Output: None"
   ]
  },
  {
   "cell_type": "markdown",
   "metadata": {},
   "source": [
    "\n",
    "\n",
    "You can also specify a default value to return if the key doesn't exist:\n",
    "\n"
   ]
  },
  {
   "cell_type": "code",
   "execution_count": null,
   "metadata": {},
   "outputs": [],
   "source": [
    "person = {\"name\": \"Alice\", \"age\": 30, \"city\": \"New York\"}\n",
    "print(person.get(\"gender\", \"Unknown\"))  # Output: Unknown"
   ]
  },
  {
   "cell_type": "markdown",
   "metadata": {},
   "source": [
    "\n",
    "\n",
    "## Modifying Dictionary Values\n",
    "\n",
    "You can change the value associated with a key in a dictionary by assigning a new value to the key:\n",
    "\n"
   ]
  },
  {
   "cell_type": "code",
   "execution_count": null,
   "metadata": {},
   "outputs": [],
   "source": [
    "person = {\"name\": \"Alice\", \"age\": 30, \"city\": \"New York\"}\n",
    "person[\"age\"] = 31\n",
    "print(person)  # Output: {\"name\": \"Alice\", \"age\": 31, \"city\": \"New York\"}"
   ]
  },
  {
   "cell_type": "markdown",
   "metadata": {},
   "source": [
    "\n",
    "\n",
    "You can add a new key-value pair to a dictionary by assigning a value to a new key:\n",
    "\n"
   ]
  },
  {
   "cell_type": "code",
   "execution_count": null,
   "metadata": {},
   "outputs": [],
   "source": [
    "person = {\"name\": \"Alice\", \"age\": 30, \"city\": \"New York\"}\n",
    "person[\"gender\"] = \"Female\"\n",
    "print(person)  # Output: {\"name\": \"Alice\", \"age\": 30, \"city\": \"New York\", \"gender\": \"Female\"}"
   ]
  },
  {
   "cell_type": "markdown",
   "metadata": {},
   "source": [
    "\n",
    "\n",
    "You can remove a key-value pair from a dictionary using the `del` statement:\n",
    "\n"
   ]
  },
  {
   "cell_type": "code",
   "execution_count": null,
   "metadata": {},
   "outputs": [],
   "source": [
    "person = {\"name\": \"Alice\", \"age\": 30, \"city\": \"New York\"}\n",
    "del person[\"city\"]\n",
    "print(person)  # Output: {\"name\": \"Alice\", \"age\": 30}"
   ]
  },
  {
   "cell_type": "markdown",
   "metadata": {},
   "source": [
    "\n",
    "\n",
    "## Looping Through Dictionaries\n",
    "\n",
    "You can loop through the keys in a dictionary using a `for` loop:\n",
    "\n"
   ]
  },
  {
   "cell_type": "code",
   "execution_count": null,
   "metadata": {},
   "outputs": [],
   "source": [
    "person = {\"name\": \"Alice\", \"age\": 30, \"city\": \"New York\"}\n",
    "for key in person:\n",
    "    print(key)"
   ]
  },
  {
   "cell_type": "markdown",
   "metadata": {},
   "source": [
    "\n",
    "\n",
    "This will output:\n",
    "\n"
   ]
  },
  {
   "cell_type": "code",
   "execution_count": null,
   "metadata": {
    "vscode": {
     "languageId": ""
    }
   },
   "outputs": [],
   "source": [
    "name\n",
    "age\n",
    "city"
   ]
  },
  {
   "cell_type": "markdown",
   "metadata": {},
   "source": [
    "\n",
    "\n",
    "You can loop through the values in a dictionary using the `values()` method:\n",
    "\n"
   ]
  },
  {
   "cell_type": "code",
   "execution_count": null,
   "metadata": {},
   "outputs": [],
   "source": [
    "person = {\"name\": \"Alice\", \"age\": 30, \"city\": \"New York\"}\n",
    "for value in person.values():\n",
    "    print(value)"
   ]
  },
  {
   "cell_type": "markdown",
   "metadata": {},
   "source": [
    "\n",
    "\n",
    "This will output:\n",
    "\n"
   ]
  },
  {
   "cell_type": "code",
   "execution_count": null,
   "metadata": {
    "vscode": {
     "languageId": ""
    }
   },
   "outputs": [],
   "source": [
    "Alice\n",
    "30\n",
    "New York"
   ]
  },
  {
   "cell_type": "markdown",
   "metadata": {},
   "source": [
    "\n",
    "\n",
    "You can loop through the key-value pairs in a dictionary using the `items()` method:\n",
    "\n"
   ]
  },
  {
   "cell_type": "code",
   "execution_count": null,
   "metadata": {},
   "outputs": [],
   "source": [
    "person = {\"name\": \"Alice\", \"age\": 30, \"city\": \"New York\"}\n",
    "for key, value in person.items():\n",
    "    print(key, value)"
   ]
  },
  {
   "cell_type": "markdown",
   "metadata": {},
   "source": [
    "\n",
    "\n",
    "This will output:\n",
    "\n"
   ]
  },
  {
   "cell_type": "code",
   "execution_count": null,
   "metadata": {
    "vscode": {
     "languageId": ""
    }
   },
   "outputs": [],
   "source": [
    "name Alice\n",
    "age 30\n",
    "city New York"
   ]
  },
  {
   "cell_type": "markdown",
   "metadata": {},
   "source": [
    "\n",
    "\n",
    "## Dictionary Methods\n",
    "\n",
    "Dictionaries have several useful methods that you can use to manipulate them.\n",
    "\n",
    "The `keys()` method returns a list of all the keys in a dictionary:\n",
    "\n"
   ]
  },
  {
   "cell_type": "code",
   "execution_count": null,
   "metadata": {},
   "outputs": [],
   "source": [
    "person = {\"name\": \"Alice\", \"age\": 30, \"city\": \"New York\"}\n",
    "print(person.keys())  # Output: dict_keys(['name', 'age', 'city'])"
   ]
  },
  {
   "cell_type": "markdown",
   "metadata": {},
   "source": [
    "\n",
    "\n",
    "The `values()` method returns a list of all the values in a dictionary:\n",
    "\n"
   ]
  },
  {
   "cell_type": "code",
   "execution_count": null,
   "metadata": {},
   "outputs": [],
   "source": [
    "person = {\"name\": \"Alice\", \"age\": 30, \"city\": \"New York\"}\n",
    "print(person.values())  # Output: dict_values(['Alice', 30, 'New York'])"
   ]
  },
  {
   "cell_type": "markdown",
   "metadata": {},
   "source": [
    "\n",
    "\n",
    "The `items()` method returns a list of all the key-value pairs in a dictionary:\n",
    "\n"
   ]
  },
  {
   "cell_type": "code",
   "execution_count": null,
   "metadata": {},
   "outputs": [],
   "source": [
    "person = {\"name\": \"Alice\", \"age\": 30, \"city\": \"New York\"}\n",
    "print(person.items())  # Output: dict_items([('name', 'Alice'), ('age', 30), ('city', 'New York')])"
   ]
  },
  {
   "cell_type": "markdown",
   "metadata": {},
   "source": [
    "\n",
    "\n",
    "The `update()` method updates a dictionary with the key-value pairs from another dictionary:\n",
    "\n"
   ]
  },
  {
   "cell_type": "code",
   "execution_count": null,
   "metadata": {},
   "outputs": [],
   "source": [
    "person = {\"name\": \"Alice\", \"age\": 30, \"city\": \"New York\"}\n",
    "person2 = {\"gender\": \"Female\", \"country\": \"USA\"}\n",
    "person.update(person2)\n",
    "print(person)  # Output: {\"name\": \"Alice\", \"age\": 30, \"city\": \"New York\", \"gender\": \"Female\", \"country\": \"USA\"}"
   ]
  },
  {
   "cell_type": "markdown",
   "metadata": {},
   "source": [
    "\n",
    "\n",
    "The `pop()` method removes a key-value pair from a dictionary and returns the value:\n",
    "\n"
   ]
  },
  {
   "cell_type": "code",
   "execution_count": null,
   "metadata": {},
   "outputs": [],
   "source": [
    "person = {\"name\": \"Alice\", \"age\": 30, \"city\": \"New York\"}\n",
    "age = person.pop(\"age\")\n",
    "print(age)  # Output: 30\n",
    "print(person)  # Output: {\"name\": \"Alice\", \"city\": \"New York\"}"
   ]
  },
  {
   "cell_type": "markdown",
   "metadata": {},
   "source": [
    "\n",
    "\n",
    "The `clear()` method removes all key-value pairs from a dictionary:\n",
    "\n"
   ]
  },
  {
   "cell_type": "code",
   "execution_count": null,
   "metadata": {},
   "outputs": [],
   "source": [
    "person = {\"name\": \"Alice\", \"age\": 30, \"city\": \"New York\"}\n",
    "person.clear()\n",
    "print(person)  # Output: {}"
   ]
  },
  {
   "cell_type": "markdown",
   "metadata": {},
   "source": [
    "\n",
    "\n",
    "## Dictionary Comprehension\n",
    "\n",
    "You can use a dictionary comprehension to create a new dictionary from an existing dictionary. Here's an example:\n",
    "\n"
   ]
  },
  {
   "cell_type": "code",
   "execution_count": null,
   "metadata": {},
   "outputs": [],
   "source": [
    "person = {\"name\": \"Alice\", \"age\": 30, \"city\": \"New York\"}\n",
    "person2 = {key.upper(): value for key, value in person.items()}\n",
    "print(person2)  # Output: {\"NAME\": \"Alice\", \"AGE\": 30, \"CITY\": \"New York\"}"
   ]
  },
  {
   "cell_type": "markdown",
   "metadata": {},
   "source": [
    "\n",
    "\n",
    "You can also use a dictionary comprehension to filter a dictionary. Here's an example:\n",
    "\n"
   ]
  },
  {
   "cell_type": "code",
   "execution_count": null,
   "metadata": {},
   "outputs": [],
   "source": [
    "person = {\"name\": \"Alice\", \"age\": 30, \"city\": \"New York\"}\n",
    "person2 = {key: value for key, value in person.items() if key != \"age\"}\n",
    "print(person2)  # Output: {\"name\": \"Alice\", \"city\": \"New York\"}"
   ]
  },
  {
   "cell_type": "markdown",
   "metadata": {},
   "source": [
    "\n",
    "\n",
    "## Conclusion\n",
    "\n",
    "Dictionaries are a powerful data structure in Python that allow you to store and manipulate key-value pairs. They are useful for a wide variety of tasks, from data processing to web development. With the knowledge you've gained in this tutorial, you should be able to use dictionaries effectively in your own Python programs."
   ]
  },
  {
   "cell_type": "markdown",
   "metadata": {},
   "source": [
    "# Important Boolean Operator"
   ]
  },
  {
   "cell_type": "code",
   "execution_count": 4,
   "metadata": {},
   "outputs": [
    {
     "name": "stdout",
     "output_type": "stream",
     "text": [
      "True\n",
      "True\n",
      "False\n"
     ]
    }
   ],
   "source": [
    "# AND operator\n",
    "x = 5\n",
    "y = 10\n",
    "z = 15\n",
    "print(x < y and y < z)\n",
    "\n",
    "# OR operator\n",
    "x = 5\n",
    "y = 10\n",
    "z = 15\n",
    "print(x > y or y < z)\n",
    "\n",
    "# NOT operator\n",
    "x = True\n",
    "print(not x)"
   ]
  },
  {
   "cell_type": "markdown",
   "metadata": {},
   "source": [
    "<h1 align='center'> Array</h1>\n",
    "\n",
    "*  NumPy’s array class is called `ndarray`. It is also known by the alias `array`. Note that `numpy.array` is not the same as the Standard Python Library class `array.array`, which only handles one-dimensional arrays and offers less functionality. The more important attributes of an `ndarray` object are:\n",
    "    - `ndarray.ndim:` The number of axes(dimensions) of the array.\n",
    "    - `ndarray.shape:` The dimension of array.For a matrix with x rows and y columns, shape will be (x,y).\n",
    "    - `ndarray.size:` The total number of elements of the array or It is equal to the product of the elements of the `shape`.\n",
    "    - `ndarray.dtype:` The type of the elements in the array. Additionally NumPy provides types of its own like- numpy.int32, numpy.int16, and numpy.float64.\n",
    "    - `ndarray.itemsize:` The size in bytes of each element of the array. \n",
    "    - `ndarray.data:` The buffer containing the actual elements of the array. "
   ]
  },
  {
   "cell_type": "markdown",
   "metadata": {},
   "source": [
    "## Creating a NumPy array"
   ]
  },
  {
   "cell_type": "code",
   "execution_count": 6,
   "metadata": {},
   "outputs": [],
   "source": [
    "# ! pip install numpy\n",
    "import numpy as np"
   ]
  },
  {
   "cell_type": "markdown",
   "metadata": {},
   "source": [
    "<font color='cadetblue' size='4'>Basic ndarray</font>\n"
   ]
  },
  {
   "cell_type": "code",
   "execution_count": 7,
   "metadata": {},
   "outputs": [
    {
     "data": {
      "text/plain": [
       "array([1, 2, 3, 4])"
      ]
     },
     "execution_count": 7,
     "metadata": {},
     "output_type": "execute_result"
    }
   ],
   "source": [
    "np.array([1,2,3,4])"
   ]
  },
  {
   "cell_type": "code",
   "execution_count": 14,
   "metadata": {},
   "outputs": [
    {
     "name": "stdout",
     "output_type": "stream",
     "text": [
      "[1. 2. 3. 4.]\n",
      "[[1 2 3 4]\n",
      " [5 6 7 8]]\n"
     ]
    }
   ],
   "source": [
    "# We can specify the type of data inside the array:\n",
    "print(np.array([1,2,3,4],dtype=np.float32))\n",
    "# a multi dimension array\n",
    "print(np.array([[1,2,3,4],[5,6,7,8]]))\n"
   ]
  },
  {
   "cell_type": "code",
   "execution_count": 15,
   "metadata": {},
   "outputs": [
    {
     "name": "stdout",
     "output_type": "stream",
     "text": [
      "[0. 0. 0. 0. 0.]\n"
     ]
    }
   ],
   "source": [
    "# array of zeros\n",
    "print(np.zeros(5))"
   ]
  },
  {
   "cell_type": "code",
   "execution_count": 12,
   "metadata": {},
   "outputs": [
    {
     "data": {
      "text/plain": [
       "array([[0., 0., 0., 0.],\n",
       "       [0., 0., 0., 0.],\n",
       "       [0., 0., 0., 0.]])"
      ]
     },
     "execution_count": 12,
     "metadata": {},
     "output_type": "execute_result"
    }
   ],
   "source": [
    "np.zeros((3,4))"
   ]
  },
  {
   "cell_type": "markdown",
   "metadata": {},
   "source": [
    "<font color='cadetblue' size='4'>Array of Ones</font>\n"
   ]
  },
  {
   "cell_type": "code",
   "execution_count": 13,
   "metadata": {},
   "outputs": [
    {
     "data": {
      "text/plain": [
       "array([1, 1, 1, 1, 1])"
      ]
     },
     "execution_count": 13,
     "metadata": {},
     "output_type": "execute_result"
    }
   ],
   "source": [
    "np.ones(5,dtype=np.int32)"
   ]
  },
  {
   "cell_type": "markdown",
   "metadata": {},
   "source": [
    "<font color='cadetblue' size='4'>Random number in array</font>"
   ]
  },
  {
   "cell_type": "code",
   "execution_count": 16,
   "metadata": {},
   "outputs": [
    {
     "data": {
      "text/plain": [
       "array([[0.04186302, 0.52639282, 0.62252789],\n",
       "       [0.88094792, 0.65364788, 0.66506996]])"
      ]
     },
     "execution_count": 16,
     "metadata": {},
     "output_type": "execute_result"
    }
   ],
   "source": [
    "# random \n",
    "np.random.rand(2,3)"
   ]
  },
  {
   "cell_type": "code",
   "execution_count": 17,
   "metadata": {},
   "outputs": [
    {
     "data": {
      "text/plain": [
       "array([[5, 5, 5],\n",
       "       [5, 5, 5]])"
      ]
     },
     "execution_count": 17,
     "metadata": {},
     "output_type": "execute_result"
    }
   ],
   "source": [
    "# An array of the choice\n",
    "np.full((2,3),5)"
   ]
  },
  {
   "cell_type": "markdown",
   "metadata": {},
   "source": [
    "<font color='cadetblue' size='4'>Evenly spaced ndarray</font>"
   ]
  },
  {
   "cell_type": "code",
   "execution_count": 18,
   "metadata": {},
   "outputs": [
    {
     "data": {
      "text/plain": [
       "array([[0, 1, 2, 3, 4],\n",
       "       [5, 6, 7, 8, 9]])"
      ]
     },
     "execution_count": 18,
     "metadata": {},
     "output_type": "execute_result"
    }
   ],
   "source": [
    "np.arange(10).reshape(2,5)"
   ]
  },
  {
   "cell_type": "markdown",
   "metadata": {},
   "source": [
    "**Another similar function is `np.linspace()`, but instead of step size, it takes in the number of samples that need to be retrieved from the interval. A point to note here is that the last number is included in the values returned unlike in the case of `np.arange()`.**"
   ]
  },
  {
   "cell_type": "code",
   "execution_count": 19,
   "metadata": {},
   "outputs": [
    {
     "data": {
      "text/plain": [
       "array([0. , 0.1, 0.2, 0.3, 0.4, 0.5, 0.6, 0.7, 0.8, 0.9, 1. ])"
      ]
     },
     "execution_count": 19,
     "metadata": {},
     "output_type": "execute_result"
    }
   ],
   "source": [
    "np.linspace(0,1,11)"
   ]
  },
  {
   "cell_type": "code",
   "execution_count": 20,
   "metadata": {},
   "outputs": [
    {
     "data": {
      "text/plain": [
       "array([[1., 0., 0.],\n",
       "       [0., 1., 0.],\n",
       "       [0., 0., 1.]])"
      ]
     },
     "execution_count": 20,
     "metadata": {},
     "output_type": "execute_result"
    }
   ],
   "source": [
    "# generates unity matrix\n",
    "np.eye(3)"
   ]
  },
  {
   "cell_type": "markdown",
   "metadata": {},
   "source": [
    "<h1 align='center'>The Shape and Reshaping of NumPy Arrays</h1>"
   ]
  },
  {
   "cell_type": "code",
   "execution_count": 26,
   "metadata": {},
   "outputs": [
    {
     "name": "stdout",
     "output_type": "stream",
     "text": [
      "Array: \n",
      " [[ 5 10 15]\n",
      " [20 25 20]]\n",
      "Dimension of the array: \n",
      " 2\n"
     ]
    }
   ],
   "source": [
    "a = np.array([[5,10,15],[20,25,20]])\n",
    "print('Array:','\\n',a)\n",
    "print('Dimension of the array:','\\n',a.ndim)"
   ]
  },
  {
   "cell_type": "code",
   "execution_count": 27,
   "metadata": {},
   "outputs": [
    {
     "name": "stdout",
     "output_type": "stream",
     "text": [
      "Array: \n",
      " [[0 1 2]\n",
      " [3 4 5]]\n",
      "Shape of the array: \n",
      " (2, 3)\n",
      "Number of rows =  2\n",
      "Number of columns =  3\n",
      "Size of array : 6\n",
      "Manual determination of size of array : 6\n"
     ]
    }
   ],
   "source": [
    "a = np.arange(6).reshape(2,3)\n",
    "print('Array:','\\n',a)\n",
    "print('Shape of the array:','\\n',a.shape)\n",
    "print('Number of rows = ',a.shape[0])\n",
    "print('Number of columns = ',a.shape[1])\n",
    "print('Size of array :',a.size)\n",
    "print('Manual determination of size of array :',a.shape[0]*a.shape[1])"
   ]
  },
  {
   "cell_type": "markdown",
   "metadata": {},
   "source": [
    "<font color='cadetblue' size='4'>Reshaping a NumPy array</font>"
   ]
  },
  {
   "cell_type": "code",
   "execution_count": 28,
   "metadata": {},
   "outputs": [
    {
     "data": {
      "text/plain": [
       "array([[ 3,  6],\n",
       "       [ 9, 12]])"
      ]
     },
     "execution_count": 28,
     "metadata": {},
     "output_type": "execute_result"
    }
   ],
   "source": [
    "# reshape\n",
    "a = np.array([3,6,9,12])\n",
    "np.reshape(a,(2,2))"
   ]
  },
  {
   "cell_type": "code",
   "execution_count": 29,
   "metadata": {},
   "outputs": [
    {
     "name": "stdout",
     "output_type": "stream",
     "text": [
      "Three rows : \n",
      " [[ 3  6]\n",
      " [ 9 12]\n",
      " [18 24]]\n",
      "Three columns : \n",
      " [[ 3  6  9]\n",
      " [12 18 24]]\n"
     ]
    }
   ],
   "source": [
    "# -1 makes whatever rows/column possible \n",
    "a = np.array([3,6,9,12,18,24])\n",
    "print('Three rows :','\\n',np.reshape(a,(3,-1)))\n",
    "print('Three columns :','\\n',np.reshape(a,(-1,3)))"
   ]
  },
  {
   "cell_type": "markdown",
   "metadata": {},
   "source": [
    "<font color='cadetblue' size='4'>Flattening a NumPy array</font>"
   ]
  },
  {
   "cell_type": "code",
   "execution_count": null,
   "metadata": {},
   "outputs": [],
   "source": [
    "a = np.ones((2,2))\n",
    "b = a.flatten()\n",
    "c = a.ravel()\n",
    "print('Original shape :', a.shape)\n",
    "print('Array :','\\n', a)\n",
    "print('Shape after flatten :',b.shape)\n",
    "print('Array :','\\n', b)\n",
    "print('Shape after ravel :',c.shape)\n",
    "print('Array :','\\n', c)"
   ]
  },
  {
   "cell_type": "code",
   "execution_count": null,
   "metadata": {},
   "outputs": [],
   "source": [
    "b[0] = 0\n",
    "print(a)"
   ]
  },
  {
   "cell_type": "markdown",
   "metadata": {},
   "source": [
    "**In this case, the change made was not reflected in the original array.**"
   ]
  },
  {
   "cell_type": "code",
   "execution_count": null,
   "metadata": {},
   "outputs": [],
   "source": [
    "c[0] = 0\n",
    "print(a)"
   ]
  },
  {
   "cell_type": "markdown",
   "metadata": {},
   "source": [
    "**But here, the changed value is also reflected in the original ndarray.**"
   ]
  },
  {
   "cell_type": "markdown",
   "metadata": {},
   "source": [
    "What is happening here is that `flatten()` creates a ***Deep copy*** of the ndarray while `ravel()` creates a ***Shallow copy*** of the ndarray.\n",
    "\n",
    "> Deep copy means that a completely new ndarray is created in memory and the ndarray object returned by flatten() is now pointing to this memory location. Therefore, any changes made here will not be reflected in the original ndarray.\n",
    "\n",
    "> A Shallow copy, on the other hand, returns a reference to the original memory location. Meaning the object returned by ravel() is pointing to the same memory location as the original ndarray object. So, definitely, any changes made to this ndarray will also be reflected in the original ndarray too."
   ]
  },
  {
   "cell_type": "markdown",
   "metadata": {},
   "source": [
    "<h1 align='center'>Maths with NumPy arrays<h1>"
   ]
  },
  {
   "cell_type": "code",
   "execution_count": null,
   "metadata": {},
   "outputs": [],
   "source": [
    "data = np.array([1,2])\n",
    "ones = np.ones(2, dtype=int)"
   ]
  },
  {
   "cell_type": "code",
   "execution_count": null,
   "metadata": {},
   "outputs": [],
   "source": [
    "#Addition\n",
    "add = data+ones\n",
    "print('Addition of two array','\\n',add)"
   ]
  },
  {
   "cell_type": "markdown",
   "metadata": {},
   "source": [
    "![](https://raw.githubusercontent.com/divyanshugit/Insights-of-Python-Libraries/master/src/img_8.png)"
   ]
  },
  {
   "cell_type": "code",
   "execution_count": null,
   "metadata": {},
   "outputs": [],
   "source": [
    "#Subtraction:\n",
    "sub = data - ones\n",
    "print('Subraction of two array:','\\n',sub)\n",
    "\n",
    "#Multiplication:\n",
    "multi = data*data\n",
    "print('Multiplication of two array','\\n',multi)\n",
    "\n",
    "#Division:\n",
    "div = data/data\n",
    "print('Division by a constant','\\n',div)"
   ]
  },
  {
   "cell_type": "markdown",
   "metadata": {},
   "source": [
    "<font color='cadetblue' size='4'>Mean, Median and Standard deviation</font>"
   ]
  },
  {
   "cell_type": "code",
   "execution_count": null,
   "metadata": {},
   "outputs": [],
   "source": [
    "a = np.arange(5,15,2)\n",
    "print('Mean :',np.mean(a))\n",
    "print('Standard deviation :',np.std(a))\n",
    "print('Median :',np.median(a))"
   ]
  },
  {
   "cell_type": "markdown",
   "metadata": {},
   "source": [
    "<font color='cadetblue' size='4'>Min-Max values and their indexes</font>"
   ]
  },
  {
   "cell_type": "code",
   "execution_count": null,
   "metadata": {},
   "outputs": [],
   "source": [
    "a = np.array([[1,6], [4,3]])\n",
    "# minimum along a column\n",
    "print('Min :',np.min(a,axis=0))\n",
    "# maximum along a row\n",
    "print('Max :',np.max(a,axis=1))"
   ]
  },
  {
   "cell_type": "code",
   "execution_count": null,
   "metadata": {},
   "outputs": [],
   "source": [
    "a = np.array([[1,6,5],\n",
    "[4,3,7]])\n",
    "# minimum along a column\n",
    "print('Min :',np.argmin(a,axis=0))\n",
    "# maximum along a row\n",
    "print('Max :',np.argmax(a,axis=1))"
   ]
  },
  {
   "cell_type": "markdown",
   "metadata": {},
   "source": [
    "<h1 align='center'>Sorting in NumPy arrays</h1>"
   ]
  },
  {
   "cell_type": "code",
   "execution_count": null,
   "metadata": {},
   "outputs": [],
   "source": [
    "a = np.array([1,4,2,5,3,6,8,7,9])\n",
    "print('Sorted array:','\\n',np.sort(a, kind='quicksort'))\n",
    "\n",
    "b = np.array([[5,6,7,4],\n",
    "              [9,2,3,7]])# sort along the column\n",
    "print('Sort along column :','\\n',np.sort(b, kind='mergresort',axis=1))\n",
    "# sort along the row\n",
    "print('Sort along row :','\\n',np.sort(b, kind='mergresort',axis=0))"
   ]
  },
  {
   "cell_type": "markdown",
   "metadata": {},
   "source": [
    "<h1 align='center'>Indexing and Slicing of NumPy array</h1>"
   ]
  },
  {
   "cell_type": "markdown",
   "metadata": {},
   "source": [
    "<font color='cadetblue' size='4'>Slicing 1-D NumPy arrays</font>"
   ]
  },
  {
   "cell_type": "code",
   "execution_count": null,
   "metadata": {},
   "outputs": [],
   "source": [
    "a = np.array([1,2,3,4,5,6])\n",
    "print(a[1:5])"
   ]
  },
  {
   "cell_type": "markdown",
   "metadata": {},
   "source": [
    "![](https://raw.githubusercontent.com/divyanshugit/Insights-of-Python-Libraries/master/src/img_1.png)"
   ]
  },
  {
   "cell_type": "code",
   "execution_count": null,
   "metadata": {},
   "outputs": [],
   "source": [
    "print(a[:6:2])\n",
    "print(a[1::2])\n",
    "print(a[1:6:])"
   ]
  },
  {
   "cell_type": "markdown",
   "metadata": {},
   "source": [
    "![](https://raw.githubusercontent.com/divyanshugit/Insights-of-Python-Libraries/master/src/img_2.png)"
   ]
  },
  {
   "cell_type": "markdown",
   "metadata": {},
   "source": [
    "<font color='cadetblue' size='4'>Slicing 2-D NumPy arrays</font>"
   ]
  },
  {
   "cell_type": "code",
   "execution_count": null,
   "metadata": {},
   "outputs": [],
   "source": [
    "a = np.array([[1,2,3],[4,5,6]])\n",
    "# print first row values\n",
    "print('First row values :','\\n',a[0:1,:])\n",
    "# with step-size for columns\n",
    "print('Alternate values from first row:','\\n',a[0:1,::2])\n",
    "# \n",
    "print('Second column values :','\\n',a[:,1::2])\n",
    "print('Arbitrary values :','\\n',a[0:1,1:3])"
   ]
  },
  {
   "cell_type": "markdown",
   "metadata": {},
   "source": [
    "<font color='cadetblue' size='4'>Slicing 3-D NumPy arrays</font>\n",
    "\n",
    "**So far we haven’t seen a 3-D array. Let’s first visualize how a 3-D array looks like:**"
   ]
  },
  {
   "cell_type": "code",
   "execution_count": null,
   "metadata": {},
   "outputs": [],
   "source": [
    "a = np.array([[[1,2],[3,4],[5,6]],# first axis array\n",
    "    [[7,8],[9,10],[11,12]],# second axis array\n",
    "    [[13,14],[15,16],[17,18]]])# third axis array\n",
    "# 3-D array\n",
    "print(a)"
   ]
  },
  {
   "cell_type": "code",
   "execution_count": null,
   "metadata": {},
   "outputs": [],
   "source": [
    "print('First array, first row, first column value :','\\n',a[0,0,0])\n",
    "print('First array last column :','\\n',a[0,:,1])\n",
    "print('First two rows for second and third arrays :','\\n',a[1:,0:2,0:2])"
   ]
  },
  {
   "cell_type": "markdown",
   "metadata": {},
   "source": [
    "**If in case you wanted the values as a single dimension array, you can always use the flatten() method to do the job!**"
   ]
  },
  {
   "cell_type": "code",
   "execution_count": null,
   "metadata": {},
   "outputs": [],
   "source": [
    "print('Printing as a single array :','\\n',a[1:,0:2,0:2].flatten())"
   ]
  },
  {
   "cell_type": "code",
   "execution_count": null,
   "metadata": {},
   "outputs": [],
   "source": [
    "import numpy as np\n",
    "import matplotlib.pyplot as plt\n",
    "from scipy import misc\n",
    "import cv2\n",
    "\n",
    "# read image\n",
    "img = cv2.imread('../input/dog-images/dog.jpg')\n",
    "img"
   ]
  },
  {
   "cell_type": "code",
   "execution_count": null,
   "metadata": {},
   "outputs": [],
   "source": [
    "plt.imshow(img)\n",
    "print(img.shape)"
   ]
  },
  {
   "cell_type": "code",
   "execution_count": null,
   "metadata": {},
   "outputs": [],
   "source": [
    "# flip\n",
    "plt.imshow(np.flip(img, axis=1))"
   ]
  },
  {
   "cell_type": "code",
   "execution_count": null,
   "metadata": {},
   "outputs": [],
   "source": [
    "img_array = img / 255\n",
    "img_array.max(), img_array.min()"
   ]
  },
  {
   "cell_type": "code",
   "execution_count": null,
   "metadata": {},
   "outputs": [],
   "source": [
    "img_array.dtype"
   ]
  },
  {
   "cell_type": "code",
   "execution_count": null,
   "metadata": {},
   "outputs": [],
   "source": [
    "img_gray = img_array @ [0.2126, 0.7152, 0.0722]"
   ]
  },
  {
   "cell_type": "code",
   "execution_count": null,
   "metadata": {},
   "outputs": [],
   "source": [
    "img_gray.shape"
   ]
  },
  {
   "cell_type": "code",
   "execution_count": null,
   "metadata": {},
   "outputs": [],
   "source": [
    "plt.imshow(img_gray,  cmap=\"gray\")"
   ]
  }
 ],
 "metadata": {
  "kernelspec": {
   "display_name": "base",
   "language": "python",
   "name": "python3"
  },
  "language_info": {
   "codemirror_mode": {
    "name": "ipython",
    "version": 3
   },
   "file_extension": ".py",
   "mimetype": "text/x-python",
   "name": "python",
   "nbconvert_exporter": "python",
   "pygments_lexer": "ipython3",
   "version": "3.9.12"
  },
  "orig_nbformat": 4
 },
 "nbformat": 4,
 "nbformat_minor": 2
}

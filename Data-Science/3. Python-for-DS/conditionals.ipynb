{
 "cells": [
  {
   "cell_type": "markdown",
   "metadata": {},
   "source": [
    "<h1 align='center'>Conditionals</h1>"
   ]
  },
  {
   "cell_type": "markdown",
   "metadata": {},
   "source": [
    "In Python, `if`, `elif`, and `else` are used to create conditional statements. These statements allow you to execute different blocks of code depending on whether a certain condition is true or false.\n",
    "\n",
    "The basic syntax for an `if` statement is:\n",
    "\n"
   ]
  },
  {
   "cell_type": "code",
   "execution_count": null,
   "metadata": {},
   "outputs": [],
   "source": [
    "if condition:\n",
    "    # code to execute if condition is true"
   ]
  },
  {
   "cell_type": "markdown",
   "metadata": {},
   "source": [
    "\n",
    "\n",
    "Here, `condition` is an expression that evaluates to either `True` or `False`. If `condition` is `True`, the code block indented under the `if` statement is executed. If `condition` is `False`, the code block is skipped.\n",
    "\n",
    "You can also use `elif` (short for \"else if\") to add additional conditions to your statement. The syntax for an `if` statement with `elif` is:\n",
    "\n"
   ]
  },
  {
   "cell_type": "code",
   "execution_count": null,
   "metadata": {},
   "outputs": [],
   "source": [
    "if condition1:\n",
    "    # code to execute if condition1 is true\n",
    "elif condition2:\n",
    "    # code to execute if condition1 is false and condition2 is true\n",
    "else:\n",
    "    # code to execute if both condition1 and condition2 are false"
   ]
  },
  {
   "cell_type": "markdown",
   "metadata": {},
   "source": [
    "\n",
    "\n",
    "Here, `condition1` and `condition2` are expressions that evaluate to either `True` or `False`. If `condition1` is `True`, the code block indented under the first `if` statement is executed and the rest of the `elif` and `else` statements are skipped. If `condition1` is `False`, the `elif` statement is evaluated. If `condition2` is `True`, the code block indented under the `elif` statement is executed and the `else` statement is skipped. If both `condition1` and `condition2` are `False`, the code block indented under the `else` statement is executed.\n",
    "\n",
    "Here's an example of using `if`, `elif`, and `else`:\n",
    "\n"
   ]
  },
  {
   "cell_type": "code",
   "execution_count": null,
   "metadata": {},
   "outputs": [],
   "source": [
    "x = 5\n",
    "\n",
    "if x < 0:\n",
    "    print(\"x is negative\")\n",
    "elif x == 0:\n",
    "    print(\"x is zero\")\n",
    "else:\n",
    "    print(\"x is positive\")"
   ]
  },
  {
   "cell_type": "code",
   "execution_count": 1,
   "metadata": {},
   "outputs": [
    {
     "data": {
      "text/plain": [
       "'Greater than 2'"
      ]
     },
     "execution_count": 1,
     "metadata": {},
     "output_type": "execute_result"
    }
   ],
   "source": [
    "# Conditional Expression (or \"The Ternary Operator\")\n",
    "n = 5\n",
    "\"Greater than 2\" if n > 2 else \"Smaller than or equal to 2\""
   ]
  },
  {
   "cell_type": "code",
   "execution_count": 2,
   "metadata": {},
   "outputs": [
    {
     "data": {
      "text/plain": [
       "'Good day'"
      ]
     },
     "execution_count": 2,
     "metadata": {},
     "output_type": "execute_result"
    }
   ],
   "source": [
    "n = 5\n",
    "\"Hello\" if n > 10 else \"Goodbye\" if n > 5 else \"Good day\""
   ]
  },
  {
   "cell_type": "markdown",
   "metadata": {},
   "source": [
    "In Python, you can compare values using comparison operators. Here are the comparison operators in Python:\n",
    "\n",
    "- `==`: Equal to\n",
    "- `!=`: Not equal to\n",
    "- `<`: Less than\n",
    "- `>`: Greater than\n",
    "- `<=`: Less than or equal to\n",
    "- `>=`: Greater than or equal to\n",
    "\n",
    "Here's an example of using comparison operators:\n",
    "\n"
   ]
  },
  {
   "cell_type": "code",
   "execution_count": 1,
   "metadata": {},
   "outputs": [
    {
     "name": "stdout",
     "output_type": "stream",
     "text": [
      "x is not equal to y\n",
      "x is less than y\n",
      "x is less than or equal to y\n"
     ]
    }
   ],
   "source": [
    "x = 5\n",
    "y = 10\n",
    "\n",
    "# Equal to\n",
    "if x == y:\n",
    "    print(\"x is equal to y\")\n",
    "\n",
    "# Not equal to\n",
    "if x != y:\n",
    "    print(\"x is not equal to y\")\n",
    "\n",
    "# Less than\n",
    "if x < y:\n",
    "    print(\"x is less than y\")\n",
    "\n",
    "# Greater than\n",
    "if x > y:\n",
    "    print(\"x is greater than y\")\n",
    "\n",
    "# Less than or equal to\n",
    "if x <= y:\n",
    "    print(\"x is less than or equal to y\")\n",
    "\n",
    "# Greater than or equal to\n",
    "if x >= y:\n",
    "    print(\"x is greater than or equal to y\")"
   ]
  }
 ],
 "metadata": {
  "kernelspec": {
   "display_name": "base",
   "language": "python",
   "name": "python3"
  },
  "language_info": {
   "codemirror_mode": {
    "name": "ipython",
    "version": 3
   },
   "file_extension": ".py",
   "mimetype": "text/x-python",
   "name": "python",
   "nbconvert_exporter": "python",
   "pygments_lexer": "ipython3",
   "version": "3.9.12"
  },
  "orig_nbformat": 4
 },
 "nbformat": 4,
 "nbformat_minor": 2
}

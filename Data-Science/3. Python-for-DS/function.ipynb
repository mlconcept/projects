{
 "cells": [
  {
   "cell_type": "markdown",
   "metadata": {},
   "source": [
    "In Python, a function is a block of code that performs a specific task and can be called from other parts of the program. Functions are used to break down large programs into smaller, more manageable pieces, and to reuse code across different parts of the program. \n",
    "\n",
    "Here's an example of a simple function in Python:\n",
    "\n"
   ]
  },
  {
   "cell_type": "code",
   "execution_count": null,
   "metadata": {},
   "outputs": [],
   "source": [
    "def greet(name):\n",
    "    print(f\"Hello, {name}!\")\n",
    "\n",
    "greet(\"Alice\")  # Output: Hello, Alice!"
   ]
  },
  {
   "cell_type": "markdown",
   "metadata": {},
   "source": [
    "\n",
    "\n",
    "In this example, we define a function `greet()` that takes a parameter `name` and prints a greeting message. We then call the function with the argument `\"Alice\"`, which prints the message `\"Hello, Alice!\"`.\n",
    "\n",
    "Functions can also return values, like this:\n",
    "\n"
   ]
  },
  {
   "cell_type": "code",
   "execution_count": null,
   "metadata": {},
   "outputs": [],
   "source": [
    "def add(x, y):\n",
    "    return x + y\n",
    "\n",
    "result = add(2, 3)\n",
    "print(result)  # Output: 5"
   ]
  },
  {
   "cell_type": "markdown",
   "metadata": {},
   "source": [
    "\n",
    "\n",
    "In this example, we define a function `add()` that takes two parameters `x` and `y` and returns their sum. We then call the function with the arguments `2` and `3`, and assign the result to a variable `result`. We then print the value of `result`, which is `5`.\n",
    "\n",
    "Functions can also have default parameter values, like this:\n",
    "\n"
   ]
  },
  {
   "cell_type": "code",
   "execution_count": null,
   "metadata": {},
   "outputs": [],
   "source": [
    "def greet(name=\"World\"):\n",
    "    print(f\"Hello, {name}!\")\n",
    "\n",
    "greet()  # Output: Hello, World!\n",
    "greet(\"Alice\")  # Output: Hello, Alice!"
   ]
  },
  {
   "cell_type": "markdown",
   "metadata": {},
   "source": [
    "\n",
    "\n",
    "In this example, we define a function `add()` that takes a variable-length argument list `args` and returns their sum. We then call the function with the arguments `2`, `3`, and `4`, and assign the result to a variable `result`. We then print the value of `result`, which is `9`.\n",
    "\n",
    "Functions can also take keyword arguments, like this:\n",
    "\n"
   ]
  },
  {
   "cell_type": "code",
   "execution_count": null,
   "metadata": {},
   "outputs": [],
   "source": [
    "def greet(name, greeting=\"Hello\"):\n",
    "    print(f\"{greeting}, {name}!\")\n",
    "\n",
    "greet(\"Alice\")  # Output: Hello, Alice!\n",
    "greet(\"Alice\", \"Hi\")  # Output: Hi, Alice!"
   ]
  },
  {
   "cell_type": "markdown",
   "metadata": {},
   "source": [
    "\n",
    "\n",
    "In this example, we define a function `greet()` that takes a parameter `name` and a keyword parameter `greeting` with a default value of `\"Hello\"`. We then call the function twice, once with only the argument `\"Alice\"`, which prints the message `\"Hello, Alice!\"`, and once with both the arguments `\"Alice\"` and `\"Hi\"`, which prints the message `\"Hi, Alice!\"`.\n",
    "\n",
    "These are just a few examples of the many ways that functions can be used in Python. Functions are a powerful tool for organizing and reusing code, and are an essential part of any Python program."
   ]
  },
  {
   "cell_type": "markdown",
   "metadata": {},
   "source": [
    "In Python, `*args` and `**kwargs` are special syntax used in function definitions to pass a variable number of arguments to a function. \n",
    "\n",
    "`*args` is used to pass a variable number of non-keyword arguments to a function. Here's an example:\n",
    "\n"
   ]
  },
  {
   "cell_type": "code",
   "execution_count": null,
   "metadata": {},
   "outputs": [],
   "source": [
    "def add(*args):\n",
    "    total = 0\n",
    "    for arg in args:\n",
    "        total += arg\n",
    "    return total\n",
    "\n",
    "result = add(2, 3, 4)\n",
    "print(result)  # Output: 9"
   ]
  },
  {
   "cell_type": "markdown",
   "metadata": {},
   "source": [
    "\n",
    "\n",
    "In this example, we define a function `add()` that takes a variable number of non-keyword arguments `args` and returns their sum. We then call the function with the arguments `2`, `3`, and `4`, and assign the result to a variable `result`. We then print the value of `result`, which is `9`.\n",
    "\n",
    "`**kwargs` is used to pass a variable number of keyword arguments to a function. Here's an example:\n",
    "\n"
   ]
  },
  {
   "cell_type": "code",
   "execution_count": null,
   "metadata": {},
   "outputs": [],
   "source": [
    "def greet(**kwargs):\n",
    "    for key, value in kwargs.items():\n",
    "        print(f\"{key}: {value}\")\n",
    "\n",
    "greet(name=\"Alice\", age=30, city=\"New York\")"
   ]
  },
  {
   "cell_type": "markdown",
   "metadata": {},
   "source": [
    "\n",
    "\n",
    "In this example, we define a function `greet()` that takes a variable number of keyword arguments `kwargs` and prints them out. We then call the function with the keyword arguments `name=\"Alice\"`, `age=30`, and `city=\"New York\"`, which prints the messages `\"name: Alice\"`, `\"age: 30\"`, and `\"city: New York\"`, respectively.\n",
    "\n",
    "`*args` and `**kwargs` can also be used together in the same function definition to pass a variable number of both non-keyword and keyword arguments. Here's an example:\n",
    "\n"
   ]
  },
  {
   "cell_type": "code",
   "execution_count": null,
   "metadata": {},
   "outputs": [],
   "source": [
    "def print_args_kwargs(arg1, arg2, *args, **kwargs):\n",
    "    print(f\"arg1: {arg1}\")\n",
    "    print(f\"arg2: {arg2}\")\n",
    "    print(f\"args: {args}\")\n",
    "    print(f\"kwargs: {kwargs}\")\n",
    "\n",
    "print_args_kwargs(\"a\", \"b\", \"c\", \"d\", x=1, y=2)"
   ]
  },
  {
   "cell_type": "markdown",
   "metadata": {},
   "source": [
    "\n",
    "\n",
    "In this example, we define a function `print_args_kwargs()` that takes two required arguments `arg1` and `arg2`, a variable number of non-keyword arguments `args`, and a variable number of keyword arguments `kwargs`. We then call the function with the arguments `\"a\"`, `\"b\"`, `\"c\"`, `\"d\"`, and the keyword arguments `x=1` and `y=2`, which prints the messages `\"arg1: a\"`, `\"arg2: b\"`, `\"args: ('c', 'd')\"`, and `\"kwargs: {'x': 1, 'y': 2}\"`, respectively.\n",
    "\n",
    "In summary, `*args` and `**kwargs` are powerful tools for passing a variable number of arguments to a function in Python. They allow you to write more flexible and reusable code, and are commonly used in many Python libraries and frameworks."
   ]
  }
 ],
 "metadata": {
  "language_info": {
   "name": "python"
  },
  "orig_nbformat": 4
 },
 "nbformat": 4,
 "nbformat_minor": 2
}

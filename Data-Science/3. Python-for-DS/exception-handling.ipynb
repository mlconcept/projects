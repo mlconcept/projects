{
 "cells": [
  {
   "cell_type": "code",
   "execution_count": 5,
   "metadata": {},
   "outputs": [],
   "source": [
    "def div_fn(x,y):\n",
    "    try:\n",
    "        result = x / y\n",
    "        print(f\"{x} / {y} = {result}\")\n",
    "    except ValueError:\n",
    "        print(\"Invalid input\")\n",
    "    except ZeroDivisionError:\n",
    "        print(\"Cannot divide by zero\")"
   ]
  },
  {
   "cell_type": "markdown",
   "metadata": {},
   "source": [
    "\n",
    "\n",
    "In this example, we use a `try` block to execute some code that may raise an exception. We then use `except` blocks to catch specific exceptions and handle them. \n",
    "\n",
    "In the `try` block, we ask the user to enter two numbers and divide them. If the user enters invalid input (e.g. a non-numeric value), a `ValueError` exception will be raised. If the user enters zero as the second number, a `ZeroDivisionError` exception will be raised.\n",
    "\n",
    "In the `except` blocks, we catch these exceptions and print an appropriate error message. If a `ValueError` exception is raised, we print `\"Invalid input\"`. If a `ZeroDivisionError` exception is raised, we print `\"Cannot divide by zero\"`.\n",
    "\n",
    "Here's an example of how the program might run:\n",
    "\n"
   ]
  },
  {
   "cell_type": "code",
   "execution_count": 6,
   "metadata": {},
   "outputs": [
    {
     "name": "stdout",
     "output_type": "stream",
     "text": [
      "10 / 2 = 5.0\n"
     ]
    }
   ],
   "source": [
    "div_fn(x = 10, y = 2)"
   ]
  },
  {
   "cell_type": "markdown",
   "metadata": {},
   "source": [
    "\n",
    "\n",
    "In this case, the program runs without any errors and prints the result of the division.\n",
    "\n",
    "Here's another example:\n",
    "\n"
   ]
  },
  {
   "cell_type": "code",
   "execution_count": 7,
   "metadata": {},
   "outputs": [
    {
     "name": "stdout",
     "output_type": "stream",
     "text": [
      "Cannot divide by zero\n"
     ]
    }
   ],
   "source": [
    "div_fn(x = 10, y = 0)"
   ]
  },
  {
   "cell_type": "markdown",
   "metadata": {},
   "source": [
    "\n",
    "\n",
    "In this case, the user enters `0` as the second number, which raises a `ZeroDivisionError` exception. The program catches the exception and prints an error message.\n",
    "\n",
    "Exception handling is an important part of writing robust and reliable Python programs. By handling exceptions gracefully, you can prevent your program from crashing and provide a better user experience."
   ]
  },
  {
   "cell_type": "markdown",
   "metadata": {},
   "source": [
    "In Python, there are several types of exceptions that can be raised during program execution. Here are some examples of exception handling in Python for different types of exceptions:\n",
    "\n",
    "1. `ValueError`:\n",
    "\n"
   ]
  },
  {
   "cell_type": "code",
   "execution_count": null,
   "metadata": {},
   "outputs": [],
   "source": [
    "try:\n",
    "    x = int(input(\"Enter a number: \"))\n",
    "except ValueError:\n",
    "    print(\"Invalid input\")"
   ]
  },
  {
   "cell_type": "markdown",
   "metadata": {},
   "source": [
    "\n",
    "\n",
    "In this example, we use a `try` block to attempt to convert user input to an integer using the `int()` function. If the user enters a non-numeric value, a `ValueError` exception will be raised. We catch the exception using an `except` block and print an error message.\n",
    "\n",
    "2. `ZeroDivisionError`:\n",
    "\n"
   ]
  },
  {
   "cell_type": "code",
   "execution_count": null,
   "metadata": {},
   "outputs": [],
   "source": [
    "try:\n",
    "    x = 10\n",
    "    y = 0\n",
    "    result = x / y\n",
    "except ZeroDivisionError:\n",
    "    print(\"Cannot divide by zero\")"
   ]
  },
  {
   "cell_type": "markdown",
   "metadata": {},
   "source": [
    "\n",
    "\n",
    "In this example, we use a `try` block to attempt to divide `x` by `y`. Since `y` is `0`, a `ZeroDivisionError` exception will be raised. We catch the exception using an `except` block and print an error message.\n",
    "\n",
    "3. `TypeError`:\n",
    "\n"
   ]
  },
  {
   "cell_type": "code",
   "execution_count": null,
   "metadata": {},
   "outputs": [],
   "source": [
    "try:\n",
    "    x = \"10\"\n",
    "    y = 5\n",
    "    result = x / y\n",
    "except TypeError:\n",
    "    print(\"Unsupported operand type(s) for /: 'str' and 'int'\")"
   ]
  },
  {
   "cell_type": "markdown",
   "metadata": {},
   "source": [
    "\n",
    "\n",
    "In this example, we use a `try` block to attempt to divide a string `x` by an integer `y`. Since this operation is not supported, a `TypeError` exception will be raised. We catch the exception using an `except` block and print an error message.\n",
    "\n",
    "4. `FileNotFoundError`:\n",
    "\n"
   ]
  },
  {
   "cell_type": "code",
   "execution_count": null,
   "metadata": {},
   "outputs": [],
   "source": [
    "try:\n",
    "    with open(\"file.txt\", \"r\") as f:\n",
    "        contents = f.read()\n",
    "except FileNotFoundError:\n",
    "    print(\"File not found\")"
   ]
  },
  {
   "cell_type": "markdown",
   "metadata": {},
   "source": [
    "\n",
    "\n",
    "In this example, we use a `try` block to attempt to open a file `\"file.txt\"` for reading using the `open()` function. If the file does not exist, a `FileNotFoundError` exception will be raised. We catch the exception using an `except` block and print an error message.\n",
    "\n",
    "5. `KeyboardInterrupt`:\n",
    "\n"
   ]
  },
  {
   "cell_type": "code",
   "execution_count": null,
   "metadata": {},
   "outputs": [],
   "source": [
    "try:\n",
    "    while True:\n",
    "        pass\n",
    "except KeyboardInterrupt:\n",
    "    print(\"Program interrupted by user\")"
   ]
  },
  {
   "cell_type": "markdown",
   "metadata": {},
   "source": [
    "\n",
    "\n",
    "In this example, we use a `try` block to run an infinite loop that does nothing. If the user presses `Ctrl-C` to interrupt the program, a `KeyboardInterrupt` exception will be raised. We catch the exception using an `except` block and print an error message.\n",
    "\n",
    "These are just a few examples of the many types of exceptions that can be raised in Python. By using exception handling, you can write more robust and reliable Python programs that handle errors gracefully."
   ]
  },
  {
   "cell_type": "markdown",
   "metadata": {},
   "source": [
    "In Python, exception handling is a way to handle errors that occur during program execution. When an error occurs, Python raises an exception, which can be caught and handled by the program. Exception handling allows you to gracefully handle errors and prevent your program from crashing.\n",
    "\n",
    "Here's an example of exception handling in Python:\n",
    "\n"
   ]
  },
  {
   "cell_type": "markdown",
   "metadata": {},
   "source": [
    "In Python, you can raise an exception manually using the `raise` statement. Here's an example:\n",
    "\n"
   ]
  },
  {
   "cell_type": "code",
   "execution_count": 8,
   "metadata": {},
   "outputs": [
    {
     "name": "stdout",
     "output_type": "stream",
     "text": [
      "Cannot divide by zero\n"
     ]
    }
   ],
   "source": [
    "def divide(x, y):\n",
    "    if y == 0:\n",
    "        raise ZeroDivisionError(\"Cannot divide by zero\")\n",
    "    return x / y\n",
    "\n",
    "try:\n",
    "    result = divide(10, 0)\n",
    "except ZeroDivisionError as e:\n",
    "    print(e)"
   ]
  },
  {
   "cell_type": "markdown",
   "metadata": {},
   "source": [
    "\n",
    "\n",
    "In this example, we define a function `divide()` that takes two arguments `x` and `y` and returns their quotient. If `y` is `0`, we raise a `ZeroDivisionError` exception with a custom error message.\n",
    "\n",
    "We then use a `try` block to call the `divide()` function with arguments `10` and `0`. Since `y` is `0`, the function raises a `ZeroDivisionError` exception, which we catch using an `except` block. We print the error message using the `print()` function.\n",
    "\n",
    "Here's the output of the program:\n",
    "\n"
   ]
  },
  {
   "cell_type": "markdown",
   "metadata": {},
   "source": [
    "\n",
    "\n",
    "In this case, the program raises a `ZeroDivisionError` exception manually using the `raise` statement and handles it using an `except` block. This allows us to handle errors in a more fine-grained way and provide custom error messages to the user."
   ]
  }
 ],
 "metadata": {
  "kernelspec": {
   "display_name": "base",
   "language": "python",
   "name": "python3"
  },
  "language_info": {
   "codemirror_mode": {
    "name": "ipython",
    "version": 3
   },
   "file_extension": ".py",
   "mimetype": "text/x-python",
   "name": "python",
   "nbconvert_exporter": "python",
   "pygments_lexer": "ipython3",
   "version": "3.9.12"
  },
  "orig_nbformat": 4
 },
 "nbformat": 4,
 "nbformat_minor": 2
}

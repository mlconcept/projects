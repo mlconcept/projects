{
 "cells": [
  {
   "cell_type": "markdown",
   "metadata": {},
   "source": [
    "<h1 align='center'>Mathematical Operator</h1>"
   ]
  },
  {
   "cell_type": "code",
   "execution_count": 3,
   "metadata": {},
   "outputs": [
    {
     "name": "stdout",
     "output_type": "stream",
     "text": [
      "15\n",
      "5\n",
      "50\n"
     ]
    }
   ],
   "source": [
    "# Addition\n",
    "x = 5\n",
    "y = 10\n",
    "z = x + y\n",
    "print(z)  # Output: 15\n",
    "\n",
    "# Subtraction\n",
    "x = 5\n",
    "y = 10\n",
    "z = y - x\n",
    "print(z)  # Output: 5\n",
    "\n",
    "# Multiplication\n",
    "x = 5\n",
    "y = 10\n",
    "z = x * y\n",
    "print(z)  # Output: 50"
   ]
  },
  {
   "cell_type": "code",
   "execution_count": 2,
   "metadata": {},
   "outputs": [
    {
     "name": "stdout",
     "output_type": "stream",
     "text": [
      "2.0\n",
      "2\n",
      "0\n",
      "8\n"
     ]
    }
   ],
   "source": [
    "# Division\n",
    "x = 5\n",
    "y = 10\n",
    "z = y / x\n",
    "print(z)  # Output: 2.0\n",
    "\n",
    "# Floor Division\n",
    "x = 5\n",
    "y = 10\n",
    "z = y // x\n",
    "print(z)  # Output: 2\n",
    "\n",
    "# Modulus\n",
    "x = 5\n",
    "y = 10\n",
    "z = y % x\n",
    "print(z)  # Output: 0\n",
    "\n",
    "# Exponentiation\n",
    "x = 2\n",
    "y = 3\n",
    "z = x ** y\n",
    "print(z)  # Output: 8"
   ]
  },
  {
   "cell_type": "markdown",
   "metadata": {},
   "source": [
    "Boolean Operator"
   ]
  },
  {
   "cell_type": "code",
   "execution_count": null,
   "metadata": {},
   "outputs": [],
   "source": [
    "x = 5\n",
    "y = 10\n",
    "z = 15\n",
    "\n",
    "# Using the and operator\n",
    "if x < y and y < z:\n",
    "    print(\"Both conditions are true\")\n",
    "\n",
    "# Using the or operator\n",
    "if x > y or y < z:\n",
    "    print(\"At least one condition is true\")\n",
    "\n",
    "# Using the not operator\n",
    "x = True\n",
    "if not x:\n",
    "    print(\"x is not true\")\n",
    "else:\n",
    "    print(\"x is true\")"
   ]
  }
 ],
 "metadata": {
  "kernelspec": {
   "display_name": "base",
   "language": "python",
   "name": "python3"
  },
  "language_info": {
   "codemirror_mode": {
    "name": "ipython",
    "version": 3
   },
   "file_extension": ".py",
   "mimetype": "text/x-python",
   "name": "python",
   "nbconvert_exporter": "python",
   "pygments_lexer": "ipython3",
   "version": "3.9.12"
  },
  "orig_nbformat": 4
 },
 "nbformat": 4,
 "nbformat_minor": 2
}

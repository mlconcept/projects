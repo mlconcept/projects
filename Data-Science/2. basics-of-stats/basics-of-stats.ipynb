{
 "cells": [
  {
   "cell_type": "markdown",
   "metadata": {},
   "source": [
    "## Introduction to Statistics\n",
    "Statistics is the science of collecting, analyzing, and interpreting data. \n",
    "It involves designing experiments and surveys to gather data, summarizing and describing the datausing numerical and graphical methods, and making inferences and predictions based on the data."
   ]
  },
  {
   "cell_type": "markdown",
   "metadata": {},
   "source": [
    "Statistics is a branch of mathematics that deals with the collection, analysis, interpretation, presentation, and organization of data. In Python, there are several libraries that provide tools for statistical analysis, including NumPy, Pandas, and SciPy. Here are some examples of basic statistical operations in Python:\n",
    "\n",
    "1. Mean:\n",
    "\n",
    "The mean is a measure of central tendency that represents the average value of a set of numbers. It is calculated by adding up all the numbers in the set and dividing by the number of numbers in the set. Here's an example:\n",
    "\n"
   ]
  },
  {
   "cell_type": "code",
   "execution_count": null,
   "metadata": {},
   "outputs": [],
   "source": [
    "import numpy as np\n",
    "\n",
    "data = [1, 2, 3, 4, 5]\n",
    "mean = np.mean(data)\n",
    "print(mean)  # Output: 3.0"
   ]
  },
  {
   "cell_type": "markdown",
   "metadata": {},
   "source": [
    "\n",
    "\n",
    "In this example, we use the `mean()` function from the NumPy library to calculate the mean of a list of numbers `data`. The mean is `3.0`, which represents the average value of the numbers in the list.\n",
    "\n",
    "2. Median:\n",
    "\n",
    "The median is a measure of central tendency that represents the middle value of a set of numbers. It is calculated by sorting the numbers in the set and finding the middle value. Here's an example:\n",
    "\n"
   ]
  },
  {
   "cell_type": "code",
   "execution_count": null,
   "metadata": {},
   "outputs": [],
   "source": [
    "import numpy as np\n",
    "\n",
    "data = [1, 2, 3, 4, 5]\n",
    "median = np.median(data)\n",
    "print(median)  # Output: 3.0"
   ]
  },
  {
   "cell_type": "markdown",
   "metadata": {},
   "source": [
    "\n",
    "\n",
    "In this example, we use the `median()` function from the NumPy library to calculate the median of a list of numbers `data`. The median is `3.0`, which represents the middle value of the sorted list.\n",
    "\n",
    "3. Mode:\n",
    "\n",
    "The mode is a measure of central tendency that represents the most common value in a set of numbers. It is calculated by finding the value that appears most frequently in the set. Here's an example:\n",
    "\n"
   ]
  },
  {
   "cell_type": "code",
   "execution_count": null,
   "metadata": {},
   "outputs": [],
   "source": [
    "from scipy import stats\n",
    "\n",
    "data = [1, 2, 3, 3, 4, 4, 4, 5]\n",
    "mode = stats.mode(data)\n",
    "print(mode)  # Output: ModeResult(mode=array([4]), count=array([3]))"
   ]
  },
  {
   "cell_type": "markdown",
   "metadata": {},
   "source": [
    "\n",
    "\n",
    "In this example, we use the `mode()` function from the SciPy library to calculate the mode of a list of numbers `data`. The mode is `4`, which appears `3` times in the list.\n",
    "\n",
    "4. Standard deviation:\n",
    "\n",
    "The standard deviation is a measure of spread that represents how much the values in a set of numbers deviate from the mean. It is calculated by finding the square root of the variance, which is the average of the squared differences between each value and the mean. Here's an example:\n",
    "\n"
   ]
  },
  {
   "cell_type": "code",
   "execution_count": null,
   "metadata": {},
   "outputs": [],
   "source": [
    "import numpy as np\n",
    "\n",
    "data = [1, 2, 3, 4, 5]\n",
    "std_dev = np.std(data)\n",
    "print(std_dev)  # Output: 1.4142135623730951"
   ]
  },
  {
   "cell_type": "markdown",
   "metadata": {},
   "source": [
    "\n",
    "\n",
    "In this example, we use the `std()` function from the NumPy library to calculate the standard deviation of a list of numbers `data`. The standard deviation is `1.4142135623730951`, which represents how much the values in the list deviate from the mean.\n",
    "\n",
    "These are just a few examples of the many statistical operations that can be performed in Python. By using statistical libraries like NumPy, Pandas, and SciPy, you can perform complex statistical analysis on large datasets with ease."
   ]
  }
 ],
 "metadata": {
  "language_info": {
   "name": "python"
  },
  "orig_nbformat": 4
 },
 "nbformat": 4,
 "nbformat_minor": 2
}

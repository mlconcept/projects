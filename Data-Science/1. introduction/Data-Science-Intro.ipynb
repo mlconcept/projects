{
 "cells": [
  {
   "cell_type": "markdown",
   "metadata": {},
   "source": [
    "# -------------------------------------------- Data Science --------------------------------------------"
   ]
  },
  {
   "cell_type": "markdown",
   "metadata": {},
   "source": [
    "## What is a Data Science ?\n",
    "\n",
    "- Data Science is all about gathering data, performing analysis to make constructive decision based on that.\n",
    "- it's all about finding patterns in data, through analysis, and make future predictions.\n",
    "\n",
    "WIth the help of Data Science, companies/goverment etc. are able to make:\n",
    "\n",
    "- Better decisions\n",
    "- Predictive analysis (what will happen next?)\n",
    "- Pattern discoveries (find pattern, or maybe hidden information in the data)"
   ]
  },
  {
   "cell_type": "markdown",
   "metadata": {},
   "source": [
    "# Good to have Skills in Data Scientist\n",
    "- Statistics\n",
    "- Programming language (Python or R)\n",
    "- Basics of Mathemetics\n",
    "- Basics of Database\n",
    "- ML algorithms\n",
    "- Basics of Dashboarding tool (PowerBI, Tableau etc.)\n",
    "- Basics of Excel and MS-Office suits"
   ]
  }
 ],
 "metadata": {
  "language_info": {
   "name": "python"
  },
  "orig_nbformat": 4
 },
 "nbformat": 4,
 "nbformat_minor": 2
}

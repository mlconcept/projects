{
 "cells": [
  {
   "cell_type": "markdown",
   "metadata": {},
   "source": [
    "# RC Case Study"
   ]
  },
  {
   "cell_type": "markdown",
   "metadata": {},
   "source": [
    "## Problem Statement"
   ]
  },
  {
   "cell_type": "markdown",
   "metadata": {},
   "source": [
    "Build a deep learning pipeline consisting of one or more models to identify the type of food and drink present inside the test images. Food must be classified into any one of the following three categories (labelled data shared for training) \n",
    "\n",
    " - Mexican food \n",
    "\n",
    " - Fast Food \n",
    "\n",
    " - Steak \n",
    "\n",
    " Similarly, drinks must be classified into the following three categories (labelled data shared for training) \n",
    "\n",
    " - Beer \n",
    "\n",
    " - Soda \n",
    "\n",
    " - Wine \n",
    "\n",
    "Based on the Food-Drink association coming out of the test images, present your insights about consumption patterns of these items."
   ]
  },
  {
   "cell_type": "markdown",
   "metadata": {},
   "source": [
    "## Submission Instructions"
   ]
  },
  {
   "cell_type": "markdown",
   "metadata": {},
   "source": [
    " - You need to submit two folders, one for codes and the other with results\n",
    " - In the code folder, submit all your codes along with a readme/ execution instructions. You can also submit a Jupyter notebook (or equivalent). Please comment your codes for better comprehension\n",
    " - In the result folder, submit a final document indicating the accuracy score and ROC curve of the final model as well as the insights around food-drink association that you draw from the test images "
   ]
  },
  {
   "cell_type": "markdown",
   "metadata": {},
   "source": [
    "## Evaluation Criteria/Questionnaire"
   ]
  },
  {
   "attachments": {
    "image.png": {
     "image/png": "[encoded data removed]"
    }
   },
   "cell_type": "markdown",
   "metadata": {},
   "source": [
    " - F1 Score\n",
    "```\n",
    "Ans: F1 Score =  2*((precision*recall)/(precision+recall))\n",
    "In this case study we are not focussing on F1 score of training model, any decent accuracy (>85) and right approch will work\n",
    "```\n",
    " - How the layers have been built? What has gone into building the layers?\n",
    " - Explain the architecture (VGG, ResNet pertained architecture)\n",
    " - Explain why was a particular architecture chosen\n",
    " ```\n",
    " Subjective answer, ask about the different architecture they have tried and reason to select/reject that architecture. \n",
    " Typically: Transfer learning on pretrained architecture (VGG11, ResNet, etc) will not work as the training data is quite less. In our base model we have used 3 Conv layer followed by 1 Fully connected layer.\n",
    " ```\n",
    " - How much tuning was done?\n",
    " ```\n",
    " Ask about any changes they have done in the choice of learning rate, momentum, loss function, optimizer, etc in order to tune the model and the reason for the same. \n",
    " ```\n",
    " - Choice of libraries\n",
    " ```\n",
    " Typically Pytorch or Tensorflow.\n",
    " Our base solution is built on pytorch. \n",
    " ```\n",
    " - How was noise treated?\n",
    " - Were any filters applied?\n",
    " - Was there any distortion?\n",
    " ```\n",
    " Subjective answer. In our base solution we didn't use any of the above method. \n",
    " ```\n",
    " - Explain the basic data preprocessing/transformation performed.\n",
    " ```\n",
    " Multiple techniques are posiible, including cropping, data augmentation, normalization, resizing, etc.\n",
    " For the base solution we have used: 1) Resizing, 2) Center Crop, 3) Converting to tensor, 4) Normalization\n",
    " ```\n",
    " \n",
    " - Explain your solution pipeline.\n",
    " ```\n",
    " Base pipeline: \n",
    " Training of two seperate model having same architecture (3 Conv and 1 FC) on drink and food dataset separately to individually detect food and drink item from the image.\n",
    " \n",
    " Once this is done for formimg association:\n",
    " Pass the test image to first the drink model to detect the drink item inside the image, then pass the same test image to food model to detect the food item from the image. This will give us one food-drink pair for the image. \n",
    " \n",
    " Similarly do this for each of the 30 test image to get 30 food-drink pairs, and based on frequency of the each pair draw your insights. \n",
    " \n",
    " Sample Result:\n",
    " \n",
    " ```\n",
    " ![image.png](attachment:image.png)\n",
    " \n",
    " ```\n",
    " Clearly from the results:\n",
    " beer goes well with fast-food\n",
    " soda goes well with steak\n",
    " and wine goes well with fast food\n",
    " ```\n",
    " ---"
   ]
  },
  {
   "cell_type": "markdown",
   "metadata": {},
   "source": [
    "### Base solution links"
   ]
  },
  {
   "cell_type": "markdown",
   "metadata": {},
   "source": [
    "##### Drink model:\n",
    "[Jupyter Notebook](https://colab.research.google.com/drive/1Qhrt7e_NQfo71u7cq7OzCHzO0pTwWs0I?usp=sharing)"
   ]
  },
  {
   "cell_type": "markdown",
   "metadata": {},
   "source": [
    "##### Food model\n",
    "[Jupyter Notebook](https://colab.research.google.com/drive/18TJY2R9AJtKxjSkKk9iBEb_xntkBRixo?usp=sharing)"
   ]
  },
  {
   "cell_type": "markdown",
   "metadata": {},
   "source": [
    "##### Final association script\n",
    "[Jupyter Notebook](https://colab.research.google.com/drive/15kZtaKY7TOrRbp4rWsU97bohANtNvTbW?usp=sharing)"
   ]
  },
  {
   "cell_type": "code",
   "execution_count": null,
   "metadata": {},
   "outputs": [],
   "source": []
  }
 ],
 "metadata": {
  "kernelspec": {
   "display_name": "Python 3",
   "language": "python",
   "name": "python3"
  },
  "language_info": {
   "codemirror_mode": {
    "name": "ipython",
    "version": 3
   },
   "file_extension": ".py",
   "mimetype": "text/x-python",
   "name": "python",
   "nbconvert_exporter": "python",
   "pygments_lexer": "ipython3",
   "version": "3.8.8"
  }
 },
 "nbformat": 4,
 "nbformat_minor": 4
}

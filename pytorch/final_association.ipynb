{
  "nbformat": 4,
  "nbformat_minor": 5,
  "metadata": {
    "kernelspec": {
      "display_name": "Python 3",
      "language": "python",
      "name": "python3"
    },
    "language_info": {
      "codemirror_mode": {
        "name": "ipython",
        "version": 3
      },
      "file_extension": ".py",
      "mimetype": "text/x-python",
      "name": "python",
      "nbconvert_exporter": "python",
      "pygments_lexer": "ipython3",
      "version": "3.8.8"
    },
    "colab": {
      "name": "final_association.ipynb",
      "provenance": [],
      "collapsed_sections": []
    },
    "accelerator": "GPU"
  },
  "cells": [
    {
      "cell_type": "markdown",
      "metadata": {
        "id": "8U_WXnkpfRBP"
      },
      "source": [
        "#### Importing Required Library"
      ],
      "id": "8U_WXnkpfRBP"
    },
    {
      "cell_type": "code",
      "metadata": {
        "id": "cafaba82"
      },
      "source": [
        "import os\n",
        "import sys\n",
        "import datetime\n",
        "import time\n",
        "import math\n",
        "import json\n",
        "from pathlib import Path\n",
        "\n",
        "import numpy as np\n",
        "from PIL import Image\n",
        "from torch import optim\n",
        "import torch\n",
        "import torch.nn as nn\n",
        "import torch.distributed as dist\n",
        "import torch.backends.cudnn as cudnn\n",
        "import torch.nn.functional as F\n",
        "from torchvision import datasets, transforms\n",
        "from torchvision import models as torchvision_models\n",
        "from sklearn import metrics\n",
        "import matplotlib.pyplot as plt\n",
        "import torchvision"
      ],
      "id": "cafaba82",
      "execution_count": null,
      "outputs": []
    },
    {
      "cell_type": "markdown",
      "metadata": {
        "id": "x0k1AefnfUQx"
      },
      "source": [
        "#### Mounting my drive for data access"
      ],
      "id": "x0k1AefnfUQx"
    },
    {
      "cell_type": "code",
      "metadata": {
        "colab": {
          "base_uri": "https://localhost:8080/"
        },
        "id": "rIWkywWFrOBj",
        "outputId": "7a9a85f2-4870-4695-d2a7-25406e81244b"
      },
      "source": [
        "from google.colab import drive\n",
        "drive.mount('/content/drive')"
      ],
      "id": "rIWkywWFrOBj",
      "execution_count": null,
      "outputs": [
        {
          "output_type": "stream",
          "text": [
            "Mounted at /content/drive\n"
          ],
          "name": "stdout"
        }
      ]
    },
    {
      "cell_type": "markdown",
      "metadata": {
        "id": "gE9zpMMcgXb1"
      },
      "source": [
        "#### Providing datapath"
      ],
      "id": "gE9zpMMcgXb1"
    },
    {
      "cell_type": "code",
      "metadata": {
        "id": "d1526a8e"
      },
      "source": [
        "data_path = '/content/drive/MyDrive/Dataset'\n",
        "batch_size = 32"
      ],
      "id": "d1526a8e",
      "execution_count": null,
      "outputs": []
    },
    {
      "cell_type": "markdown",
      "metadata": {
        "id": "SDukt0h_gbzM"
      },
      "source": [
        "#### Defining transforms and dataloader"
      ],
      "id": "SDukt0h_gbzM"
    },
    {
      "cell_type": "code",
      "metadata": {
        "colab": {
          "base_uri": "https://localhost:8080/"
        },
        "id": "6532ebf2",
        "outputId": "e1d11562-e07e-4e4c-88d1-40eacdd9be12"
      },
      "source": [
        "transform = transforms.Compose([\n",
        "        transforms.Resize(256, interpolation=3),\n",
        "        transforms.CenterCrop(224),\n",
        "        transforms.ToTensor(),\n",
        "        transforms.Normalize((0.485, 0.456, 0.406), (0.229, 0.224, 0.225)),\n",
        "    ])\n",
        "\n",
        "dataset_train = datasets.ImageFolder(os.path.join(data_path, \"test\"), transform=transform)\n",
        "\n",
        "train_loader = torch.utils.data.DataLoader(\n",
        "    dataset_train,\n",
        "    batch_size=batch_size,\n",
        "    shuffle=True\n",
        ")\n",
        "\n",
        "print(f\"Data loaded with {len(dataset_train)} test imgs.\")\n"
      ],
      "id": "6532ebf2",
      "execution_count": null,
      "outputs": [
        {
          "output_type": "stream",
          "text": [
            "Data loaded with 30 test imgs.\n"
          ],
          "name": "stdout"
        },
        {
          "output_type": "stream",
          "text": [
            "/usr/local/lib/python3.7/dist-packages/torchvision/transforms/transforms.py:281: UserWarning: Argument interpolation should be of type InterpolationMode instead of int. Please, use InterpolationMode enum.\n",
            "  \"Argument interpolation should be of type InterpolationMode instead of int. \"\n"
          ],
          "name": "stderr"
        }
      ]
    },
    {
      "cell_type": "markdown",
      "metadata": {
        "id": "OTpmOWAKggVp"
      },
      "source": [
        "#### Setting up the model"
      ],
      "id": "OTpmOWAKggVp"
    },
    {
      "cell_type": "code",
      "metadata": {
        "id": "24386ea4"
      },
      "source": [
        "class Net(nn.Module):\n",
        "    def __init__(self):\n",
        "        super(Net, self).__init__()\n",
        "        \n",
        "        self.cnn_layers = nn.Sequential(\n",
        "            # Defining a 2D convolution layer\n",
        "            nn.Conv2d(3, 10, kernel_size=3, stride=1, padding=1),\n",
        "            nn.BatchNorm2d(10),\n",
        "            nn.ReLU(inplace=True),\n",
        "            nn.MaxPool2d(kernel_size=2, stride=2),\n",
        "            \n",
        "            # Defining another 2D convolution layer\n",
        "            nn.Conv2d(10, 15, kernel_size=3, stride=1, padding=1),\n",
        "            nn.BatchNorm2d(15),\n",
        "            nn.ReLU(inplace=True),\n",
        "            nn.MaxPool2d(kernel_size=2, stride=2),\n",
        "            \n",
        "            nn.Conv2d(15, 10, kernel_size=3, stride=1, padding=1),\n",
        "            nn.BatchNorm2d(10),\n",
        "            nn.ReLU(inplace=True),\n",
        "            nn.MaxPool2d(kernel_size=2, stride=2),\n",
        "            \n",
        "      )\n",
        "\n",
        "        self.linear_layers = nn.Sequential(\n",
        "            \n",
        "          nn.Linear(10 * 28 * 28, 3)\n",
        "      )\n",
        "\n",
        "  # Defining the forward pass    \n",
        "    def forward(self, x):\n",
        "        x = self.cnn_layers(x)\n",
        "        x = x.view(x.size(0), -1)\n",
        "        x = self.linear_layers(x)\n",
        "        return x"
      ],
      "id": "24386ea4",
      "execution_count": null,
      "outputs": []
    },
    {
      "cell_type": "markdown",
      "metadata": {
        "id": "AacEH1YNgjCy"
      },
      "source": [
        "#### Load the saved drink detection model"
      ],
      "id": "AacEH1YNgjCy"
    },
    {
      "cell_type": "code",
      "metadata": {
        "colab": {
          "base_uri": "https://localhost:8080/"
        },
        "id": "0e033bb6",
        "outputId": "c643083b-901e-45cb-88e5-bff07fb26137"
      },
      "source": [
        "drink_model = Net()\n",
        "drink_model.load_state_dict(torch.load('/content/drive/MyDrive/Dataset/drink_model.pth'))\n",
        "if torch.cuda.is_available():\n",
        "    drink_model = drink_model.cuda()\n",
        "drink_model.eval()\n",
        "print(drink_model)"
      ],
      "id": "0e033bb6",
      "execution_count": null,
      "outputs": [
        {
          "output_type": "stream",
          "text": [
            "Net(\n",
            "  (cnn_layers): Sequential(\n",
            "    (0): Conv2d(3, 10, kernel_size=(3, 3), stride=(1, 1), padding=(1, 1))\n",
            "    (1): BatchNorm2d(10, eps=1e-05, momentum=0.1, affine=True, track_running_stats=True)\n",
            "    (2): ReLU(inplace=True)\n",
            "    (3): MaxPool2d(kernel_size=2, stride=2, padding=0, dilation=1, ceil_mode=False)\n",
            "    (4): Conv2d(10, 15, kernel_size=(3, 3), stride=(1, 1), padding=(1, 1))\n",
            "    (5): BatchNorm2d(15, eps=1e-05, momentum=0.1, affine=True, track_running_stats=True)\n",
            "    (6): ReLU(inplace=True)\n",
            "    (7): MaxPool2d(kernel_size=2, stride=2, padding=0, dilation=1, ceil_mode=False)\n",
            "    (8): Conv2d(15, 10, kernel_size=(3, 3), stride=(1, 1), padding=(1, 1))\n",
            "    (9): BatchNorm2d(10, eps=1e-05, momentum=0.1, affine=True, track_running_stats=True)\n",
            "    (10): ReLU(inplace=True)\n",
            "    (11): MaxPool2d(kernel_size=2, stride=2, padding=0, dilation=1, ceil_mode=False)\n",
            "  )\n",
            "  (linear_layers): Sequential(\n",
            "    (0): Linear(in_features=7840, out_features=3, bias=True)\n",
            "  )\n",
            ")\n"
          ],
          "name": "stdout"
        }
      ]
    },
    {
      "cell_type": "markdown",
      "metadata": {
        "id": "p08CkZjAgm-s"
      },
      "source": [
        "#### Load the saved food detection model"
      ],
      "id": "p08CkZjAgm-s"
    },
    {
      "cell_type": "code",
      "metadata": {
        "colab": {
          "base_uri": "https://localhost:8080/"
        },
        "id": "g3wXE63y1hMa",
        "outputId": "4c7a7312-1861-4a52-b5fa-415c11949c73"
      },
      "source": [
        "food_model = Net()\n",
        "food_model.load_state_dict(torch.load('/content/drive/MyDrive/Dataset/food_model.pth'))\n",
        "if torch.cuda.is_available():\n",
        "    food_model = food_model.cuda()\n",
        "food_model.eval()\n",
        "print(food_model)"
      ],
      "id": "g3wXE63y1hMa",
      "execution_count": null,
      "outputs": [
        {
          "output_type": "stream",
          "text": [
            "Net(\n",
            "  (cnn_layers): Sequential(\n",
            "    (0): Conv2d(3, 10, kernel_size=(3, 3), stride=(1, 1), padding=(1, 1))\n",
            "    (1): BatchNorm2d(10, eps=1e-05, momentum=0.1, affine=True, track_running_stats=True)\n",
            "    (2): ReLU(inplace=True)\n",
            "    (3): MaxPool2d(kernel_size=2, stride=2, padding=0, dilation=1, ceil_mode=False)\n",
            "    (4): Conv2d(10, 15, kernel_size=(3, 3), stride=(1, 1), padding=(1, 1))\n",
            "    (5): BatchNorm2d(15, eps=1e-05, momentum=0.1, affine=True, track_running_stats=True)\n",
            "    (6): ReLU(inplace=True)\n",
            "    (7): MaxPool2d(kernel_size=2, stride=2, padding=0, dilation=1, ceil_mode=False)\n",
            "    (8): Conv2d(15, 10, kernel_size=(3, 3), stride=(1, 1), padding=(1, 1))\n",
            "    (9): BatchNorm2d(10, eps=1e-05, momentum=0.1, affine=True, track_running_stats=True)\n",
            "    (10): ReLU(inplace=True)\n",
            "    (11): MaxPool2d(kernel_size=2, stride=2, padding=0, dilation=1, ceil_mode=False)\n",
            "  )\n",
            "  (linear_layers): Sequential(\n",
            "    (0): Linear(in_features=7840, out_features=3, bias=True)\n",
            "  )\n",
            ")\n"
          ],
          "name": "stdout"
        }
      ]
    },
    {
      "cell_type": "markdown",
      "metadata": {
        "id": "8RcKD4fzgrN8"
      },
      "source": [
        "#### Define label to label text map"
      ],
      "id": "8RcKD4fzgrN8"
    },
    {
      "cell_type": "code",
      "metadata": {
        "id": "DipLa7jg176h"
      },
      "source": [
        "drink_map = {0: \"beer\", 1: \"soda\", 2: \"wine\"}\n",
        "food_map = {0: \"fast_food\", 1: \"mexican food\", 2: \"steak\"}\n",
        "Matrix = np.zeros((3,3), dtype=np.int32)"
      ],
      "id": "DipLa7jg176h",
      "execution_count": null,
      "outputs": []
    },
    {
      "cell_type": "markdown",
      "metadata": {
        "id": "f8EQWA8jgv1T"
      },
      "source": [
        "#### Extract associations"
      ],
      "id": "f8EQWA8jgv1T"
    },
    {
      "cell_type": "code",
      "metadata": {
        "id": "18af8c27"
      },
      "source": [
        "# getting predictions on test set and measuring the performance\n",
        "r = []\n",
        "for images,labels in train_loader:\n",
        "    for i in range(len(labels)):\n",
        "        if torch.cuda.is_available():\n",
        "            images = images.cuda()\n",
        "            labels = labels.cuda()\n",
        "        img = images[i].view(1, 3, 224, 224)\n",
        "        with torch.no_grad():\n",
        "            drink = drink_model(img)\n",
        "            food = food_model(img)\n",
        "\n",
        "\n",
        "        ps_drink = torch.exp(drink)\n",
        "        probab_drink = list(ps_drink.cpu()[0])\n",
        "        pred_label_drink = probab_drink.index(max(probab_drink))\n",
        "\n",
        "        ps_food = torch.exp(food)\n",
        "        probab_food = list(ps_food.cpu()[0])\n",
        "        pred_label_food = probab_food.index(max(probab_food))\n",
        "        r.append([drink_map[pred_label_drink], food_map[pred_label_food]])\n",
        "        Matrix[pred_label_drink][pred_label_food] = Matrix[pred_label_drink][pred_label_food] + 1"
      ],
      "id": "18af8c27",
      "execution_count": null,
      "outputs": []
    },
    {
      "cell_type": "markdown",
      "metadata": {
        "id": "mMYpHR2YgzLy"
      },
      "source": [
        "#### Display the association matrix"
      ],
      "id": "mMYpHR2YgzLy"
    },
    {
      "cell_type": "code",
      "metadata": {
        "colab": {
          "base_uri": "https://localhost:8080/",
          "height": 142
        },
        "id": "fWMYmj4t4_X0",
        "outputId": "a34847d1-f887-422f-858b-7a1761beca28"
      },
      "source": [
        "import pandas as pd\n",
        "col_list = ['drink']*4\n",
        "for key, val in food_map.items():\n",
        "  col_list[key+1] = val\n",
        "\n",
        "tabel = pd.DataFrame(columns=col_list)\n",
        "for i in range(3):\n",
        "  temp = []\n",
        "  temp.append(drink_map[i])\n",
        "  for j in range(3):\n",
        "    temp.append(Matrix[i][j])\n",
        "  tabel.loc[len(tabel)] = temp\n",
        "tabel"
      ],
      "id": "fWMYmj4t4_X0",
      "execution_count": null,
      "outputs": [
        {
          "output_type": "execute_result",
          "data": {
            "text/html": [
              "<div>\n",
              "<style scoped>\n",
              "    .dataframe tbody tr th:only-of-type {\n",
              "        vertical-align: middle;\n",
              "    }\n",
              "\n",
              "    .dataframe tbody tr th {\n",
              "        vertical-align: top;\n",
              "    }\n",
              "\n",
              "    .dataframe thead th {\n",
              "        text-align: right;\n",
              "    }\n",
              "</style>\n",
              "<table border=\"1\" class=\"dataframe\">\n",
              "  <thead>\n",
              "    <tr style=\"text-align: right;\">\n",
              "      <th></th>\n",
              "      <th>drink</th>\n",
              "      <th>fast_food</th>\n",
              "      <th>mexican food</th>\n",
              "      <th>steak</th>\n",
              "    </tr>\n",
              "  </thead>\n",
              "  <tbody>\n",
              "    <tr>\n",
              "      <th>0</th>\n",
              "      <td>beer</td>\n",
              "      <td>13</td>\n",
              "      <td>3</td>\n",
              "      <td>3</td>\n",
              "    </tr>\n",
              "    <tr>\n",
              "      <th>1</th>\n",
              "      <td>soda</td>\n",
              "      <td>2</td>\n",
              "      <td>2</td>\n",
              "      <td>3</td>\n",
              "    </tr>\n",
              "    <tr>\n",
              "      <th>2</th>\n",
              "      <td>wine</td>\n",
              "      <td>2</td>\n",
              "      <td>1</td>\n",
              "      <td>1</td>\n",
              "    </tr>\n",
              "  </tbody>\n",
              "</table>\n",
              "</div>"
            ],
            "text/plain": [
              "  drink fast_food mexican food steak\n",
              "0  beer        13            3     3\n",
              "1  soda         2            2     3\n",
              "2  wine         2            1     1"
            ]
          },
          "metadata": {
            "tags": []
          },
          "execution_count": 29
        }
      ]
    }
  ]
}
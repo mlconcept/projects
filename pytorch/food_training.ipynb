{
  "nbformat": 4,
  "nbformat_minor": 5,
  "metadata": {
    "kernelspec": {
      "display_name": "Python 3",
      "language": "python",
      "name": "python3"
    },
    "language_info": {
      "codemirror_mode": {
        "name": "ipython",
        "version": 3
      },
      "file_extension": ".py",
      "mimetype": "text/x-python",
      "name": "python",
      "nbconvert_exporter": "python",
      "pygments_lexer": "ipython3",
      "version": "3.8.8"
    },
    "colab": {
      "name": "food_training.ipynb",
      "provenance": [],
      "collapsed_sections": []
    },
    "accelerator": "GPU"
  },
  "cells": [
    {
      "cell_type": "markdown",
      "metadata": {
        "id": "IHCkbRcefdyW"
      },
      "source": [
        "#### Importing Required Library\n"
      ],
      "id": "IHCkbRcefdyW"
    },
    {
      "cell_type": "code",
      "metadata": {
        "id": "cafaba82"
      },
      "source": [
        "import os\n",
        "import sys\n",
        "import datetime\n",
        "import time\n",
        "import math\n",
        "import json\n",
        "from pathlib import Path\n",
        "\n",
        "import numpy as np\n",
        "from PIL import Image\n",
        "from torch import optim\n",
        "import torch\n",
        "import torch.nn as nn\n",
        "import torch.distributed as dist\n",
        "import torch.backends.cudnn as cudnn\n",
        "import torch.nn.functional as F\n",
        "from torchvision import datasets, transforms\n",
        "from torchvision import models as torchvision_models\n",
        "from sklearn import metrics\n",
        "import matplotlib.pyplot as plt\n",
        "import torchvision"
      ],
      "id": "cafaba82",
      "execution_count": null,
      "outputs": []
    },
    {
      "cell_type": "markdown",
      "metadata": {
        "id": "MRfgTOQKfgUt"
      },
      "source": [
        "#### Mounting my drive to access the dataset"
      ],
      "id": "MRfgTOQKfgUt"
    },
    {
      "cell_type": "code",
      "metadata": {
        "colab": {
          "base_uri": "https://localhost:8080/"
        },
        "id": "rIWkywWFrOBj",
        "outputId": "e5944b04-9055-4939-bc4c-858ed4d7b2cf"
      },
      "source": [
        "from google.colab import drive\n",
        "drive.mount('/content/drive')"
      ],
      "id": "rIWkywWFrOBj",
      "execution_count": null,
      "outputs": [
        {
          "output_type": "stream",
          "text": [
            "Mounted at /content/drive\n"
          ],
          "name": "stdout"
        }
      ]
    },
    {
      "cell_type": "markdown",
      "metadata": {
        "id": "8-4QCUg8fjWW"
      },
      "source": [
        "#### Providing datapath"
      ],
      "id": "8-4QCUg8fjWW"
    },
    {
      "cell_type": "code",
      "metadata": {
        "id": "d1526a8e"
      },
      "source": [
        "data_path = '/content/drive/MyDrive/Dataset'\n",
        "batch_size = 32"
      ],
      "id": "d1526a8e",
      "execution_count": null,
      "outputs": []
    },
    {
      "cell_type": "markdown",
      "metadata": {
        "id": "FHXSJt_-fmmd"
      },
      "source": [
        "#### Defining data transforms and data loader"
      ],
      "id": "FHXSJt_-fmmd"
    },
    {
      "cell_type": "code",
      "metadata": {
        "colab": {
          "base_uri": "https://localhost:8080/"
        },
        "id": "6532ebf2",
        "outputId": "cd049ec0-65fe-45f2-ed0d-8011ec362ff0"
      },
      "source": [
        "transform = transforms.Compose([\n",
        "        transforms.Resize(256, interpolation=3),\n",
        "        transforms.CenterCrop(224),\n",
        "        transforms.ToTensor(),\n",
        "        transforms.Normalize((0.485, 0.456, 0.406), (0.229, 0.224, 0.225)),\n",
        "    ])\n",
        "\n",
        "dataset_train = datasets.ImageFolder(os.path.join(data_path, \"food\"), transform=transform)\n",
        "\n",
        "train_loader = torch.utils.data.DataLoader(\n",
        "    dataset_train,\n",
        "    batch_size=batch_size,\n",
        "    shuffle=True\n",
        ")\n",
        "\n",
        "print(f\"Data loaded with {len(dataset_train)} train imgs.\")\n"
      ],
      "id": "6532ebf2",
      "execution_count": null,
      "outputs": [
        {
          "output_type": "stream",
          "text": [
            "/usr/local/lib/python3.7/dist-packages/torchvision/transforms/transforms.py:281: UserWarning: Argument interpolation should be of type InterpolationMode instead of int. Please, use InterpolationMode enum.\n",
            "  \"Argument interpolation should be of type InterpolationMode instead of int. \"\n"
          ],
          "name": "stderr"
        },
        {
          "output_type": "stream",
          "text": [
            "Data loaded with 479 train imgs.\n"
          ],
          "name": "stdout"
        }
      ]
    },
    {
      "cell_type": "markdown",
      "metadata": {
        "id": "6uzj8JzlfpXh"
      },
      "source": [
        "#### Defining Model"
      ],
      "id": "6uzj8JzlfpXh"
    },
    {
      "cell_type": "code",
      "metadata": {
        "id": "24386ea4"
      },
      "source": [
        "class Net(nn.Module):\n",
        "    def __init__(self):\n",
        "        super(Net, self).__init__()\n",
        "        \n",
        "        self.cnn_layers = nn.Sequential(\n",
        "            # Defining a 2D convolution layer\n",
        "            nn.Conv2d(3, 10, kernel_size=3, stride=1, padding=1),\n",
        "            nn.BatchNorm2d(10),\n",
        "            nn.ReLU(inplace=True),\n",
        "            nn.MaxPool2d(kernel_size=2, stride=2),\n",
        "            \n",
        "            # Defining another 2D convolution layer\n",
        "            nn.Conv2d(10, 15, kernel_size=3, stride=1, padding=1),\n",
        "            nn.BatchNorm2d(15),\n",
        "            nn.ReLU(inplace=True),\n",
        "            nn.MaxPool2d(kernel_size=2, stride=2),\n",
        "            \n",
        "            nn.Conv2d(15, 10, kernel_size=3, stride=1, padding=1),\n",
        "            nn.BatchNorm2d(10),\n",
        "            nn.ReLU(inplace=True),\n",
        "            nn.MaxPool2d(kernel_size=2, stride=2),\n",
        "            \n",
        "      )\n",
        "\n",
        "        self.linear_layers = nn.Sequential(\n",
        "            \n",
        "          nn.Linear(10 * 28 * 28, 3)\n",
        "      )\n",
        "\n",
        "  # Defining the forward pass    \n",
        "    def forward(self, x):\n",
        "        x = self.cnn_layers(x)\n",
        "        x = x.view(x.size(0), -1)\n",
        "        x = self.linear_layers(x)\n",
        "        return x"
      ],
      "id": "24386ea4",
      "execution_count": null,
      "outputs": []
    },
    {
      "cell_type": "code",
      "metadata": {
        "colab": {
          "base_uri": "https://localhost:8080/"
        },
        "id": "0e033bb6",
        "outputId": "442b1a1e-a92e-4a98-8b0f-8ff9ca1f2c2a"
      },
      "source": [
        "model = Net()\n",
        "print(model)"
      ],
      "id": "0e033bb6",
      "execution_count": null,
      "outputs": [
        {
          "output_type": "stream",
          "text": [
            "Net(\n",
            "  (cnn_layers): Sequential(\n",
            "    (0): Conv2d(3, 10, kernel_size=(3, 3), stride=(1, 1), padding=(1, 1))\n",
            "    (1): BatchNorm2d(10, eps=1e-05, momentum=0.1, affine=True, track_running_stats=True)\n",
            "    (2): ReLU(inplace=True)\n",
            "    (3): MaxPool2d(kernel_size=2, stride=2, padding=0, dilation=1, ceil_mode=False)\n",
            "    (4): Conv2d(10, 15, kernel_size=(3, 3), stride=(1, 1), padding=(1, 1))\n",
            "    (5): BatchNorm2d(15, eps=1e-05, momentum=0.1, affine=True, track_running_stats=True)\n",
            "    (6): ReLU(inplace=True)\n",
            "    (7): MaxPool2d(kernel_size=2, stride=2, padding=0, dilation=1, ceil_mode=False)\n",
            "    (8): Conv2d(15, 10, kernel_size=(3, 3), stride=(1, 1), padding=(1, 1))\n",
            "    (9): BatchNorm2d(10, eps=1e-05, momentum=0.1, affine=True, track_running_stats=True)\n",
            "    (10): ReLU(inplace=True)\n",
            "    (11): MaxPool2d(kernel_size=2, stride=2, padding=0, dilation=1, ceil_mode=False)\n",
            "  )\n",
            "  (linear_layers): Sequential(\n",
            "    (0): Linear(in_features=7840, out_features=3, bias=True)\n",
            "  )\n",
            ")\n"
          ],
          "name": "stdout"
        }
      ]
    },
    {
      "cell_type": "markdown",
      "metadata": {
        "id": "txpGuV_pfsgZ"
      },
      "source": [
        "#### Setting up the optimizer and loss function"
      ],
      "id": "txpGuV_pfsgZ"
    },
    {
      "cell_type": "code",
      "metadata": {
        "colab": {
          "base_uri": "https://localhost:8080/"
        },
        "id": "c689d25a",
        "outputId": "f03aff89-737f-4513-c23f-9853edc5fd5c"
      },
      "source": [
        "# defining the optimizer\n",
        "optimizer = optim.Adam(model.parameters(), lr=0.01)\n",
        "# defining the loss function\n",
        "criterion = nn.CrossEntropyLoss()\n",
        "# checking if GPU is available\n",
        "if torch.cuda.is_available():\n",
        "    model = model.cuda()\n",
        "    criterion = criterion.cuda()\n",
        "    \n",
        "print(model)"
      ],
      "id": "c689d25a",
      "execution_count": null,
      "outputs": [
        {
          "output_type": "stream",
          "text": [
            "Net(\n",
            "  (cnn_layers): Sequential(\n",
            "    (0): Conv2d(3, 10, kernel_size=(3, 3), stride=(1, 1), padding=(1, 1))\n",
            "    (1): BatchNorm2d(10, eps=1e-05, momentum=0.1, affine=True, track_running_stats=True)\n",
            "    (2): ReLU(inplace=True)\n",
            "    (3): MaxPool2d(kernel_size=2, stride=2, padding=0, dilation=1, ceil_mode=False)\n",
            "    (4): Conv2d(10, 15, kernel_size=(3, 3), stride=(1, 1), padding=(1, 1))\n",
            "    (5): BatchNorm2d(15, eps=1e-05, momentum=0.1, affine=True, track_running_stats=True)\n",
            "    (6): ReLU(inplace=True)\n",
            "    (7): MaxPool2d(kernel_size=2, stride=2, padding=0, dilation=1, ceil_mode=False)\n",
            "    (8): Conv2d(15, 10, kernel_size=(3, 3), stride=(1, 1), padding=(1, 1))\n",
            "    (9): BatchNorm2d(10, eps=1e-05, momentum=0.1, affine=True, track_running_stats=True)\n",
            "    (10): ReLU(inplace=True)\n",
            "    (11): MaxPool2d(kernel_size=2, stride=2, padding=0, dilation=1, ceil_mode=False)\n",
            "  )\n",
            "  (linear_layers): Sequential(\n",
            "    (0): Linear(in_features=7840, out_features=3, bias=True)\n",
            "  )\n",
            ")\n"
          ],
          "name": "stdout"
        }
      ]
    },
    {
      "cell_type": "markdown",
      "metadata": {
        "id": "yqx8KcuQfx1v"
      },
      "source": [
        "#### Define epoch and train the model"
      ],
      "id": "yqx8KcuQfx1v"
    },
    {
      "cell_type": "code",
      "metadata": {
        "id": "35d4c0d5"
      },
      "source": [
        "epoch = 30"
      ],
      "id": "35d4c0d5",
      "execution_count": null,
      "outputs": []
    },
    {
      "cell_type": "code",
      "metadata": {
        "colab": {
          "base_uri": "https://localhost:8080/"
        },
        "id": "56455dbc",
        "outputId": "e9785aff-19d7-487c-fb19-674a29fadd33"
      },
      "source": [
        "for i in range(epoch):\n",
        "    running_loss = 0\n",
        "    for images, labels in train_loader:\n",
        "        if torch.cuda.is_available():\n",
        "            images = images.cuda()\n",
        "            labels = labels.cuda()\n",
        "        \n",
        "        # Training pass\n",
        "        optimizer.zero_grad()\n",
        "\n",
        "        output = model(images)\n",
        "        loss = criterion(output, labels)\n",
        "\n",
        "        #This is where the model learns by backpropagating\n",
        "        loss.backward()\n",
        "\n",
        "        #And optimizes its weights here\n",
        "        optimizer.step()\n",
        "\n",
        "        running_loss += loss.item()\n",
        "    print(\"Epoch {} - Training loss: {}\".format(i+1, running_loss/len(train_loader)))"
      ],
      "id": "56455dbc",
      "execution_count": null,
      "outputs": [
        {
          "output_type": "stream",
          "text": [
            "/usr/local/lib/python3.7/dist-packages/PIL/Image.py:960: UserWarning: Palette images with Transparency expressed in bytes should be converted to RGBA images\n",
            "  \"Palette images with Transparency expressed in bytes should be \"\n"
          ],
          "name": "stderr"
        },
        {
          "output_type": "stream",
          "text": [
            "Epoch 1 - Training loss: 0.025313988452156384\n",
            "Epoch 2 - Training loss: 0.021342741201321284\n",
            "Epoch 3 - Training loss: 0.01492061565319697\n",
            "Epoch 4 - Training loss: 0.031265043374150994\n",
            "Epoch 5 - Training loss: 0.02179952214161555\n",
            "Epoch 6 - Training loss: 0.02370212849540015\n",
            "Epoch 7 - Training loss: 0.009206969384104013\n",
            "Epoch 8 - Training loss: 0.00887122560137262\n",
            "Epoch 9 - Training loss: 0.006829369176800052\n",
            "Epoch 10 - Training loss: 0.011328218132257461\n",
            "Epoch 11 - Training loss: 0.014299566089175642\n",
            "Epoch 12 - Training loss: 0.014199318954100211\n",
            "Epoch 13 - Training loss: 0.041089623079945646\n",
            "Epoch 14 - Training loss: 0.12007041238248348\n",
            "Epoch 15 - Training loss: 0.07774036390086016\n",
            "Epoch 16 - Training loss: 0.033834940272693834\n",
            "Epoch 17 - Training loss: 0.07370673135543863\n",
            "Epoch 18 - Training loss: 0.05201400135799001\n",
            "Epoch 19 - Training loss: 0.02019223803654313\n",
            "Epoch 20 - Training loss: 0.030335749802179634\n",
            "Epoch 21 - Training loss: 0.031358201048957805\n",
            "Epoch 22 - Training loss: 0.01292275582284977\n",
            "Epoch 23 - Training loss: 0.01800601667103668\n",
            "Epoch 24 - Training loss: 0.043704876598591604\n",
            "Epoch 25 - Training loss: 0.05601788721978664\n",
            "Epoch 26 - Training loss: 0.1149401674978435\n",
            "Epoch 27 - Training loss: 0.2800035920614998\n",
            "Epoch 28 - Training loss: 0.22660874910652637\n",
            "Epoch 29 - Training loss: 0.20433665812015533\n",
            "Epoch 30 - Training loss: 0.12950187555203835\n"
          ],
          "name": "stdout"
        }
      ]
    },
    {
      "cell_type": "markdown",
      "metadata": {
        "id": "o41vv_F5f0P9"
      },
      "source": [
        "#### Setting model in eval mode and checking model accuracy"
      ],
      "id": "o41vv_F5f0P9"
    },
    {
      "cell_type": "code",
      "metadata": {
        "colab": {
          "base_uri": "https://localhost:8080/"
        },
        "id": "18af8c27",
        "outputId": "b51f6e4e-322a-4d38-bc9c-572fe513df17"
      },
      "source": [
        "model.eval()\n",
        "# getting predictions on test set and measuring the performance\n",
        "l = []\n",
        "p = []\n",
        "for images,labels in train_loader:\n",
        "    for i in range(len(labels)):\n",
        "        if torch.cuda.is_available():\n",
        "            images = images.cuda()\n",
        "            labels = labels.cuda()\n",
        "        img = images[i].view(1, 3, 224, 224)\n",
        "        with torch.no_grad():\n",
        "            logps = model(img)\n",
        "\n",
        "\n",
        "        ps = torch.exp(logps)\n",
        "        probab = list(ps.cpu()[0])\n",
        "        pred_label = probab.index(max(probab))\n",
        "        true_label = labels.cpu()[i]\n",
        "        true_label = true_label.item()\n",
        "        l.append(true_label)\n",
        "        p.append(pred_label)\n",
        "\n",
        "print(\"Number Of Images Tested =\", len(l))\n",
        "print(\"\\nModel Accuracy = {:.3f}%\".format(100*metrics.accuracy_score(l, p)) )"
      ],
      "id": "18af8c27",
      "execution_count": null,
      "outputs": [
        {
          "output_type": "stream",
          "text": [
            "/usr/local/lib/python3.7/dist-packages/PIL/Image.py:960: UserWarning: Palette images with Transparency expressed in bytes should be converted to RGBA images\n",
            "  \"Palette images with Transparency expressed in bytes should be \"\n"
          ],
          "name": "stderr"
        },
        {
          "output_type": "stream",
          "text": [
            "Number Of Images Tested = 479\n",
            "\n",
            "Model Accuracy = 98.747%\n"
          ],
          "name": "stdout"
        }
      ]
    },
    {
      "cell_type": "markdown",
      "metadata": {
        "id": "UtPsxSI_f5j6"
      },
      "source": [
        "#### Saving model for future use"
      ],
      "id": "UtPsxSI_f5j6"
    },
    {
      "cell_type": "code",
      "metadata": {
        "id": "z318o2-nwJ0c"
      },
      "source": [
        "torch.save(model.state_dict(), '/content/drive/MyDrive/Dataset/food_model.pth')"
      ],
      "id": "z318o2-nwJ0c",
      "execution_count": null,
      "outputs": []
    },
    {
      "cell_type": "markdown",
      "metadata": {
        "id": "xIeZiWmIf8kp"
      },
      "source": [
        "#### Testing the saved model (no need to run)\n"
      ],
      "id": "xIeZiWmIf8kp"
    },
    {
      "cell_type": "code",
      "metadata": {
        "colab": {
          "base_uri": "https://localhost:8080/"
        },
        "id": "2o4uFmSvzUp1",
        "outputId": "898d1d45-1675-4464-e0d0-89788d964309"
      },
      "source": [
        "test_model = Net()\n",
        "test_model.load_state_dict(torch.load('/content/drive/MyDrive/Dataset/food_model.pth'))\n",
        "if torch.cuda.is_available():\n",
        "    test_model = test_model.cuda()\n",
        "test_model.eval()"
      ],
      "id": "2o4uFmSvzUp1",
      "execution_count": null,
      "outputs": [
        {
          "output_type": "execute_result",
          "data": {
            "text/plain": [
              "Net(\n",
              "  (cnn_layers): Sequential(\n",
              "    (0): Conv2d(3, 10, kernel_size=(3, 3), stride=(1, 1), padding=(1, 1))\n",
              "    (1): BatchNorm2d(10, eps=1e-05, momentum=0.1, affine=True, track_running_stats=True)\n",
              "    (2): ReLU(inplace=True)\n",
              "    (3): MaxPool2d(kernel_size=2, stride=2, padding=0, dilation=1, ceil_mode=False)\n",
              "    (4): Conv2d(10, 15, kernel_size=(3, 3), stride=(1, 1), padding=(1, 1))\n",
              "    (5): BatchNorm2d(15, eps=1e-05, momentum=0.1, affine=True, track_running_stats=True)\n",
              "    (6): ReLU(inplace=True)\n",
              "    (7): MaxPool2d(kernel_size=2, stride=2, padding=0, dilation=1, ceil_mode=False)\n",
              "    (8): Conv2d(15, 10, kernel_size=(3, 3), stride=(1, 1), padding=(1, 1))\n",
              "    (9): BatchNorm2d(10, eps=1e-05, momentum=0.1, affine=True, track_running_stats=True)\n",
              "    (10): ReLU(inplace=True)\n",
              "    (11): MaxPool2d(kernel_size=2, stride=2, padding=0, dilation=1, ceil_mode=False)\n",
              "  )\n",
              "  (linear_layers): Sequential(\n",
              "    (0): Linear(in_features=7840, out_features=3, bias=True)\n",
              "  )\n",
              ")"
            ]
          },
          "metadata": {
            "tags": []
          },
          "execution_count": 14
        }
      ]
    },
    {
      "cell_type": "code",
      "metadata": {
        "colab": {
          "base_uri": "https://localhost:8080/"
        },
        "id": "9Zd-QqqpzZhK",
        "outputId": "4b04ef89-f188-47ee-ba8d-d3fb69843f7f"
      },
      "source": [
        "# getting predictions on test set and measuring the performance\n",
        "l = []\n",
        "p = []\n",
        "for images,labels in train_loader:\n",
        "    for i in range(len(labels)):\n",
        "        if torch.cuda.is_available():\n",
        "            images = images.cuda()\n",
        "            labels = labels.cuda()\n",
        "        img = images[i].view(1, 3, 224, 224)\n",
        "        with torch.no_grad():\n",
        "            logps = test_model(img)\n",
        "\n",
        "\n",
        "        ps = torch.exp(logps)\n",
        "        probab = list(ps.cpu()[0])\n",
        "        pred_label = probab.index(max(probab))\n",
        "        true_label = labels.cpu()[i]\n",
        "        true_label = true_label.item()\n",
        "        l.append(true_label)\n",
        "        p.append(pred_label)\n",
        "\n",
        "print(\"Number Of Images Tested =\", len(l))\n",
        "print(\"\\nModel Accuracy = {:.3f}%\".format(100*metrics.accuracy_score(l, p)) )"
      ],
      "id": "9Zd-QqqpzZhK",
      "execution_count": null,
      "outputs": [
        {
          "output_type": "stream",
          "text": [
            "/usr/local/lib/python3.7/dist-packages/PIL/Image.py:960: UserWarning: Palette images with Transparency expressed in bytes should be converted to RGBA images\n",
            "  \"Palette images with Transparency expressed in bytes should be \"\n"
          ],
          "name": "stderr"
        },
        {
          "output_type": "stream",
          "text": [
            "Number Of Images Tested = 479\n",
            "\n",
            "Model Accuracy = 98.747%\n"
          ],
          "name": "stdout"
        }
      ]
    }
  ]
}
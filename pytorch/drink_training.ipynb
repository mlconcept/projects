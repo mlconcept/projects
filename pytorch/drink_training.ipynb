{
  "nbformat": 4,
  "nbformat_minor": 5,
  "metadata": {
    "kernelspec": {
      "name": "python3",
      "display_name": "Python 3.8.8 64-bit ('base': conda)"
    },
    "language_info": {
      "codemirror_mode": {
        "name": "ipython",
        "version": 3
      },
      "file_extension": ".py",
      "mimetype": "text/x-python",
      "name": "python",
      "nbconvert_exporter": "python",
      "pygments_lexer": "ipython3",
      "version": "3.8.8"
    },
    "colab": {
      "name": "drink_training.ipynb",
      "provenance": [],
      "collapsed_sections": [
        "ruRcRjIadYOj",
        "faYsBo4teAcj",
        "UxyxiJGBeL3B",
        "thluOWJpefpi"
      ]
    },
    "accelerator": "GPU",
    "interpreter": {
      "hash": "b3ba2566441a7c06988d0923437866b63cedc61552a5af99d1f4fb67d367b25f"
    }
  },
  "cells": [
    {
      "cell_type": "markdown",
      "source": [
        "#### Importing Required Library"
      ],
      "metadata": {
        "id": "ruRcRjIadYOj"
      }
    },
    {
      "cell_type": "code",
      "execution_count": 1,
      "source": [
        "import os\r\n",
        "import sys\r\n",
        "import datetime\r\n",
        "import time\r\n",
        "import math\r\n",
        "import json\r\n",
        "from pathlib import Path\r\n",
        "\r\n",
        "import numpy as np\r\n",
        "from PIL import Image\r\n",
        "from torch import optim\r\n",
        "import torch\r\n",
        "import torch.nn as nn\r\n",
        "import torch.distributed as dist`\r\n",
        "import torch.backends.cudnn as cudnn\r\n",
        "import torch.nn.functional as F\r\n",
        "from torchvision import datasets, transforms\r\n",
        "from torchvision import models as torchvision_models\r\n",
        "from sklearn import metrics\r\n",
        "import matplotlib.pyplot as plt\r\n",
        "import torchvision"
      ],
      "outputs": [],
      "metadata": {
        "id": "cafaba82"
      }
    },
    {
      "cell_type": "markdown",
      "source": [
        "#### Mounting my drive to access the dataset"
      ],
      "metadata": {
        "id": "dwCAF_ArdkZq"
      }
    },
    {
      "cell_type": "code",
      "execution_count": null,
      "source": [
        "from google.colab import drive\r\n",
        "drive.mount('/content/drive')"
      ],
      "outputs": [
        {
          "output_type": "stream",
          "name": "stdout",
          "text": [
            "Mounted at /content/drive\n"
          ]
        }
      ],
      "metadata": {
        "colab": {
          "base_uri": "https://localhost:8080/"
        },
        "id": "BXsizGOIofFl",
        "outputId": "15d80586-3734-49b0-baab-6159c10109f8"
      }
    },
    {
      "cell_type": "markdown",
      "source": [
        "#### Providing datapath"
      ],
      "metadata": {
        "id": "qtLeCdS1dse-"
      }
    },
    {
      "cell_type": "code",
      "execution_count": null,
      "source": [
        "data_path = '/content/drive/MyDrive/Dataset/'\n",
        "batch_size = 32"
      ],
      "outputs": [],
      "metadata": {
        "id": "d1526a8e"
      }
    },
    {
      "cell_type": "markdown",
      "source": [
        "#### Defining data transforms and data loader"
      ],
      "metadata": {
        "id": "fnIr-D8RdwhK"
      }
    },
    {
      "cell_type": "code",
      "execution_count": null,
      "source": [
        "transform = transforms.Compose([\r\n",
        "        transforms.Resize(256, interpolation=3),\r\n",
        "        transforms.CenterCrop(224),\r\n",
        "        transforms.ToTensor(),\r\n",
        "        transforms.Normalize((0.485, 0.456, 0.406), (0.229, 0.224, 0.225)),\r\n",
        "    ])\r\n",
        "\r\n",
        "dataset_train = datasets.ImageFolder(os.path.join(data_path, \"drink\"), transform=transform)\r\n",
        "\r\n",
        "train_loader = torch.utils.data.DataLoader(\r\n",
        "    dataset_train,\r\n",
        "    batch_size=batch_size,\r\n",
        "    shuffle=True\r\n",
        ")\r\n",
        "\r\n",
        "print(f\"Data loaded with {len(dataset_train)} train imgs.\")\r\n"
      ],
      "outputs": [
        {
          "output_type": "stream",
          "name": "stderr",
          "text": [
            "/usr/local/lib/python3.7/dist-packages/torchvision/transforms/transforms.py:281: UserWarning: Argument interpolation should be of type InterpolationMode instead of int. Please, use InterpolationMode enum.\n",
            "  \"Argument interpolation should be of type InterpolationMode instead of int. \"\n"
          ]
        },
        {
          "output_type": "stream",
          "name": "stdout",
          "text": [
            "Data loaded with 518 train imgs.\n"
          ]
        }
      ],
      "metadata": {
        "colab": {
          "base_uri": "https://localhost:8080/"
        },
        "id": "6532ebf2",
        "outputId": "eff7dc6a-2fa8-479a-e424-954a40d340f3"
      }
    },
    {
      "cell_type": "markdown",
      "source": [
        "#### Defining Model"
      ],
      "metadata": {
        "id": "jdgc2dRUd72C"
      }
    },
    {
      "cell_type": "code",
      "execution_count": null,
      "source": [
        "class Net(nn.Module):\n",
        "    def __init__(self):\n",
        "        super(Net, self).__init__()\n",
        "        \n",
        "        self.cnn_layers = nn.Sequential(\n",
        "            # Defining a 2D convolution layer\n",
        "            nn.Conv2d(3, 10, kernel_size=3, stride=1, padding=1),\n",
        "            nn.BatchNorm2d(10),\n",
        "            nn.ReLU(inplace=True),\n",
        "            nn.MaxPool2d(kernel_size=2, stride=2),\n",
        "            \n",
        "            # Defining another 2D convolution layer\n",
        "            nn.Conv2d(10, 15, kernel_size=3, stride=1, padding=1),\n",
        "            nn.BatchNorm2d(15),\n",
        "            nn.ReLU(inplace=True),\n",
        "            nn.MaxPool2d(kernel_size=2, stride=2),\n",
        "            \n",
        "            nn.Conv2d(15, 10, kernel_size=3, stride=1, padding=1),\n",
        "            nn.BatchNorm2d(10),\n",
        "            nn.ReLU(inplace=True),\n",
        "            nn.MaxPool2d(kernel_size=2, stride=2),\n",
        "            \n",
        "      )\n",
        "\n",
        "        self.linear_layers = nn.Sequential(\n",
        "            \n",
        "          nn.Linear(10 * 28 * 28, 3)\n",
        "      )\n",
        "\n",
        "  # Defining the forward pass    \n",
        "    def forward(self, x):\n",
        "        x = self.cnn_layers(x)\n",
        "        x = x.view(x.size(0), -1)\n",
        "        x = self.linear_layers(x)\n",
        "        return x"
      ],
      "outputs": [],
      "metadata": {
        "id": "24386ea4"
      }
    },
    {
      "cell_type": "code",
      "execution_count": null,
      "source": [
        "model = Net()\n",
        "print(model)"
      ],
      "outputs": [
        {
          "output_type": "stream",
          "name": "stdout",
          "text": [
            "Net(\n",
            "  (cnn_layers): Sequential(\n",
            "    (0): Conv2d(3, 10, kernel_size=(3, 3), stride=(1, 1), padding=(1, 1))\n",
            "    (1): BatchNorm2d(10, eps=1e-05, momentum=0.1, affine=True, track_running_stats=True)\n",
            "    (2): ReLU(inplace=True)\n",
            "    (3): MaxPool2d(kernel_size=2, stride=2, padding=0, dilation=1, ceil_mode=False)\n",
            "    (4): Conv2d(10, 15, kernel_size=(3, 3), stride=(1, 1), padding=(1, 1))\n",
            "    (5): BatchNorm2d(15, eps=1e-05, momentum=0.1, affine=True, track_running_stats=True)\n",
            "    (6): ReLU(inplace=True)\n",
            "    (7): MaxPool2d(kernel_size=2, stride=2, padding=0, dilation=1, ceil_mode=False)\n",
            "    (8): Conv2d(15, 10, kernel_size=(3, 3), stride=(1, 1), padding=(1, 1))\n",
            "    (9): BatchNorm2d(10, eps=1e-05, momentum=0.1, affine=True, track_running_stats=True)\n",
            "    (10): ReLU(inplace=True)\n",
            "    (11): MaxPool2d(kernel_size=2, stride=2, padding=0, dilation=1, ceil_mode=False)\n",
            "  )\n",
            "  (linear_layers): Sequential(\n",
            "    (0): Linear(in_features=7840, out_features=3, bias=True)\n",
            "  )\n",
            ")\n"
          ]
        }
      ],
      "metadata": {
        "colab": {
          "base_uri": "https://localhost:8080/"
        },
        "id": "0e033bb6",
        "outputId": "44a7e0eb-7805-4175-e59d-16a61b7d4330"
      }
    },
    {
      "cell_type": "markdown",
      "source": [
        "#### Setting up the optimizer and loss function"
      ],
      "metadata": {
        "id": "faYsBo4teAcj"
      }
    },
    {
      "cell_type": "code",
      "execution_count": null,
      "source": [
        "# defining the optimizer\n",
        "optimizer = optim.Adam(model.parameters(), lr=0.01)\n",
        "# defining the loss function\n",
        "criterion = nn.CrossEntropyLoss()\n",
        "# checking if GPU is available\n",
        "if torch.cuda.is_available():\n",
        "    model = model.cuda()\n",
        "    criterion = criterion.cuda()"
      ],
      "outputs": [],
      "metadata": {
        "id": "c689d25a"
      }
    },
    {
      "cell_type": "markdown",
      "source": [
        "#### Define epoch and train the model"
      ],
      "metadata": {
        "id": "480ZbB_0eHSk"
      }
    },
    {
      "cell_type": "code",
      "execution_count": null,
      "source": [
        "epoch = 50"
      ],
      "outputs": [],
      "metadata": {
        "id": "35d4c0d5"
      }
    },
    {
      "cell_type": "code",
      "execution_count": null,
      "source": [
        "model.train()\n",
        "for i in range(epoch):\n",
        "    running_loss = 0\n",
        "    for images, labels in train_loader:\n",
        "        if torch.cuda.is_available():\n",
        "            images = images.cuda()\n",
        "            labels = labels.cuda()\n",
        "        \n",
        "        # Training pass\n",
        "        optimizer.zero_grad()\n",
        "\n",
        "        output = model(images)\n",
        "        loss = criterion(output, labels)\n",
        "\n",
        "        #This is where the model learns by backpropagating\n",
        "        loss.backward()\n",
        "\n",
        "        #And optimizes its weights here\n",
        "        optimizer.step()\n",
        "\n",
        "        running_loss += loss.item()\n",
        "    print(\"Epoch {} - Training loss: {}\".format(i+1, running_loss/len(train_loader)))"
      ],
      "outputs": [
        {
          "output_type": "stream",
          "name": "stderr",
          "text": [
            "/usr/local/lib/python3.7/dist-packages/torch/nn/functional.py:718: UserWarning: Named tensors and all their associated APIs are an experimental feature and subject to change. Please do not use them for anything important until they are released as stable. (Triggered internally at  /pytorch/c10/core/TensorImpl.h:1156.)\n",
            "  return torch.max_pool2d(input, kernel_size, stride, padding, dilation, ceil_mode)\n",
            "/usr/local/lib/python3.7/dist-packages/PIL/Image.py:960: UserWarning: Palette images with Transparency expressed in bytes should be converted to RGBA images\n",
            "  \"Palette images with Transparency expressed in bytes should be \"\n"
          ]
        },
        {
          "output_type": "stream",
          "name": "stdout",
          "text": [
            "Epoch 1 - Training loss: 17.70294719583848\n",
            "Epoch 2 - Training loss: 5.39421540148118\n",
            "Epoch 3 - Training loss: 2.791917793891009\n",
            "Epoch 4 - Training loss: 1.6851297003381394\n",
            "Epoch 5 - Training loss: 1.1528698801994324\n",
            "Epoch 6 - Training loss: 0.8893949459580814\n",
            "Epoch 7 - Training loss: 0.8194494878544527\n",
            "Epoch 8 - Training loss: 0.9048212205662447\n",
            "Epoch 9 - Training loss: 0.7461813951239866\n",
            "Epoch 10 - Training loss: 0.5868288506479824\n",
            "Epoch 11 - Training loss: 0.5389867091880125\n",
            "Epoch 12 - Training loss: 0.5056764395797954\n",
            "Epoch 13 - Training loss: 0.4280119678553413\n",
            "Epoch 14 - Training loss: 0.40128494010252114\n",
            "Epoch 15 - Training loss: 0.4047039720941992\n",
            "Epoch 16 - Training loss: 0.4608104167615666\n",
            "Epoch 17 - Training loss: 0.5187408827683505\n",
            "Epoch 18 - Training loss: 0.41501541435718536\n",
            "Epoch 19 - Training loss: 0.2674281899543369\n",
            "Epoch 20 - Training loss: 0.23686854870003812\n",
            "Epoch 21 - Training loss: 0.21487935676294215\n",
            "Epoch 22 - Training loss: 0.17152070385568283\n",
            "Epoch 23 - Training loss: 0.09937677455737311\n",
            "Epoch 24 - Training loss: 0.10538127234972575\n",
            "Epoch 25 - Training loss: 0.10521510583074654\n",
            "Epoch 26 - Training loss: 0.16277764124028823\n",
            "Epoch 27 - Training loss: 0.12063642733675592\n",
            "Epoch 28 - Training loss: 0.1334279156563913\n",
            "Epoch 29 - Training loss: 0.13354979203466108\n",
            "Epoch 30 - Training loss: 0.19220422372660217\n",
            "Epoch 31 - Training loss: 0.4380972284604521\n",
            "Epoch 32 - Training loss: 0.8477335090146345\n",
            "Epoch 33 - Training loss: 0.3239307245787452\n",
            "Epoch 34 - Training loss: 0.17094461817075224\n",
            "Epoch 35 - Training loss: 0.11157609237467542\n",
            "Epoch 36 - Training loss: 0.10256219195092425\n",
            "Epoch 37 - Training loss: 0.12117944855023832\n",
            "Epoch 38 - Training loss: 0.05790763835915748\n",
            "Epoch 39 - Training loss: 0.030653905205647734\n",
            "Epoch 40 - Training loss: 0.019084091900902635\n",
            "Epoch 41 - Training loss: 0.030040919452029115\n",
            "Epoch 42 - Training loss: 0.057976137572789896\n",
            "Epoch 43 - Training loss: 0.036065862267552054\n",
            "Epoch 44 - Training loss: 0.025044366443420157\n",
            "Epoch 45 - Training loss: 0.03689897156608127\n",
            "Epoch 46 - Training loss: 0.020055968643111342\n",
            "Epoch 47 - Training loss: 0.020646069267326417\n",
            "Epoch 48 - Training loss: 0.010765497798702735\n",
            "Epoch 49 - Training loss: 0.019222799051717362\n",
            "Epoch 50 - Training loss: 0.27531014851239677\n"
          ]
        }
      ],
      "metadata": {
        "colab": {
          "base_uri": "https://localhost:8080/"
        },
        "id": "56455dbc",
        "outputId": "8c5a4ec3-0326-49be-ac9c-8b5667bd5fb6"
      }
    },
    {
      "cell_type": "markdown",
      "source": [
        "#### Setting model in eval mode and checking model accuracy"
      ],
      "metadata": {
        "id": "UxyxiJGBeL3B"
      }
    },
    {
      "cell_type": "code",
      "execution_count": null,
      "source": [
        "model.eval()"
      ],
      "outputs": [
        {
          "output_type": "execute_result",
          "data": {
            "text/plain": [
              "Net(\n",
              "  (cnn_layers): Sequential(\n",
              "    (0): Conv2d(3, 10, kernel_size=(3, 3), stride=(1, 1), padding=(1, 1))\n",
              "    (1): BatchNorm2d(10, eps=1e-05, momentum=0.1, affine=True, track_running_stats=True)\n",
              "    (2): ReLU(inplace=True)\n",
              "    (3): MaxPool2d(kernel_size=2, stride=2, padding=0, dilation=1, ceil_mode=False)\n",
              "    (4): Conv2d(10, 15, kernel_size=(3, 3), stride=(1, 1), padding=(1, 1))\n",
              "    (5): BatchNorm2d(15, eps=1e-05, momentum=0.1, affine=True, track_running_stats=True)\n",
              "    (6): ReLU(inplace=True)\n",
              "    (7): MaxPool2d(kernel_size=2, stride=2, padding=0, dilation=1, ceil_mode=False)\n",
              "    (8): Conv2d(15, 10, kernel_size=(3, 3), stride=(1, 1), padding=(1, 1))\n",
              "    (9): BatchNorm2d(10, eps=1e-05, momentum=0.1, affine=True, track_running_stats=True)\n",
              "    (10): ReLU(inplace=True)\n",
              "    (11): MaxPool2d(kernel_size=2, stride=2, padding=0, dilation=1, ceil_mode=False)\n",
              "  )\n",
              "  (linear_layers): Sequential(\n",
              "    (0): Linear(in_features=7840, out_features=3, bias=True)\n",
              "  )\n",
              ")"
            ]
          },
          "metadata": {
            "tags": []
          },
          "execution_count": 21
        }
      ],
      "metadata": {
        "colab": {
          "base_uri": "https://localhost:8080/"
        },
        "id": "mzpRSUBTyhis",
        "outputId": "b8a2ce56-0657-471a-8db8-776f31be73ee"
      }
    },
    {
      "cell_type": "code",
      "execution_count": null,
      "source": [
        "# getting predictions on training set and measuring the performance\n",
        "l = []\n",
        "p = []\n",
        "for images,labels in train_loader:\n",
        "    for i in range(len(labels)):\n",
        "        if torch.cuda.is_available():\n",
        "            images = images.cuda()\n",
        "            labels = labels.cuda()\n",
        "        img = images[i].view(1, 3, 224, 224)\n",
        "        with torch.no_grad():\n",
        "            logps = model(img)\n",
        "\n",
        "\n",
        "        ps = torch.exp(logps)\n",
        "        probab = list(ps.cpu()[0])\n",
        "        pred_label = probab.index(max(probab))\n",
        "        true_label = labels.cpu()[i]\n",
        "        true_label = true_label.item()\n",
        "        l.append(true_label)\n",
        "        p.append(pred_label)\n",
        "\n",
        "print(\"Number Of Images Tested =\", len(l))\n",
        "print(\"\\nModel Accuracy = {:.3f}%\".format(100*metrics.accuracy_score(l, p)) )"
      ],
      "outputs": [
        {
          "output_type": "stream",
          "name": "stderr",
          "text": [
            "/usr/local/lib/python3.7/dist-packages/PIL/Image.py:960: UserWarning: Palette images with Transparency expressed in bytes should be converted to RGBA images\n",
            "  \"Palette images with Transparency expressed in bytes should be \"\n"
          ]
        },
        {
          "output_type": "stream",
          "name": "stdout",
          "text": [
            "Number Of Images Tested = 518\n",
            "\n",
            "Model Accuracy = 94.402%\n"
          ]
        }
      ],
      "metadata": {
        "colab": {
          "base_uri": "https://localhost:8080/"
        },
        "id": "18af8c27",
        "outputId": "8748cc84-0608-42d4-e16c-8803380c1fcf"
      }
    },
    {
      "cell_type": "markdown",
      "source": [
        "#### Saving model for future use"
      ],
      "metadata": {
        "id": "kGC_WJIteVwx"
      }
    },
    {
      "cell_type": "code",
      "execution_count": null,
      "source": [
        "torch.save(model.state_dict(), '/content/drive/MyDrive/Dataset/drink_model.pth')"
      ],
      "outputs": [],
      "metadata": {
        "id": "TVdlO3iGwGpN"
      }
    },
    {
      "cell_type": "markdown",
      "source": [
        "#### Testing the saved model (no need to run)"
      ],
      "metadata": {
        "id": "cftdO2LBeaE9"
      }
    },
    {
      "cell_type": "code",
      "execution_count": null,
      "source": [
        "test_model = Net()\n",
        "test_model.load_state_dict(torch.load('/content/drive/MyDrive/Dataset/drink_model.pth'))\n",
        "if torch.cuda.is_available():\n",
        "    test_model = test_model.cuda()\n",
        "test_model.eval()"
      ],
      "outputs": [
        {
          "output_type": "execute_result",
          "data": {
            "text/plain": [
              "Net(\n",
              "  (cnn_layers): Sequential(\n",
              "    (0): Conv2d(3, 10, kernel_size=(3, 3), stride=(1, 1), padding=(1, 1))\n",
              "    (1): BatchNorm2d(10, eps=1e-05, momentum=0.1, affine=True, track_running_stats=True)\n",
              "    (2): ReLU(inplace=True)\n",
              "    (3): MaxPool2d(kernel_size=2, stride=2, padding=0, dilation=1, ceil_mode=False)\n",
              "    (4): Conv2d(10, 15, kernel_size=(3, 3), stride=(1, 1), padding=(1, 1))\n",
              "    (5): BatchNorm2d(15, eps=1e-05, momentum=0.1, affine=True, track_running_stats=True)\n",
              "    (6): ReLU(inplace=True)\n",
              "    (7): MaxPool2d(kernel_size=2, stride=2, padding=0, dilation=1, ceil_mode=False)\n",
              "    (8): Conv2d(15, 10, kernel_size=(3, 3), stride=(1, 1), padding=(1, 1))\n",
              "    (9): BatchNorm2d(10, eps=1e-05, momentum=0.1, affine=True, track_running_stats=True)\n",
              "    (10): ReLU(inplace=True)\n",
              "    (11): MaxPool2d(kernel_size=2, stride=2, padding=0, dilation=1, ceil_mode=False)\n",
              "  )\n",
              "  (linear_layers): Sequential(\n",
              "    (0): Linear(in_features=7840, out_features=3, bias=True)\n",
              "  )\n",
              ")"
            ]
          },
          "metadata": {
            "tags": []
          },
          "execution_count": 24
        }
      ],
      "metadata": {
        "colab": {
          "base_uri": "https://localhost:8080/"
        },
        "id": "SQSw4jX6xbah",
        "outputId": "265580a5-b0dc-4eaa-9f2f-f1d1326f477e"
      }
    },
    {
      "cell_type": "code",
      "execution_count": null,
      "source": [
        "# getting predictions on test set and measuring the performance\n",
        "l = []\n",
        "p = []\n",
        "for images,labels in train_loader:\n",
        "    for i in range(len(labels)):\n",
        "        if torch.cuda.is_available():\n",
        "            images = images.cuda()\n",
        "            labels = labels.cuda()\n",
        "        img = images[i].view(1, 3, 224, 224)\n",
        "        with torch.no_grad():\n",
        "            logps = test_model(img)\n",
        "\n",
        "\n",
        "        ps = torch.exp(logps)\n",
        "        probab = list(ps.cpu()[0])\n",
        "        pred_label = probab.index(max(probab))\n",
        "        true_label = labels.cpu()[i]\n",
        "        true_label = true_label.item()\n",
        "        l.append(true_label)\n",
        "        p.append(pred_label)\n",
        "\n",
        "print(\"Number Of Images Tested =\", len(l))\n",
        "print(\"\\nModel Accuracy = {:.3f}%\".format(100*metrics.accuracy_score(l, p)) )"
      ],
      "outputs": [
        {
          "output_type": "stream",
          "name": "stderr",
          "text": [
            "/usr/local/lib/python3.7/dist-packages/PIL/Image.py:960: UserWarning: Palette images with Transparency expressed in bytes should be converted to RGBA images\n",
            "  \"Palette images with Transparency expressed in bytes should be \"\n"
          ]
        },
        {
          "output_type": "stream",
          "name": "stdout",
          "text": [
            "Number Of Images Tested = 518\n",
            "\n",
            "Model Accuracy = 94.402%\n"
          ]
        }
      ],
      "metadata": {
        "colab": {
          "base_uri": "https://localhost:8080/"
        },
        "id": "9VXD_348xz0G",
        "outputId": "d17f7402-1b30-4c8f-f704-bc8cf667f3fd"
      }
    },
    {
      "cell_type": "markdown",
      "source": [
        "#### Function to plot the training images"
      ],
      "metadata": {
        "id": "thluOWJpefpi"
      }
    },
    {
      "cell_type": "code",
      "execution_count": null,
      "source": [
        "from matplotlib.pyplot import imshow\n",
        "def display_image(img):\n",
        "  img = img.cpu()\n",
        "  img = img.squeeze(0)\n",
        "  img = img.permute(1,2,0)\n",
        "  img = (img-img.min())/(img.max() - img.min())\n",
        "  img = np.array(img*255, dtype=np.uint8)\n",
        "  img = Image.fromarray(img)\n",
        "  imshow(img)"
      ],
      "outputs": [],
      "metadata": {
        "id": "MZoaCAYwyPD7"
      }
    },
    {
      "cell_type": "code",
      "execution_count": null,
      "source": [
        "# getting predictions on test set and measuring the performance\n",
        "l = []\n",
        "p = []\n",
        "for images,labels in train_loader:\n",
        "  for i in range(len(labels)):\n",
        "    if torch.cuda.is_available():\n",
        "      images = images.cuda()\n",
        "      labels = labels.cuda()\n",
        "    img = images[i].view(1, 3, 224, 224)\n",
        "    with torch.no_grad():\n",
        "      logps = test_model(img)\n",
        "\n",
        "\n",
        "    ps = torch.exp(logps)\n",
        "    probab = list(ps.cpu()[0])\n",
        "    pred_label = probab.index(max(probab))\n",
        "    true_label = labels.cpu()[i]\n",
        "    true_label = true_label.item()\n",
        "    if(true_label == 2):\n",
        "      display_image(img)\n",
        "      break\n",
        "  break"
      ],
      "outputs": [
        {
          "output_type": "display_data",
          "data": {
            "text/plain": [
              "<Figure size 432x288 with 1 Axes>"
            ],
            "image/png": "[encoded data removed]"
          },
          "metadata": {
            "tags": [],
            "needs_background": "light"
          }
        }
      ],
      "metadata": {
        "colab": {
          "base_uri": "https://localhost:8080/",
          "height": 269
        },
        "id": "QUNmRp8NAvrE",
        "outputId": "3caf512e-5328-46c5-8455-9788c0ac9482"
      }
    },
    {
      "cell_type": "code",
      "execution_count": null,
      "source": [],
      "outputs": [],
      "metadata": {
        "id": "xpykUP0xAzZZ"
      }
    }
  ]
}